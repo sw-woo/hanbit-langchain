{
 "cells": [
  {
   "cell_type": "markdown",
   "id": "443d3330-42d1-4112-9df8-f7c6c602186c",
   "metadata": {},
   "source": [
    "### Chapter 16. advanced rag 구축 - 2 multiquery +rag Fusion"
   ]
  },
  {
   "cell_type": "code",
   "execution_count": 10,
   "id": "984ea28a-103c-4c2c-bd45-7ee2f83e0e1e",
   "metadata": {},
   "outputs": [],
   "source": [
    "import os\n",
    "from dotenv import load_dotenv\n",
    "load_dotenv()\n",
    "openai_api_key = os.getenv(\"OPENAI_API_KEY\")\n",
    "\n",
    "if not openai_api_key:\n",
    "    raise ValueError(\"openai api 키가 없습니다. 한번더 확인 부탁드립니다.\")\n",
    "\n",
    "os.environ['OPENAI_API_KEY'] = openai_api_key"
   ]
  },
  {
   "cell_type": "code",
   "execution_count": 11,
   "id": "1b5676c7-a041-4b79-8ff3-f36a1812d199",
   "metadata": {},
   "outputs": [],
   "source": [
    "import bs4\n",
    "from langchain import hub\n",
    "from langchain.text_splitter import RecursiveCharacterTextSplitter\n",
    "from langchain_community.document_loaders import WebBaseLoader\n",
    "from langchain_community.vectorstores import Chroma\n",
    "from langchain_core.output_parsers import StrOutputParser\n",
    "from langchain_core.runnables import RunnablePassthrough\n",
    "from langchain_openai import ChatOpenAI, OpenAIEmbeddings\n",
    "from langchain.prompts import ChatPromptTemplate\n",
    "\n",
    "#### INDEXING ####\n",
    "\n",
    "loader = WebBaseLoader(\n",
    "    web_paths=(\"https://news.naver.com/section/101\",),\n",
    "    bs_kwargs=dict(\n",
    "        parse_only=bs4.SoupStrainer(\n",
    "            class_=(\"sa_text\", \"sa_item_SECTION_HEADLINE\")\n",
    "        )\n",
    "    ),\n",
    ")\n",
    "docs = loader.load()\n",
    "\n",
    "\n",
    "# Split\n",
    "from langchain.text_splitter import RecursiveCharacterTextSplitter\n",
    "text_splitter = RecursiveCharacterTextSplitter.from_tiktoken_encoder(\n",
    "    chunk_size=300, \n",
    "    chunk_overlap=50)\n",
    "\n",
    "# Make splits\n",
    "splits = text_splitter.split_documents(docs)\n",
    "\n",
    "# Index\n",
    "from langchain_openai import OpenAIEmbeddings\n",
    "from langchain_community.vectorstores import Chroma\n",
    "vectorstore = Chroma.from_documents(documents=splits, \n",
    "                                    embedding=OpenAIEmbeddings())\n",
    "\n",
    "retriever = vectorstore.as_retriever()\n"
   ]
  },
  {
   "cell_type": "code",
   "execution_count": 12,
   "id": "a36e6f11-6f33-4dcd-a474-87c4fbd4dfb8",
   "metadata": {},
   "outputs": [],
   "source": [
    "# RAG-Fusion: 관련 검색 쿼리 생성\n",
    "\n",
    "# template = \"\"\"You are a helpful assistant that generates multiple search queries based on a single input query. \\n\n",
    "# Generate multiple search queries related to: {question} \\n\n",
    "# Output (4 queries):\"\"\"\n",
    "\n",
    "\n",
    "template = \"\"\"당신은 주어진 하나의 질문을 기반으로 여러 검색 쿼리를 생성하는 유용한 조수입니다. \\n\n",
    "다음 질문과 관련된 여러 검색 쿼리를 생성하세요: {question} \\n\n",
    "출력 (4개의 쿼리):\"\"\"\n",
    "prompt_rag_fusion = ChatPromptTemplate.from_template(template)"
   ]
  },
  {
   "cell_type": "code",
   "execution_count": 13,
   "id": "58e278d1-39ce-4633-ae44-8f276a88ab2b",
   "metadata": {},
   "outputs": [],
   "source": [
    "from langchain_core.output_parsers import StrOutputParser\n",
    "from langchain_openai import ChatOpenAI\n",
    "\n",
    "generate_queries = (\n",
    "    prompt_rag_fusion \n",
    "    | ChatOpenAI(temperature=0)\n",
    "    | StrOutputParser() \n",
    "    | (lambda x: x.split(\"\\n\"))\n",
    ")"
   ]
  },
  {
   "cell_type": "code",
   "execution_count": 14,
   "id": "b6f0d294-922f-48c8-8a96-d1ca9c31bc65",
   "metadata": {},
   "outputs": [],
   "source": [
    "from langchain.load import dumps, loads\n",
    "\n",
    "def reciprocal_rank_fusion(results: list[list], k=60, top_n=2):\n",
    "    \"\"\" \n",
    "    여러 개의 순위가 매겨진 문서 리스트를 받아, RRF(Reciprocal Rank Fusion) 공식을 사용하여\n",
    "    문서의 최종 순위를 계산하는 함수입니다. k는 RRF 공식에서 사용되는 선택적 파라미터이며,\n",
    "    top_n은 반환할 우선순위가 높은 문서의 개수입니다.\n",
    "    \"\"\"\n",
    "    \n",
    "    # 각 고유한 문서에 대한 점수를 저장할 딕셔너리를 초기화합니다.\n",
    "    fused_scores = {}\n",
    "\n",
    "    # 순위가 매겨진 문서 리스트를 순회합니다.\n",
    "    for docs in results:\n",
    "        # 리스트 내의 각 문서와 그 문서의 순위를 가져옵니다.\n",
    "        for rank, doc in enumerate(docs):\n",
    "            # 문서를 문자열 형식으로 직렬화하여 딕셔너리의 키로 사용합니다 (문서가 JSON 형식으로 직렬화될 수 있다고 가정).\n",
    "            doc_str = dumps(doc)\n",
    "            # 해당 문서가 아직 딕셔너리에 없으면 초기 점수 0으로 추가합니다.\n",
    "            if doc_str not in fused_scores:\n",
    "                fused_scores[doc_str] = 0\n",
    "            # 문서의 현재 점수를 가져옵니다 (이전에 계산된 점수).\n",
    "            previous_score = fused_scores[doc_str]\n",
    "            # RRF 공식을 사용하여 문서의 점수를 업데이트합니다: 1 / (순위 + k)\n",
    "            fused_scores[doc_str] += 1 / (rank + k)\n",
    "\n",
    "    # 문서들을 계산된 점수에 따라 내림차순으로 정렬하여 최종적으로 재정렬된 결과를 얻습니다.\n",
    "    reranked_results = [\n",
    "        (loads(doc), score)\n",
    "        for doc, score in sorted(fused_scores.items(), key=lambda x: x[1], reverse=True)\n",
    "    ]\n",
    "\n",
    "    # 재정렬된 결과에서 우선순위가 높은 top_n 개의 문서만 반환합니다.\n",
    "    return reranked_results[:top_n]\n",
    "\n",
    "\n"
   ]
  },
  {
   "cell_type": "code",
   "execution_count": 16,
   "id": "ca737686-7133-4d10-a56a-ba15c990a64d",
   "metadata": {},
   "outputs": [
    {
     "name": "stderr",
     "output_type": "stream",
     "text": [
      "/var/folders/q0/jb0zfm1n3blbqmnvqpy7pkyc0000gq/T/ipykernel_23048/3854366426.py:29: LangChainBetaWarning: The function `loads` is in beta. It is actively being worked on, so the API may change.\n",
      "  (loads(doc), score)\n"
     ]
    },
    {
     "data": {
      "text/plain": [
       "[(Document(metadata={'source': 'https://news.naver.com/section/101'}, page_content='전격 시행된 정부의 ‘가계부채 관리 강화 방안’에 따라 29일 서울 부동산 시장은 충격에 빠진 모습이다. 시장에선 이번 대책의 파급 효과, 후속 대책 여부 등을 지켜보기 위해 당분간 매도·매수자들이 관망하면서 매매거\\n\\n\\n한겨레\\n\\n3시간전'),\n",
       "  0.098378283095364),\n",
       " (Document(metadata={'source': 'https://news.naver.com/section/101'}, page_content='서울 아파트값 급등에 대응해 정부가 대대적인 대출 조이기에 나선 가운데 정책대출 한도도 크게 줄어들 전망이다. 윤석열 정부 당시 정책대출 수혜 대상을 크게 확대하면서 집값 상승의 불씨를 댕겼다는 평가를 받았는데, 다\\n\\n\\n한겨레\\n\\n4시간전'),\n",
       "  0.06504494976203068)]"
      ]
     },
     "execution_count": 16,
     "metadata": {},
     "output_type": "execute_result"
    }
   ],
   "source": [
    "# RAG-Fusion 체인을 구성합니다.\n",
    "# generate_queries: 질문에 대해 여러 검색 쿼리를 생성합니다.\n",
    "# retriever.map(): 생성된 쿼리로 관련 문서들을 검색합니다.\n",
    "# reciprocal_rank_fusion: 검색된 문서들을 RRF 알고리즘을 통해 결합하여 최종 순위를 계산합니다.\n",
    "retrieval_chain_rag_fusion = generate_queries | retriever.map() | reciprocal_rank_fusion\n",
    "\n",
    "# 체인을 실행하여 질문에 대한 검색된 문서들을 가져옵니다.\n",
    "question = \"향후 집값에 대해서 알려줘\"\n",
    "docs = retrieval_chain_rag_fusion.invoke({\"question\": question})\n",
    "\n",
    "# 검색된 고유 문서들의 개수를 출력합니다.\n",
    "len(docs)\n",
    "\n",
    "# 검색된 고유 문서들을 출력합니다.\n",
    "docs"
   ]
  },
  {
   "cell_type": "code",
   "execution_count": 17,
   "id": "fd046f0e-abf5-4249-9ca9-e703fcd0570f",
   "metadata": {},
   "outputs": [
    {
     "data": {
      "text/plain": [
       "'현재의 대출 규제와 가계부채 관리 강화 방안으로 인해 서울 부동산 시장이 충격을 받고 있는 상황입니다. 주택담보대출 한도가 6억원으로 제한되면서 갭투자자들이 어려움을 겪고 있으며, 매도·매수자들이 관망세를 보이고 있습니다. 이러한 상황은 단기적으로 집값에 하락 압력을 가할 수 있습니다. 그러나 향후 집값의 변화는 정부의 추가 대책이나 시장의 반응에 따라 달라질 수 있으므로, 지속적인 모니터링이 필요합니다.'"
      ]
     },
     "execution_count": 17,
     "metadata": {},
     "output_type": "execute_result"
    }
   ],
   "source": [
    "from langchain_openai import ChatOpenAI\n",
    "from langchain_core.runnables import RunnablePassthrough\n",
    "\n",
    "# RAG\n",
    "template = \"\"\"다음 맥락을 바탕으로 질문에 답변하세요:\n",
    "\n",
    "{context}\n",
    "\n",
    "질문: {question}\n",
    "\"\"\"\n",
    "\n",
    "prompt = ChatPromptTemplate.from_template(template)\n",
    "\n",
    "llm = ChatOpenAI(model_name=\"gpt-4o-mini\", temperature=0)\n",
    "\n",
    "final_rag_chain = (\n",
    "    {\"context\": retrieval_chain_rag_fusion, \n",
    "     \"question\": RunnablePassthrough()} \n",
    "    | prompt\n",
    "    | llm\n",
    "    | StrOutputParser()\n",
    ")\n",
    "\n",
    "final_rag_chain.invoke(question)"
   ]
  },
  {
   "cell_type": "code",
   "execution_count": null,
   "id": "da61f688-df8a-4631-80c5-f5834c89197c",
   "metadata": {},
   "outputs": [],
   "source": []
  }
 ],
 "metadata": {
  "kernelspec": {
   "display_name": "Python 3 (ipykernel)",
   "language": "python",
   "name": "python3"
  },
  "language_info": {
   "codemirror_mode": {
    "name": "ipython",
    "version": 3
   },
   "file_extension": ".py",
   "mimetype": "text/x-python",
   "name": "python",
   "nbconvert_exporter": "python",
   "pygments_lexer": "ipython3",
   "version": "3.12.9"
  }
 },
 "nbformat": 4,
 "nbformat_minor": 5
}
