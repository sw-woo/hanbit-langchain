{
 "cells": [
  {
   "cell_type": "markdown",
   "id": "85318196-f500-4b55-a1a6-048b303c2b65",
   "metadata": {},
   "source": [
    "# Multiquery + hybrid search + RAG-Fusion"
   ]
  },
  {
   "cell_type": "code",
   "execution_count": 14,
   "id": "d8a13777-157f-4c54-bf69-3db19ab774ec",
   "metadata": {},
   "outputs": [],
   "source": [
    "import bs4\n",
    "from langchain.text_splitter import RecursiveCharacterTextSplitter\n",
    "from langchain_community.document_loaders import WebBaseLoader\n",
    "from langchain_community.vectorstores import Chroma\n",
    "from langchain_core.output_parsers import StrOutputParser\n",
    "from langchain_core.runnables import RunnablePassthrough\n",
    "from langchain_openai import ChatOpenAI, OpenAIEmbeddings\n",
    "\n",
    "import os\n",
    "from dotenv import load_dotenv\n",
    "load_dotenv()\n",
    "openai_api_key = os.getenv(\"OPENAI_API_KEY\")\n",
    "\n",
    "if not openai_api_key:\n",
    "    raise ValueError(\"openai api 키가 없습니다. 한번더 확인 부탁드립니다.\")\n",
    "\n",
    "os.environ['OPENAI_API_KEY'] = openai_api_key\n",
    "\n",
    "\n",
    "#### INDEXING ####\n",
    "\n",
    "loader = WebBaseLoader(\n",
    "    web_paths=(\"https://news.naver.com/section/101\",),\n",
    "    bs_kwargs=dict(\n",
    "        parse_only=bs4.SoupStrainer(\n",
    "            class_=(\"sa_text\", \"sa_item_SECTION_HEADLINE\")\n",
    "        )\n",
    "    ),\n",
    ")\n",
    "docs = loader.load()\n",
    "\n",
    "\n",
    "# Split\n",
    "from langchain.text_splitter import RecursiveCharacterTextSplitter\n",
    "text_splitter = RecursiveCharacterTextSplitter.from_tiktoken_encoder(\n",
    "    chunk_size=300, \n",
    "    chunk_overlap=50)\n",
    "\n",
    "# Make splits\n",
    "splits = text_splitter.split_documents(docs)\n",
    "\n"
   ]
  },
  {
   "cell_type": "code",
   "execution_count": 15,
   "id": "781e0169-3c4d-4318-9377-25ed71851522",
   "metadata": {},
   "outputs": [],
   "source": [
    "# Index\n",
    "from langchain_openai import OpenAIEmbeddings\n",
    "from langchain_community.vectorstores import Chroma\n",
    "vectorstore = Chroma.from_documents(documents=splits, \n",
    "                                    embedding=OpenAIEmbeddings())\n"
   ]
  },
  {
   "cell_type": "code",
   "execution_count": 16,
   "id": "d26d30ed-6ddf-4fb3-bc84-a754d8da8156",
   "metadata": {},
   "outputs": [],
   "source": [
    "chroma_retriever = vectorstore.as_retriever(\n",
    "    search_type=\"mmr\", # MMR 알고리즘을 사용하여 검색\n",
    "    search_kwargs={'k':1,'fetch_k':4} # 상위 1개의 문서를 반환하지만, 고려할 문서는 4개로 설정\n",
    ")"
   ]
  },
  {
   "cell_type": "code",
   "execution_count": 17,
   "id": "d34b3cef-79c2-4f47-8bc2-6eeba6b74bf6",
   "metadata": {},
   "outputs": [
    {
     "name": "stdout",
     "output_type": "stream",
     "text": [
      "type of bm25 <class 'langchain_community.retrievers.bm25.BM25Retriever'>\n"
     ]
    }
   ],
   "source": [
    "from langchain.retrievers import BM25Retriever, EnsembleRetriever\n",
    "# Initialize the BM25 retriever\n",
    "bm25_retriever = BM25Retriever.from_documents(splits)\n",
    "bm25_retriever.k = 2  # Retrieve top 2 results\n",
    "\n",
    "print(\"type of bm25\", type(bm25_retriever))"
   ]
  },
  {
   "cell_type": "code",
   "execution_count": 18,
   "id": "ee091b44-28d9-4af6-989a-9b0049bdb30d",
   "metadata": {},
   "outputs": [],
   "source": [
    "ensemble_retriever = EnsembleRetriever(\n",
    "    retrievers=[bm25_retriever, chroma_retriever], weights=[0.2, 0.8]\n",
    ")"
   ]
  },
  {
   "cell_type": "code",
   "execution_count": 19,
   "id": "0ce2284a-c4a2-456d-b177-cd476ba669f1",
   "metadata": {},
   "outputs": [
    {
     "data": {
      "text/plain": [
       "[Document(metadata={'source': 'https://news.naver.com/section/101'}, page_content=\"조선비즈\\n\\n\\n\\n\\n10\\n개의 관련뉴스 더보기\\n\\n\\n\\n\\n\\n\\n\\n\\n\\n\\n\\n\\n\\n\\n\\n\\n\\n\\n'강남 집값' 불붙었다…토허제 빗장 풀리고 주담대 금리인하까지\"),\n",
       " Document(metadata={'source': 'https://news.naver.com/section/101'}, page_content='도널드 트럼프 미국 대통령의 ‘도둑 잡기’ 공세가 한국을 재차 겨냥하고 있다. 7일(현지시간) 트럼프 대통령은 백악관에서 기자들과 만나 “우리는 반도체 사업을 잃었고, 대만이 그걸 훔쳐 갔다”며 “(반도체 사업은) \\n\\n\\n중앙일보\\n\\n3시간전'),\n",
       " Document(metadata={'source': 'https://news.naver.com/section/101'}, page_content='세종특별자치시 해들6단지 e편한세상 세종리버파크. 세종고속터미널이 가깝고 금강 조망도 가능해 세종 공무원 수요를 바탕으로 일대에서 인기가 많은 단지다. 이 아파트 전용면적 99㎡는 지난달 6억500만원에 거래됐다. \\n\\n\\n매일경제\\n\\n1시간전')]"
      ]
     },
     "execution_count": 19,
     "metadata": {},
     "output_type": "execute_result"
    }
   ],
   "source": [
    "# 예시 고객 문의\n",
    "query = \"향후 집값에 대해서 알려줘\"\n",
    "\n",
    "# 관련 문서/제품 검색\n",
    "docs = ensemble_retriever.get_relevant_documents(query)\n",
    "\n",
    "# 각 문서에서 페이지 내용을 추출하여 출력\n",
    "# for doc in docs:\n",
    "#     print(doc.page_content)\n",
    "\n",
    "# 검색된 문서들 출력\n",
    "docs"
   ]
  },
  {
   "cell_type": "code",
   "execution_count": 20,
   "id": "72b038f9-be2d-47a2-94a5-35fdecd1583f",
   "metadata": {},
   "outputs": [],
   "source": [
    "from langchain.prompts import ChatPromptTemplate\n",
    "from langchain_core.output_parsers import StrOutputParser\n",
    "from langchain_openai import ChatOpenAI\n",
    "\n",
    "template = \"\"\"\n",
    "당신은 AI 언어 모델 조수입니다. 당신의 임무는 주어진 사용자 질문에 대해 벡터 데이터베이스에서 관련 문서를 검색할 수 있도록 다섯 가지 다른 버전을 생성하는 것입니다. \n",
    "사용자 질문에 대한 여러 관점을 생성함으로써, 거리 기반 유사성 검색의 한계를 극복하는 데 도움을 주는 것이 목표입니다. \n",
    "각 질문은 새 줄로 구분하여 제공하세요. 원본 질문: {question}\n",
    "\"\"\"\n",
    "prompt_perspectives = ChatPromptTemplate.from_template(template)\n",
    "\n",
    "\n",
    "generate_queries = (\n",
    "    prompt_perspectives \n",
    "    | ChatOpenAI(model_name=\"gpt-4o-mini\",temperature=0) \n",
    "    | StrOutputParser() \n",
    "    | (lambda x: x.split(\"\\n\"))\n",
    ")"
   ]
  },
  {
   "cell_type": "code",
   "execution_count": 21,
   "id": "4eddb86f-8315-4707-8554-9dcd126b6de8",
   "metadata": {},
   "outputs": [],
   "source": [
    "from langchain.load import dumps, loads\n",
    "\n",
    "def reciprocal_rank_fusion(results: list[list], k=60, top_n=2):\n",
    "    \"\"\" \n",
    "    여러 개의 순위가 매겨진 문서 리스트를 받아, RRF(Reciprocal Rank Fusion) 공식을 사용하여\n",
    "    문서의 최종 순위를 계산하는 함수입니다. k는 RRF 공식에서 사용되는 선택적 파라미터이며,\n",
    "    top_n은 반환할 우선순위가 높은 문서의 개수입니다.\n",
    "    \"\"\"\n",
    "    \n",
    "    # 각 고유한 문서에 대한 점수를 저장할 딕셔너리를 초기화합니다.\n",
    "    fused_scores = {}\n",
    "\n",
    "    # 순위가 매겨진 문서 리스트를 순회합니다.\n",
    "    for docs in results:\n",
    "        # 리스트 내의 각 문서와 그 문서의 순위를 가져옵니다.\n",
    "        for rank, doc in enumerate(docs):\n",
    "            # 문서를 문자열 형식으로 직렬화하여 딕셔너리의 키로 사용합니다 (문서가 JSON 형식으로 직렬화될 수 있다고 가정).\n",
    "            doc_str = dumps(doc)\n",
    "            # 해당 문서가 아직 딕셔너리에 없으면 초기 점수 0으로 추가합니다.\n",
    "            if doc_str not in fused_scores:\n",
    "                fused_scores[doc_str] = 0\n",
    "            # 문서의 현재 점수를 가져옵니다 (이전에 계산된 점수).\n",
    "            previous_score = fused_scores[doc_str]\n",
    "            # RRF 공식을 사용하여 문서의 점수를 업데이트합니다: 1 / (순위 + k)\n",
    "            fused_scores[doc_str] += 1 / (rank + k)\n",
    "\n",
    "    # 문서들을 계산된 점수에 따라 내림차순으로 정렬하여 최종적으로 재정렬된 결과를 얻습니다.\n",
    "    reranked_results = [\n",
    "        (loads(doc), score)\n",
    "        for doc, score in sorted(fused_scores.items(), key=lambda x: x[1], reverse=True)\n",
    "    ]\n",
    "\n",
    "    # 재정렬된 결과에서 우선순위가 높은 top_n 개의 문서만 반환합니다.\n",
    "    return reranked_results[:top_n]"
   ]
  },
  {
   "cell_type": "code",
   "execution_count": 22,
   "id": "9eb1bc72-9921-4800-aa39-27fdbf9d2b46",
   "metadata": {},
   "outputs": [
    {
     "data": {
      "text/plain": [
       "[(Document(metadata={'source': 'https://news.naver.com/section/101'}, page_content='최근 들어 양호한 주가상승 흐름을 보이자 국내증시로 개인투자자들의 관심이 다시 집중되며 거래대금 규모도 늘어나는 추세다. 국내투자자들의 해외증시에 대한 쏠림현상은 둔화하는 모습이며 오히려 국내시장에서 시장반등에 대한\\n\\n\\n국제신문'),\n",
       "  0.06530936012691697),\n",
       " (Document(metadata={'source': 'https://news.naver.com/section/101'}, page_content='올해 들어 서울 아파트 거래량이 늘어난 가운데 강남 지역 위주로 아파트값이 다시 치솟고 있다. 기존 실거래가보다 가격을 올려 거래되는 ‘상승 거래’ 비중도 지난해 말보다 확대된 것으로 나타났다. 토지거래허가구역(토허\\n\\n\\n한국경제'),\n",
       "  0.05)]"
      ]
     },
     "execution_count": 22,
     "metadata": {},
     "output_type": "execute_result"
    }
   ],
   "source": [
    "\n",
    "# RAG-Fusion 체인을 구성합니다.\n",
    "# generate_queries: 질문에 대해 여러 검색 쿼리를 생성합니다.\n",
    "# retriever.map(): 생성된 쿼리로 관련 문서들을 검색합니다.\n",
    "# reciprocal_rank_fusion: 검색된 문서들을 RRF 알고리즘을 통해 결합하여 최종 순위를 계산합니다.\n",
    "retrieval_chain_rag_fusion = generate_queries | ensemble_retriever.map() | reciprocal_rank_fusion\n",
    "\n",
    "# 체인을 실행하여 질문에 대한 검색된 문서들을 가져옵니다.\n",
    "question = \"향후 집값에 대해서 알려줘\"\n",
    "docs = retrieval_chain_rag_fusion.invoke({\"question\": question})\n",
    "\n",
    "# 검색된 고유 문서들의 개수를 출력합니다.\n",
    "len(docs)\n",
    "\n",
    "# 검색된 고유 문서들을 출력합니다.\n",
    "docs"
   ]
  },
  {
   "cell_type": "code",
   "execution_count": 23,
   "id": "568ecd75-57e7-497a-924c-4f70e9baf262",
   "metadata": {},
   "outputs": [
    {
     "data": {
      "text/plain": [
       "\"최근 서울 아파트 거래량이 증가하고 있으며, 특히 강남 지역의 아파트값이 다시 상승하고 있다는 보도가 있습니다. 기존 실거래가보다 가격을 올려 거래되는 '상승 거래' 비중도 늘어나고 있는 상황입니다. 이러한 흐름은 향후 집값이 계속해서 오를 가능성을 시사합니다. 그러나 시장의 변동성이나 외부 요인에 따라 집값의 향후 추세는 달라질 수 있으므로, 지속적인 모니터링이 필요합니다.\""
      ]
     },
     "execution_count": 23,
     "metadata": {},
     "output_type": "execute_result"
    }
   ],
   "source": [
    "from langchain_openai import ChatOpenAI\n",
    "from langchain_core.runnables import RunnablePassthrough\n",
    "\n",
    "# RAG\n",
    "template = \"\"\"다음 맥락을 바탕으로 질문에 답변하세요:\n",
    "\n",
    "{context}\n",
    "\n",
    "질문: {question}\n",
    "\"\"\"\n",
    "\n",
    "prompt = ChatPromptTemplate.from_template(template)\n",
    "\n",
    "llm = ChatOpenAI(model_name=\"gpt-4o-mini\", temperature=0)\n",
    "\n",
    "final_rag_chain = (\n",
    "    {\"context\": retrieval_chain_rag_fusion, \n",
    "     \"question\": RunnablePassthrough()} \n",
    "    | prompt\n",
    "    | llm\n",
    "    | StrOutputParser()\n",
    ")\n",
    "\n",
    "final_rag_chain.invoke(question)"
   ]
  }
 ],
 "metadata": {
  "kernelspec": {
   "display_name": "Python 3 (ipykernel)",
   "language": "python",
   "name": "python3"
  },
  "language_info": {
   "codemirror_mode": {
    "name": "ipython",
    "version": 3
   },
   "file_extension": ".py",
   "mimetype": "text/x-python",
   "name": "python",
   "nbconvert_exporter": "python",
   "pygments_lexer": "ipython3",
   "version": "3.12.9"
  }
 },
 "nbformat": 4,
 "nbformat_minor": 5
}
