{
 "cells": [
  {
   "cell_type": "markdown",
   "id": "e1db017b-4896-4841-8072-d8a306150694",
   "metadata": {},
   "source": [
    "### Chapter 15: Advanced RAG 구축 -1 multiquery + unique-union"
   ]
  },
  {
   "cell_type": "code",
   "execution_count": 52,
   "id": "52fb2918-5ce2-4992-96d4-87d1f81ffae7",
   "metadata": {},
   "outputs": [],
   "source": [
    "import os\n",
    "from dotenv import load_dotenv\n",
    "load_dotenv()\n",
    "openai_api_key = os.getenv(\"OPENAI_API_KEY\")\n",
    "\n",
    "if not openai_api_key:\n",
    "    raise ValueError(\"openai api 키가 없습니다. 한번더 확인 부탁드립니다.\")\n",
    "\n",
    "os.environ['OPENAI_API_KEY'] = openai_api_key"
   ]
  },
  {
   "cell_type": "code",
   "execution_count": 53,
   "id": "643372be-cf95-4aab-bff6-f4e915d75a65",
   "metadata": {},
   "outputs": [],
   "source": [
    "import bs4\n",
    "from langchain import hub\n",
    "from langchain.text_splitter import RecursiveCharacterTextSplitter\n",
    "from langchain_community.document_loaders import WebBaseLoader\n",
    "from langchain_community.vectorstores import Chroma\n",
    "from langchain_core.output_parsers import StrOutputParser\n",
    "from langchain_core.runnables import RunnablePassthrough\n",
    "from langchain_openai import ChatOpenAI, OpenAIEmbeddings\n",
    "\n",
    "#### INDEXING ####\n",
    "\n",
    "# Load Documents\n",
    "loader = WebBaseLoader(\n",
    "    web_paths=(\"https://news.naver.com/section/101\",),\n",
    "    bs_kwargs=dict(\n",
    "        parse_only=bs4.SoupStrainer(\n",
    "            class_=(\"sa_text\", \"sa_item _SECTION_HEADLINE\")\n",
    "        )\n",
    "    ),\n",
    ")\n",
    "docs = loader.load()"
   ]
  },
  {
   "cell_type": "code",
   "execution_count": 54,
   "id": "ad03e012-4972-45c0-9045-a9040eb0ff44",
   "metadata": {},
   "outputs": [
    {
     "ename": "SyntaxError",
     "evalue": "invalid syntax (1729160929.py, line 13)",
     "output_type": "error",
     "traceback": [
      "  \u001b[36mCell\u001b[39m\u001b[36m \u001b[39m\u001b[32mIn[54]\u001b[39m\u001b[32m, line 13\u001b[39m\n\u001b[31m    \u001b[39m\u001b[31msplits = text_splitter.split_documents(docs)b\u001b[39m\n                                                ^\n\u001b[31mSyntaxError\u001b[39m\u001b[31m:\u001b[39m invalid syntax\n"
     ]
    }
   ],
   "source": [
    "# Split\n",
    "# text_splitter = RecursiveCharacterTextSplitter(chunk_size=300, chunk_overlap=20)\n",
    "# splits = text_splitter.split_documents(docs)\n",
    "\n",
    "#이점: from_tiktoken_encoder 메서드는 텍스트를 분할할 때 tiktoken 인코더를 사용하여 텍스트를 토큰으로 변환한 다음 분할합니다. 이 방법은 특히 OpenAI 모델과 같은 토큰 기반 언어 모델에서 텍스트를 처리할 때 유용합니다. \n",
    "# 토큰 단위로 정확한 분할을 가능하게 하므로, 텍스트가 모델의 입력 토큰 제한에 맞도록 더 정밀하게 분할할 수 있습니다.\n",
    "# 적용 상황: 이 방법은 모델이 토큰 수를 기준으로 텍스트를 처리해야 할 때(예: GPT 모델) 유리합니다. 특히 텍스트가 다양한 언어를 포함하거나 복잡한 구문을 가질 때 유용합니다.\n",
    "\n",
    "# Split\n",
    "text_splitter = RecursiveCharacterTextSplitter.from_tiktoken_encoder(\n",
    "    chunk_size=300, \n",
    "    chunk_overlap=50)\n",
    "splits = text_splitter.split_documents(docs)b"
   ]
  },
  {
   "cell_type": "code",
   "execution_count": 55,
   "id": "bd7f4469-002f-41aa-9658-8f9572251db7",
   "metadata": {},
   "outputs": [],
   "source": [
    "# Embed\n",
    "vectorstore = Chroma.from_documents(documents=splits, \n",
    "                                    embedding=OpenAIEmbeddings())"
   ]
  },
  {
   "cell_type": "code",
   "execution_count": 56,
   "id": "85d2c637-25b9-40b5-ae55-7a6c58d71e34",
   "metadata": {},
   "outputs": [],
   "source": [
    "# retriever = vectorstore.as_retriever(search_kwargs={\"k\": 1})\n",
    "\n",
    "# MMR 알고리즘이 고려할 문서 수를 더 많이 가져옵니다.\n",
    "# 그러나 최종적으로 상위 1개 문서만 반환합니다\n",
    "retriever = vectorstore.as_retriever(\n",
    "    search_type=\"mmr\", # MMR 알고리즘을 사용하여 검색\n",
    "    search_kwargs={'k':1,'fetch_k':4} # 상위 1개의 문서를 반환하지만, 고려할 문서는 4개로 설정\n",
    ")"
   ]
  },
  {
   "cell_type": "code",
   "execution_count": 57,
   "id": "f152a8bf-b49b-4a8e-ae88-a8f96432e387",
   "metadata": {},
   "outputs": [],
   "source": [
    "# Prompt\n",
    "prompt = hub.pull(\"sungwoo/ragbasic\")"
   ]
  },
  {
   "cell_type": "code",
   "execution_count": 58,
   "id": "bdfd9c97-a0c5-4d56-8119-f5d9919eaf0d",
   "metadata": {},
   "outputs": [
    {
     "data": {
      "text/plain": [
       "\"국채는 정부가 자금을 조달하기 위해 발행하는 채권으로, 투자자에게 일정 기간 후 원금과 이자를 지급합니다. 최근 정부는 국내투자형 ISA의 의무투자비율을 높여 국내 자산으로의 투자를 유도하고 있습니다. 또한, 외화표시 채권인 '김치본드'의 매입 제한규제를 해제하여 원화 환전 수요를 증가시키고 있습니다.\""
      ]
     },
     "execution_count": 58,
     "metadata": {},
     "output_type": "execute_result"
    }
   ],
   "source": [
    "# LLM\n",
    "llm = ChatOpenAI(model_name=\"gpt-4o-mini\", temperature=0)\n",
    "\n",
    "# Post-processing\n",
    "def format_docs(docs):\n",
    "    formatted = \"\\n\\n\".join(doc.page_content for doc in docs)\n",
    "    return formatted\n",
    "\n",
    "# Chain\n",
    "rag_chain = (\n",
    "    {\"context\": retriever | format_docs, \"question\": RunnablePassthrough()}\n",
    "    | prompt\n",
    "    | llm\n",
    "    | StrOutputParser()\n",
    ")\n",
    "\n",
    "# Question\n",
    "rag_chain.invoke(\"국채 관련한 정보를 알려줘\")\n"
   ]
  },
  {
   "cell_type": "code",
   "execution_count": 59,
   "id": "42526fc2-d9cb-4443-b7fe-a679fc754986",
   "metadata": {},
   "outputs": [
    {
     "data": {
      "text/plain": [
       "[Document(metadata={'source': 'https://news.naver.com/section/101'}, page_content=\"정부가 국내투자형 개인종합자산관리계좌(ISA)의 국내주식 의무투자비율을 높여 국내자산으로의 투자를 유도한다. 또 국내에서 발행되는 외화표시 채권인 '김치본드' 매입 제한규제도 해제해 원화 환전 수요도 늘린다. 해외주\\n\\n\\n한국경제TV\")]"
      ]
     },
     "execution_count": 59,
     "metadata": {},
     "output_type": "execute_result"
    }
   ],
   "source": [
    "docs = retriever.get_relevant_documents(\"국채 관련한 정보를 알려줘\")\n",
    "docs"
   ]
  },
  {
   "cell_type": "code",
   "execution_count": 60,
   "id": "1ab1b3b3-298e-4aca-b9c5-dc1458dcfbec",
   "metadata": {},
   "outputs": [],
   "source": [
    "# # 문서 검색 시 더 높은 다양성을 가진 문서를 더 많이 검색합니다.\n",
    "# # 데이터셋에 유사한 문서가 많을 경우 유용합니다.\n",
    "# docsearch.as_retriever(\n",
    "#     search_type=\"mmr\",  # MMR(Maximal Marginal Relevance) 알고리즘을 사용하여 검색\n",
    "#     search_kwargs={'k': 6, 'lambda_mult': 0.25}  # 상위 6개의 문서를 검색하고 다양성을 높이기 위해 lambda 값을 0.25로 설정\n",
    "# )\n",
    "\n",
    "# # MMR 알고리즘이 고려할 문서 수를 더 많이 가져옵니다.\n",
    "# # 그러나 최종적으로 상위 5개 문서만 반환합니다.\n",
    "# docsearch.as_retriever(\n",
    "#     search_type=\"mmr\",  # MMR 알고리즘을 사용하여 검색\n",
    "#     search_kwargs={'k': 5, 'fetch_k': 50}  # 상위 5개의 문서를 반환하지만, 고려할 문서는 50개로 설정\n",
    "# )\n",
    "\n",
    "# # 특정 임계값 이상의 유사도 점수를 가진 문서만 검색합니다.\n",
    "# docsearch.as_retriever(\n",
    "#     search_type=\"similarity_score_threshold\",  # 유사도 점수 기반 검색\n",
    "#     search_kwargs={'score_threshold': 0.8}  # 유사도 점수가 0.8 이상인 문서만 검색\n",
    "# )\n",
    "\n",
    "# # 데이터셋에서 가장 유사한 문서 하나만 검색합니다.\n",
    "# docsearch.as_retriever(search_kwargs={'k': 1})"
   ]
  },
  {
   "cell_type": "markdown",
   "id": "6d97967b-990b-48b5-a3f7-2c5047f88c07",
   "metadata": {},
   "source": [
    "### multiquery + unique-union"
   ]
  },
  {
   "cell_type": "markdown",
   "id": "f7d04548-2028-4203-b353-c830901cd815",
   "metadata": {},
   "source": [
    "# Multi Query\n",
    "![Example Image](./advancedRagFlow.png)"
   ]
  },
  {
   "cell_type": "code",
   "execution_count": 61,
   "id": "843ddc86-0d1c-46d1-b98d-f5d7cc8e61e2",
   "metadata": {},
   "outputs": [],
   "source": [
    "import bs4\n",
    "from langchain import hub\n",
    "from langchain.text_splitter import RecursiveCharacterTextSplitter\n",
    "from langchain_community.document_loaders import WebBaseLoader\n",
    "from langchain_community.vectorstores import Chroma\n",
    "from langchain_core.output_parsers import StrOutputParser\n",
    "from langchain_core.runnables import RunnablePassthrough\n",
    "from langchain_openai import ChatOpenAI, OpenAIEmbeddings\n",
    "\n",
    "#### INDEXING ####\n",
    "\n",
    "loader = WebBaseLoader(\n",
    "    web_paths=(\"https://news.naver.com/section/101\",),\n",
    "    bs_kwargs=dict(\n",
    "        parse_only=bs4.SoupStrainer(\n",
    "            class_=(\"sa_text\", \"sa_item _SECTION_HEADLINE\")\n",
    "        )\n",
    "    ),\n",
    ")\n",
    "docs = loader.load()\n",
    "\n",
    "\n",
    "# Split\n",
    "from langchain.text_splitter import RecursiveCharacterTextSplitter\n",
    "text_splitter = RecursiveCharacterTextSplitter.from_tiktoken_encoder(\n",
    "    chunk_size=300, \n",
    "    chunk_overlap=50)\n",
    "\n",
    "# Make splits\n",
    "splits = text_splitter.split_documents(docs)\n"
   ]
  },
  {
   "cell_type": "code",
   "execution_count": 62,
   "id": "666b4caf-67b0-4ff2-be58-d69e8100ecff",
   "metadata": {},
   "outputs": [],
   "source": [
    "# Index\n",
    "from langchain_openai import OpenAIEmbeddings\n",
    "from langchain_community.vectorstores import Chroma\n",
    "vectorstore = Chroma.from_documents(documents=splits, \n",
    "                                    embedding=OpenAIEmbeddings())\n",
    "\n",
    "retriever = vectorstore.as_retriever()"
   ]
  },
  {
   "cell_type": "code",
   "execution_count": 63,
   "id": "7583a7a5-a19a-4616-a69b-6ea5aaa33bc9",
   "metadata": {},
   "outputs": [
    {
     "data": {
      "text/plain": [
       "['집값의 향후 전망은 어떻게 될까요?',\n",
       " '',\n",
       " '현재 집값의 추세와 앞으로의 변화 가능성은 무엇인가요?',\n",
       " '',\n",
       " '부동산 시장에서 집값이 오를지 내릴지에 대한 예측은 어떤가요?',\n",
       " '',\n",
       " '향후 몇 년간 집값에 영향을 미칠 주요 요인은 무엇인가요?',\n",
       " '',\n",
       " '집값 상승 또는 하락의 주요 원인은 무엇이며, 앞으로의 방향성은 어떻게 될까요?']"
      ]
     },
     "execution_count": 63,
     "metadata": {},
     "output_type": "execute_result"
    }
   ],
   "source": [
    "from langchain.prompts import ChatPromptTemplate\n",
    "\n",
    "# Multi Query: Different Perspectives\n",
    "# template = \"\"\"You are an AI language model assistant. Your task is to generate five \n",
    "# different versions of the given user question to retrieve relevant documents from a vector \n",
    "# database. By generating multiple perspectives on the user question, your goal is to help\n",
    "# the user overcome some of the limitations of the distance-based similarity search. \n",
    "# Provide these alternative questions separated by newlines. Original question: {question}\"\"\"\n",
    "# prompt_perspectives = ChatPromptTemplate.from_template(template)\n",
    "\n",
    "template = \"\"\"\n",
    "당신은 AI 언어 모델 조수입니다. 당신의 임무는 주어진 사용자 질문에 대해 벡터 데이터베이스에서 관련 문서를 검색할 수 있도록 다섯 가지 다른 버전을 생성하는 것입니다. \n",
    "사용자 질문에 대한 여러 관점을 생성함으로써, 거리 기반 유사성 검색의 한계를 극복하는 데 도움을 주는 것이 목표입니다. \n",
    "각 질문은 새 줄로 구분하여 제공하세요. 원본 질문: {question}\n",
    "\"\"\"\n",
    "prompt_perspectives = ChatPromptTemplate.from_template(template)\n",
    "\n",
    "\n",
    "from langchain_core.output_parsers import StrOutputParser\n",
    "from langchain_openai import ChatOpenAI\n",
    "\n",
    "generate_queries = (\n",
    "    prompt_perspectives \n",
    "    | ChatOpenAI(model_name=\"gpt-4o-mini\",temperature=0) \n",
    "    | StrOutputParser() \n",
    "    | (lambda x: x.split(\"\\n\"))\n",
    ")\n",
    "\n",
    "generated_query = generate_queries.invoke(\"집값의 향방?\")\n",
    "generated_query"
   ]
  },
  {
   "cell_type": "code",
   "execution_count": 64,
   "id": "be53e8da-ee84-4c76-859c-8cff1135cfc4",
   "metadata": {},
   "outputs": [],
   "source": [
    "from langchain.load import dumps, loads\n",
    "\n",
    "def get_unique_union(documents: list[list]):\n",
    "    \"\"\" 고유한 문서들의 합집합을 생성하는 함수입니다. \"\"\"\n",
    "    \n",
    "    # 리스트의 리스트를 평탄화하고, 각 문서를 문자열로 직렬화합니다.\n",
    "    flattened_docs = [dumps(doc) for sublist in documents for doc in sublist]\n",
    "    \n",
    "    # 중복된 문서를 제거하고 고유한 문서만 남깁니다.\n",
    "    unique_docs = list(set(flattened_docs))\n",
    "    \n",
    "    # 고유한 문서를 원래의 문서 객체로 변환하여 반환합니다.\n",
    "    return [loads(doc) for doc in unique_docs]"
   ]
  },
  {
   "cell_type": "code",
   "execution_count": 65,
   "id": "b26ac402-a7ff-415b-bad9-6b2fe06fcb8d",
   "metadata": {},
   "outputs": [],
   "source": [
    "# 사용자 질문 정의\n",
    "question = \"집값의 향방?\""
   ]
  },
  {
   "cell_type": "code",
   "execution_count": 66,
   "id": "df74cd60-251b-40ef-a072-080a0cf7bf45",
   "metadata": {},
   "outputs": [],
   "source": [
    "# 문서 검색 체인을 구성합니다.\n",
    "# generate_queries: 주어진 질문에 대해 검색 쿼리를 생성합니다.\n",
    "# retriever.map(): 생성된 쿼리를 바탕으로 관련 문서를 검색합니다.\n",
    "# get_unique_union: 검색된 문서에서 중복을 제거하고 고유한 문서들을 반환합니다.\n",
    "retrieval_chain = generate_queries | retriever.map() | get_unique_union\n"
   ]
  },
  {
   "cell_type": "code",
   "execution_count": 67,
   "id": "934bebde-0c80-497d-b86d-0814624e4eac",
   "metadata": {},
   "outputs": [],
   "source": [
    "# 체인을 실행하여 질문에 대한 관련 문서를 검색하고 고유한 문서를 반환합니다.\n",
    "docs = retrieval_chain.invoke({\"question\": question})\n"
   ]
  },
  {
   "cell_type": "code",
   "execution_count": 68,
   "id": "e0a14864-94a8-43a4-8e70-eb786fda37c7",
   "metadata": {},
   "outputs": [
    {
     "data": {
      "text/plain": [
       "[Document(metadata={'source': 'https://news.naver.com/section/101'}, page_content=\"적극적 자산 효율화로 주주가치 높인 日기업 올림푸스·삿포로홀딩스 등 경영개선 요구에 먼저 '행동' 신규 핵심사업 적극 키우고 잉여 부동산은 과감히 팔아 자산매각 꺼리는 韓 기업들 행동주의 펀드 방어하려면 그들처럼 과\\n\\n\\n매일경제\"),\n",
       " Document(metadata={'source': 'https://news.naver.com/section/101'}, page_content='디지털타임스\\n\\n1시간전\\n\\n\\n\\n\\n\\n\\n\\n\\n부동산 시장에 ‘영끌 리턴’.. “집값 불씨 살아났나, 또 터지나?”')]"
      ]
     },
     "execution_count": 68,
     "metadata": {},
     "output_type": "execute_result"
    }
   ],
   "source": [
    "# 검색된 고유 문서들의 개수를 출력합니다.\n",
    "len(docs)\n",
    "\n",
    "# 검색된 고유 문서들을 출력합니다.\n",
    "docs"
   ]
  },
  {
   "cell_type": "code",
   "execution_count": 69,
   "id": "be5ce95c-7aaa-49ca-8633-520176180324",
   "metadata": {},
   "outputs": [
    {
     "data": {
      "text/plain": [
       "\"최근 부동산 시장에서 '영끌 리턴' 현상이 나타나고 있다는 보도가 있습니다. 이는 집값이 다시 상승할 가능성을 시사하는 것으로 해석될 수 있습니다. 그러나 집값의 향방은 여러 요인에 따라 달라질 수 있으며, 특히 경제 전반의 상황, 금리 변화, 그리고 정부의 정책 등이 중요한 영향을 미칠 것입니다. 따라서 현재의 부동산 시장 동향을 면밀히 살펴보는 것이 필요합니다.\""
      ]
     },
     "execution_count": 69,
     "metadata": {},
     "output_type": "execute_result"
    }
   ],
   "source": [
    "from langchain_openai import ChatOpenAI\n",
    "from langchain_core.runnables import RunnablePassthrough\n",
    "\n",
    "# RAG\n",
    "template = \"\"\"다음 맥락을 바탕으로 질문에 답변하세요:\n",
    "\n",
    "{context}\n",
    "\n",
    "질문: {question}\n",
    "\"\"\"\n",
    "\n",
    "prompt = ChatPromptTemplate.from_template(template)\n",
    "\n",
    "llm = ChatOpenAI(model_name=\"gpt-4o-mini\", temperature=0)\n",
    "\n",
    "final_rag_chain = (\n",
    "    {\"context\": retrieval_chain, \n",
    "     \"question\": RunnablePassthrough()} \n",
    "    | prompt\n",
    "    | llm\n",
    "    | StrOutputParser()\n",
    ")\n",
    "\n",
    "final_rag_chain.invoke(question)"
   ]
  },
  {
   "cell_type": "code",
   "execution_count": null,
   "id": "751a00e7-64ab-4652-bdcd-148098372219",
   "metadata": {},
   "outputs": [],
   "source": []
  }
 ],
 "metadata": {
  "kernelspec": {
   "display_name": "Python 3 (ipykernel)",
   "language": "python",
   "name": "python3"
  },
  "language_info": {
   "codemirror_mode": {
    "name": "ipython",
    "version": 3
   },
   "file_extension": ".py",
   "mimetype": "text/x-python",
   "name": "python",
   "nbconvert_exporter": "python",
   "pygments_lexer": "ipython3",
   "version": "3.12.9"
  }
 },
 "nbformat": 4,
 "nbformat_minor": 5
}
