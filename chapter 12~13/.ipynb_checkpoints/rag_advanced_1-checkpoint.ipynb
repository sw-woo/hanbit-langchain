{
 "cells": [
  {
   "cell_type": "markdown",
   "id": "e1db017b-4896-4841-8072-d8a306150694",
   "metadata": {},
   "source": [
    "### Chapter 15: Advanced RAG 구축 -1 multiquery + unique-union"
   ]
  },
  {
   "cell_type": "code",
   "execution_count": 18,
   "id": "52fb2918-5ce2-4992-96d4-87d1f81ffae7",
   "metadata": {},
   "outputs": [
    {
     "data": {
      "text/plain": [
       "'your api key'"
      ]
     },
     "execution_count": 18,
     "metadata": {},
     "output_type": "execute_result"
    }
   ],
   "source": [
    "import os\n",
    "from dotenv import load_dotenv\n",
    "load_dotenv()\n",
    "openai_api_key = os.getenv(\"OPENAI_API_KEY\")\n",
    "\n",
    "if not openai_api_key:\n",
    "    raise ValueError(\"openai api 키가 없습니다. 한번더 확인 부탁드립니다.\")\n",
    "\n",
    "os.environ['OPENAI_API_KEY'] = openai_api_key\n",
    "openai_api_key"
   ]
  },
  {
   "cell_type": "code",
   "execution_count": 15,
   "id": "643372be-cf95-4aab-bff6-f4e915d75a65",
   "metadata": {},
   "outputs": [
    {
     "data": {
      "text/plain": [
       "[Document(metadata={'source': 'https://news.naver.com/section/101'}, page_content='\\n\\n\\n\\n\\n\\n\\n\\n\\n\\n\\n\\n송미령 장관 “타작물 재배 지원 예산 확대…논콩은 식량안보 작물”\\n\\n송미령 농림축산식품부 장관이 “타작물 재배에 농업인들이 적극 참여할 수 있도록 정부 예산을 대폭 확대하겠다”고 밝혔다. 송 장관은 29일 전북 부안군의 논콩 전문 생산단지를 방문해 “논에 벼 대신 콩 같은 주요 작물\\n\\n\\n파이낸셜뉴스\\n\\n\\n\\n\\n29\\n개의 관련뉴스 더보기\\n\\n\\n\\n\\n\\n\\n\\n\\n\\n\\n\\n\\n\\n\\n\\n\\n\\n\\n고강도 대출규제 첫날, 은행 비대면 주담대-신용대출 막혔다\\n\\n《정부가 수도권과 규제 지역의 주택담보대출 한도를 6억 원으로 제한하는 강력한 대출 규제가 시행된 첫날인 28일, 은행권이 비대면 주담대·신용대출을 전면 중단시켰다. 전산 작업이 필요하다는 이유지만 당분간 실수요자 \\n\\n\\n동아일보\\n\\n\\n\\n\\n33\\n개의 관련뉴스 더보기\\n\\n\\n\\n\\n\\n\\n\\n\\n\\n\\n\\n\\n\\n\\n\\n\\n\\n\\n제조기업 경기전망 16분기째 부정적…54% \"매출 달성 어려울 듯\"\\n\\n대한상의 조사…\\'관세 예외\\' 반도체 웃고 \\'적용\\' 철강·자동차 울고 새 정부의 경제 정책 기대감에도 미국발 관세 압박, 중동 불안, 내수 부진의 삼중고에 국내 제조기업들의 올해 3분기 경기 전망이 부정적인 것으로 조\\n\\n\\n연합뉴스\\n\\n\\n\\n\\n27\\n개의 관련뉴스 더보기\\n\\n\\n\\n\\n\\n\\n\\n\\n\\n\\n\\n\\n\\n\\n\\n\\n\\n\\n치킨값 2만5000원 시대… 어플 주문, 더 올랐다?\\n\\n외식 물가 상승에 배달 수수료 부담이 겹치면서 치킨을 비롯한 외식 가격이 또다시 오르고 있다. 매장과 배달 가격을 다르게 설정하는 \\'배달 이중가격제\\'가 업계 전반으로 확산되고 있고, 이로 인해 배달비를 넘는 가격 인\\n\\n\\n조세일보\\n\\n\\n\\n\\n18\\n개의 관련뉴스 더보기\\n\\n\\n\\n\\n\\n\\n\\n\\n\\n\\n\\n\\n\\n\\n\\n\\n\\n\\n신한은행 배달플랫폼 \\'땡겨요\\'에 스타벅스 입점\\n\\n신한은행은 신세계그룹과 서울시 중구 소재 본점에서 신사업 지원 및 동반성장 생태계 구축을 위한 업무협약을 체결했다고 29일 밝혔다. 두 회사는 이번 업무협약을 통해 △\\'땡겨요\\' 및 \\'신한인증서\\' 도입 △협력업체 동반\\n\\n\\n파이낸셜뉴스\\n\\n\\n\\n\\n4\\n개의 관련뉴스 더보기\\n\\n\\n\\n\\n\\n\\n\\n\\n산업부, 미국 정부·의회와 새 정부 협력 강화 비전 공유\\n\\n산업통상자원부는 여한구 통상교섭본부장이 지난 22일(현지시간)부터 27일까지 미국 워싱턴 D.C.를 방문해 하워드 러트닉 상무장관과 제이미슨 그리어 USTR 대표, 더그 버검 국가에너지위원회 의장(겸 내무장관) 등 \\n\\n\\n지디넷코리아\\n\\n\\n\\n\\n43\\n개의 관련뉴스 더보기\\n\\n\\n\\n\\n\\n해수부, 이 대통령 공약 \\'북극항로 개발\\' 계획 속도\\n\\n해양수산부가 이재명 대통령의 대선 공약인 \\'북극항로 개발\\' 계획을 본격 추진합니다. 오늘(29일) 해수부에 따르면 \\'북극항로 TF\\'는 북극항로의 상업화 가능성이 이전보다 커졌다고 판단해 조선·금융·에너지·제조업과 연\\n\\n\\n연합뉴스TV\\n\\n\\n\\n\\n9\\n개의 관련뉴스 더보기\\n\\n\\n\\n\\n\\n車와 예술의 평행이론…제네시스, 청주서 이색적 공간 실험\\n\\nSK하이닉스 청주공장과 롯데아울렛 청주점 사이 교차로에는 눈길을 단번에 사로잡는 이질적인 건축물이 있다. 60m 높이의 나무 캐노피와 투명 유리의 외관으로 전통과 현대의 조화를 표현한 \\'제네시스 청주\\'다. 자동차 전\\n\\n\\n비즈워치\\n\\n\\n\\n\\n16\\n개의 관련뉴스 더보기\\n\\n\\n\\n\\n\\n구윤철 후보자 \"주식회사 대한민국 만들 것\"...생활물가 중점, 증세는 \"어렵다\"\\n\\n구윤철 부총리 겸 기획재정부 장관 후보자는 29일 기자간담회를 통해 \"진짜성장을 위한 경제대혁신을 추진하겠다\"고 밝혔다. 구 호보자는 \"기본방향은 대한민국을 주식회사처럼 경영하는 \\'주식회사 대한민국\\' 건설\"이라며 \"\\n\\n\\n중앙일보\\n\\n\\n\\n\\n54\\n개의 관련뉴스 더보기\\n\\n\\n\\n\\n\\n중소기업 7월 경기전망 부진…건설·서비스업은 개선\\n\\n▲위 사진은 기사 내용과 관련이 없습니다. 중소기업들이 다음 달 경기가 전달보다 나빠질 것으로 봤으나 비제조업 경기는 개선될 것으로 전망했습니다. 중소기업중앙회는 최근 3천86개 중소기업을 대상으로 실시한 \\'중소기업\\n\\n\\nSBS\\n\\n\\n\\n\\n21\\n개의 관련뉴스 더보기\\n\\n\\n\\n\\n\\n\"바람을 피워도, 하필 걔였니?\" 하이닉스·한미 \\'사랑과 전쟁\\'\\n\\n추천! 더중플-K반도체 연구 K반도체도 사람의 일이라, 납품 다각화는 뜻밖의 일이 되고 수율 불량에 가슴은 터집니다. 만나고 헤어지고, 선택하고 후회하고…가장 거대한 시설로 가장 미세한 제품을 만드는 반도체 산업 뒤\\n\\n\\n중앙일보\\n\\n17분전\\n\\n\\n\\n\\n\\n\\n\\n\\n길 잃은 뭉칫돈 몰려...회사채에 역대급 자금 몰렸다\\n\\n이 기사는 2025년06월29일 20시49분에 마켓인 프리미엄 콘텐츠로 선공개 되었습니다. 올해 상반기 공모 회사채 수요예측에 참여한 자금 규모가 168조원을 넘어서면서 반기 기준 역대 최대를 기록했다. 홈플러스 기\\n\\n\\n이데일리\\n\\n48분전\\n\\n\\n\\n\\n\\n\\n\\n\\n구윤철 “㈜대한민국 건설하겠다”…경제사령탑 첫 일성\\n\\n구윤철 경제부총리 겸 기획재정부 장관 후보자는 29일 “진짜성장을 위한 경제대혁신을 추진하겠다”라고 밝혔다. 핵심 키워드로는 ‘주식회사 대한민국’을 제시했다. 인공지능(AI)을 비롯한 미래 먹거리 투자를 통해 ‘주주\\n\\n\\n서울신문\\n\\n1시간전\\n\\n\\n\\n\\n\\n\\n\\n\\n양궁협회장만 잘하는게 아니었네…‘본업’에서도 존재감 뽐낸 정의선 회장\\n\\n정의선 취임 5년만에 영업익 6배 전기차 플랫폼車 100만대 돌파 SDV·AAM 등 미래 모빌리티 속도 도요타·GM 손잡는 프레너미 전략 제네시스 고급화에 美판매량 4.5배 ‘현대차는 2024년 판매량 3위로 글로벌\\n\\n\\n매일경제\\n\\n1시간전\\n\\n\\n\\n\\n\\n\\n\\n\\n지하철 요금 물가보다 빠르게 올랐다… 누적적자에 노후화 답은 요금인상? [뉴스+]\\n\\n20년간 요금 94% 올라… 같은 기간 물가는 56% 상승 서울시 “불가피”… 무임승차·노후화 등으로 비용 증가 30일 출근부터 본격 체감…시민단체 “시민에 비용 전가” 지난 20년간 서울 지하철 요금이 물가보다 더\\n\\n\\n세계일보\\n\\n1시간전\\n\\n\\n\\n\\n\\n\\n\\n\\n주담대 6억 이유…월 300만원 원리금 낼 수 있는 상위 10% 겨냥\\n\\n서울 서초구 반포동 아파트 전경. 독자제공 금융당국이 ‘주담대 최대 6억 원 제한’이란 초강력 규제를 들고 나온 가운데 ‘왜 6억 원’인가에 대해 의문이 제기된다. 특히 집값이 급등하던 2019년 15억 원 이상 주\\n\\n\\n문화일보\\n\\n2시간전\\n\\n\\n\\n\\n\\n\\n\\n\\n한국인만 조이는 대출 규제…외국인들은 ‘아파트 쇼핑’ 나선다\\n\\n대출 땐 6개월내 전입의무 등 까다로운 규제 적용 안 받아 매매 많은 수도권이 규제 대상 외국인 거래 증가 가능성 높아 정부의 고강도 부동산 대출규제가 최근 불거진 ‘한국인 역차별 논란’을 더 키울 수 있다는 우려가\\n\\n\\n매일경제\\n\\n2시간전\\n\\n\\n\\n\\n\\n\\n\\n\\n“빚만 쌓여가고 있다”...혁신기술 있어도 힘든 스타트업, 특허 없는 곳 무려 43%\\n\\n팬데믹 후 투자 위축 R&D 자금 줄어들어 3557곳 중 1547곳 특허 단 하나도 없어 지난해 창업한 곳은 무특허 비율 87.1% VC도 3년새 1/3토막 특허심사 길단 비판도 # 2019년 설립된 인공지능(AI)\\n\\n\\n매일경제\\n\\n2시간전\\n\\n\\n\\n\\n\\n\\n\\n\\n“지방 전원주택에 본점 허위 등록, 잡아냅니다”\\n\\n휴면법인 인수 등 악용 중과 회피 ‘꼼수’ 쓰는 법인들 끝까지 추적 ‘과점주주 간주취득세 과세’ 국세청 자료 분석 추징, 전국 첫 성과 A건설사는 서울에서 법인 등록을 한 후 5년 이상 영업하지 않던 B사를 인수했다\\n\\n\\n경향신문\\n\\n2시간전\\n\\n\\n\\n\\n\\n\\n\\n\\n\"마포 대신 서대문·은평\"…고액 영끌 막히자 눈 돌리나\\n\\n정부가 수도권 주택담보대출 한도를 6억 원으로 제한하는 초고강도 규제를 시행하면서, 이제 서울 아파트를 사려면 평균 시세로 따졌을 때 8억 원이 넘는 현금이 있어야 합니다. 서울의 중저가 아파트나 서울 외곽으로 매수\\n\\n\\nSBS\\n\\n3시간전\\n\\n\\n\\n\\n\\n\\n\\n\\n수도권 과열 진정 기대… 젊은 층 ‘내 집 마련 멀어지나’ 우려도 [이재명 정부 첫 부동산 대책]\\n\\n정부의 전례 없던 초고강도 대출 규제가 과열된 수도권 부동산 시장을 당분간 진정시킬 수 있는 것으로 평가된다. 다만 여유자금이 충분하지 않은 신혼부부 등 젊은 층의 ‘내 집 마련’ 역시 앞으로 더욱 어려워질 수 있다\\n\\n\\n부산일보\\n\\n3시간전\\n\\n\\n\\n\\n\\n\\n\\n\\n‘채찍과 당근’ 동시에 꺼내든 미국…관세협상 돌파구 고심하는 한국\\n\\n美, 관세 유예 조치 안 할 경우 내달 9일 즉각 15% 차등 관세 韓정부, 車∙철강 관련 입장 전달 美LNG사업 등 협상 노력 이어가 산업통상부, 30일 관세 관련 공청회 미국과의 관세 협상 속도가 이재\\n\\n\\n매일경제\\n\\n3시간전\\n\\n\\n\\n\\n\\n\\n\\n\\n\\'㈜대한민국\\' 내건 구윤철 \"초혁신 경제로 파이 키우겠다\"(종합)\\n\\n첫 기자간담회…\"계란·라면·콩나물가격 등 매일 직면 생활물가 안정에 최선\" 증세론엔 \"경제 어려움 속 어려워, 파이 키워야\"…3차 추경론엔 \"재정상황도 봐야\" 정책팀 = 구윤철 경제부총리 겸 기획재정부 장관 후보자는\\n\\n\\n연합뉴스\\n\\n3시간전\\n\\n\\n\\n\\n\\n\\n\\n\\n코스피 상승 26년 만에 최고… 하반기 ‘진짜 시험대’ 오른다\\n\\n‘코리아 디스카운트’ 기저효과에 새 정부 출범 ‘허니문 랠리’ 지속 증권·금융주 탄력, 방산 등 급등 단기과열종목 한 달 새 2배 늘어 차익 실현… 선별적 강세 가능성 일각 “과열 종목 거품 빠질 수도” 코스피가 2\\n\\n\\n서울신문\\n\\n3시간전\\n\\n\\n\\n\\n\\n\\n\\n\\n‘주담대 6억’ 영끌해도… 현금 8.6억 있어야 서울 아파트 산다\\n\\n‘노도강’ 등 7개區 뺀 18개區 영향권 신생아특례 등 정책 대출 한도 줄어 강남3구·한강벨트 거래 뚝 ‘관망세’ 10억 안팎 중저가 위주 매수세 늘 듯 정부가 지난 28일부터 수도권에 대해 6억원 이상 주택담보대출\\n\\n\\n서울신문\\n\\n3시간전\\n\\n\\n\\n\\n\\n\\n\\n\\n‘서울 불장’ 대출 규제, 지방 또 유탄 맞을라 ‘한숨’\\n\\n지난 27일 정부가 발표한 고강도 부동산 대책으로 부산을 비롯한 지방 광역시의 부동산 시장도 당분간 크게 위축될 것으로 우려된다. 수도권에 국한된 초강력 대출 규제 카드지만 ‘집값을 잡겠다’는 정부의 시그널이 명확히\\n\\n\\n부산일보\\n\\n3시간전\\n\\n\\n\\n\\n\\n\\n\\n\\n[단독] “전세 끼고 샀는데 어쩌죠”...갭투자 집주인들 초비상, 6억원 대출규제에 곤혹\\n\\n주담대 한도 6억원으로 제한 전세금반환대출도 규제하면 갭투자 후 실거주할 때 곤란 수도권과 규제지역에서 지난 28일부터 주택담보대출이 6억원으로 제한되면서 전세를 끼고 주택을 구매(갭투자)했던 집주인들에게 비상이 걸\\n\\n\\n매일경제\\n\\n3시간전\\n\\n\\n\\n\\n\\n\\n\\n\\n초강력 대출 규제에 서울 부동산 ‘패닉’…“급등 지역 조정 있을 듯”\\n\\n전격 시행된 정부의 ‘가계부채 관리 강화 방안’에 따라 29일 서울 부동산 시장은 충격에 빠진 모습이다. 시장에선 이번 대책의 파급 효과, 후속 대책 여부 등을 지켜보기 위해 당분간 매도·매수자들이 관망하면서 매매거\\n\\n\\n한겨레\\n\\n3시간전\\n\\n\\n\\n\\n\\n\\n\\n\\n공백 두달만의 기재부 장관 지명…경제정책방향, 세제개편 등 \\'속도전\\' 나설 듯\\n\\n이재명 대통령이 29일 기획재정부 장관 후보자에 구윤철 전 국무조정실장을 지명했다. 최상목 전 부총리 겸 기재부 장관 사퇴 후 두 달여만의 후보자 내정이다. 새정부 경제정책방향 준비, 재정운용 기조전환 등에도 속도가\\n\\n\\n파이낸셜뉴스\\n\\n3시간전\\n\\n\\n\\n\\n\\n\\n\\n\\n\"전용59㎡도 실탄 10억 있어야\" 현금부자만 강남 청약 받는다\\n\\n오랜 기간 청약을 기다려왔던 무주택자들이 정부의 초강력 대출 규제에 발목이 잡히게 됐습니다. 잔금대출 역시 6억 원까지만 가능하게 해 준비해야 할 돈이 늘어난 건데, 현금부자들만 웃게 하는 건 아닌지 우려의 목소리가\\n\\n\\nMBN\\n\\n3시간전\\n\\n\\n\\n\\n\\n\\n\\n\\n비대면 대출 막혔다...초강력 규제에 실수요자 ‘발동동’\\n\\n당장 대출 수요가 있던 실수요자들이 주말 사이에 혼란을 겪었다. 금융당국이 고강도 가계대출 관리 방안을 발표한 직후 은행권 등이 주택담보대출(주담대), 신용대출 등 비대면 신청을 일제히 중단했다. 주담대 한도를 6억\\n\\n\\n디지털타임스\\n\\n3시간전\\n\\n\\n\\n\\n\\n\\n\\n\\n신생아 특례 ‘연소득 2억’ 상한선은 손 안 대고…정책대출 한도 20% 일괄 축소\\n\\n서울 아파트값 급등에 대응해 정부가 대대적인 대출 조이기에 나선 가운데 정책대출 한도도 크게 줄어들 전망이다. 윤석열 정부 당시 정책대출 수혜 대상을 크게 확대하면서 집값 상승의 불씨를 댕겼다는 평가를 받았는데, 다\\n\\n\\n한겨레\\n\\n3시간전\\n\\n\\n\\n\\n\\n\\n\\n\\n7월부터 오르는 국민연금 보험료…월 최대 1만8000원 인상\\n\\n내달부터 국민연금 보험료 부과 기준인 \\'기준소득월액\\'의 상·하한이 조정되면서, 일부 가입자의 월 보험료가 최대 1만8000원 오를 예정이다. 직장인은 회사와 보험료를 반씩 내기 때문에 본인 부담은 최대 9000원 늘\\n\\n\\n디지털타임스\\n\\n3시간전\\n\\n\\n\\n\\n\\n\\n\\n\\n경제부총리 지명됐지만…기재부, 새경방·내년 예산안 속도 내나\\n\\n이재명 정부의 초대 경제부총리 겸 기획재정부 장관 후보자로 구윤철 전 국무조정실장이 지명되면서 새정부 경제정책방향 등 기재부 현안들도 속도를 낼지 주목된다. 지금까지 경제 사령탑의 공석 사태가 두 달 가까이 이어지면\\n\\n\\n디지털타임스\\n\\n3시간전\\n\\n\\n\\n\\n\\n\\n\\n\\n구윤철 기재부 장관 후보자 \"주식회사 대한민국 초혁신 경제로\"\\n\\n이재명 대통령이 새 정부 초대 경제사령탑으로 지명한 구윤철 부총리 겸 기획재정부 장관이 29일 서울 예금보험공사에서 기자간담회를 열고 재정의 적극적 역할을 강조했다. 그는 모두발언에서 \"경제 운영에 있어서 국민이 주\\n\\n\\n한국일보\\n\\n3시간전\\n\\n\\n\\n\\n\\n\\n\\n\\nAI 시장은 터지는데…찾는 이 없는 차세대 메모리\\n\\n인공지능(AI) 반도체 수요가 폭발적으로 늘고 있는 가운데, HBM(고대역폭메모리)와 함께 차세대 메모리반도체 기술로 평가 받는 CXL(컴퓨트 익스프레스 링크)과 PIM(프로세싱 인 메모리)의 성과가 3~4년째 나오\\n\\n\\n디지털타임스\\n\\n3시간전\\n\\n\\n\\n\\n\\n\\n\\n\\n오유경 식약처장 \\'유임\\'…\"막중한 책임감\"\\n\\n오유경 식품의약품안전처장은 29일 대통령실의 유임 발표에 대해 \"국민 생활 속의 안전을 담당하는 부처로서 긴장감을 늦추지 않고 국민 식의약안전을 위해 최선을 다해 나가겠다\"고 밝혔습니다. 오 처장은 \"유임에 대해 막\\n\\n\\nSBS Biz\\n\\n3시간전\\n\\n\\n\\n\\n\\n\\n\\n\\n구윤철 \"\\'진짜 성장\\' 경제대혁신 추진…주식회사 대한민국 건설\"(종합)\\n\\n이재명 정부 초대 부총리 겸 기획재정부 장관 후보자로 지명된 구윤철 후보자는 29일 진짜성장을 위한 경제대혁신을 추진하기 위해 \\'주식회사 대한민국\\'을 만들어가야 한다고 강조했다. 구 후보자는 이날 부총리 후보 지명 \\n\\n\\n뉴스1\\n\\n3시간전\\n\\n\\n\\n\\n\\n\\n\\n\\n[가상자산 나침반] 중동 휴전에 비트코인 가격 회복…다시 ‘파월의 입’ 주목\\n\\n중동의 분쟁이 일단락되면서 급락했던 비트코인 가격도 이전 수준을 모두 회복했다. 가상자산의 제도권 수용 속도가 빨라지며 기대감이 높아지고 있는 가운데 미국의 경제 지표와 제롬 파월 연방준비제도(연준·Fed) 의장의 \\n\\n\\n디지털타임스\\n\\n3시간전\\n\\n\\n\\n\\n\\n\\n\\n\\n‘대출 6억원 한도’에 매수 문의 뚝…“규제 ‘약발’ 1~3개월은 갈 것”\\n\\n지난 28일부터 정부의 가계부채 관리방안에 따라 주택담보대출 규제가 시행되면서 최근 매매가격이 급등하던 서울 마포·성동구 등의 아파트 거래가 주춤하는 분위기다. 강력한 대출 규제로 급한 불 끄기에 나선 정부는 시장 \\n\\n\\n경향신문\\n\\n3시간전\\n\\n\\n\\n\\n\\n\\n\\n\\n담배 끊어도 낸 보험료는 일부만 돌려준다 [임성원의 속편한 보험]\\n\\n18년 전 지인의 권유로 유니버설 종신보험에 가입한 이 씨는 건강검진에서 금연에 따른 건강(우량)체 판정을 받았다. 이 씨는 가입한 상품 관련 보상을 보험사에 신청했다가 당황했다. 납입할 보험료는 월 1500원가량 \\n\\n\\n디지털타임스\\n\\n3시간전\\n\\n\\n\\n\\n\\n\\n\\n\\n[코스피5000, 꿈인가 현실인가] “도달 ‘시점’보다 ‘조건’ 중요… 기업실적 동반돼야”\\n\\n코스피가 3000포인트를 달성한 뒤 조정에 들어갔다. 하지만 최근 한 달간 전 세계 증시를 압도하는 상승률을 기록하며 투자자들의 눈높이도 높아졌다. 지금 코스피 상승을 이끄는 것은 이재명 정부의 상법 개정 등을 통한\\n\\n\\n디지털타임스\\n\\n3시간전\\n\\n\\n\\n\\n\\n\\n\\n\\n한은 CBDC 사업 잠정 중단…스테이블코인 기세 탓?\\n\\n한국은행 주도로 추진되고 있는 중앙은행 디지털화폐(CBDC) 사업이 2차 테스트를 앞두고 잠정 중단됐다. 시범 사업에 참여한 은행들의 불만이 커지고, 민간 주도로 원화 기반 스테이블코인 도입 논의가 활발해지고 있는 \\n\\n\\n디지털타임스\\n\\n4시간전\\n\\n\\n\\n\\n\\n\\n\\n\\n취임 7주년 맞은 구광모 회장…LG, 글로벌 위기 속 생존 전략 마련 \\'분주\\'\\n\\n미국 관세 정책과 중동 지역 분쟁 격화 등 대외 불확실성이 커지는 가운데 구광모 LG그룹 회장이 예년보다 무거운 분위기 속에서 취임 7주년을 맞았다. 40세의 나이에 국내 4대 그룹 총수에 오른 구 회장은 취임 초부\\n\\n\\n블로터\\n\\n4시간전\\n\\n\\n\\n\\n\\n\\n\\n\\n10억 미만 아파트 문의 쇄도…강남 3구 문의 ‘뚝’\\n\\n주택담보대출 한도를 최대 6억 원으로 제한하는 초고강도 대출 규제 여파가 부동산 시장에 서서히 반영되고 있습니다. 직격탄을 맞은 강남권 아파트는 벌써부터 매수 문의가 뚝 끊기고, 호가도 꺾이면서 거래가 위축되는 모습\\n\\n\\n채널A\\n\\n4시간전\\n\\n\\n\\n\\n\\n\\n\\n\\n구윤철 \"국민이 진짜 주주되는 \\'㈜대한민국\\' 건설…R&D는 발전 원동력\"(종합)\\n\\n안호균 임소현 박광온 기자 = 구윤철 경제부총리 겸 기획재정부 장관 후보자는 29일 \"진짜 성장을 위한 경제 대혁신을 추진하겠다\"며 \"경제혁신의 기본방향은 대한민국을 주식회사처럼 경영하는 \\'주식회사 대한민국\\' 건설\"\\n\\n\\n뉴시스\\n\\n4시간전\\n\\n\\n\\n\\n\\n\\n')]"
      ]
     },
     "execution_count": 15,
     "metadata": {},
     "output_type": "execute_result"
    }
   ],
   "source": [
    "import bs4\n",
    "from langchain import hub\n",
    "from langchain.text_splitter import RecursiveCharacterTextSplitter\n",
    "from langchain_community.document_loaders import WebBaseLoader\n",
    "from langchain_community.vectorstores import Chroma\n",
    "from langchain_core.output_parsers import StrOutputParser\n",
    "from langchain_core.runnables import RunnablePassthrough\n",
    "from langchain_openai import ChatOpenAI, OpenAIEmbeddings\n",
    "\n",
    "#### INDEXING ####\n",
    "\n",
    "# Load Documents\n",
    "loader = WebBaseLoader(\n",
    "    web_paths=(\"https://news.naver.com/section/101\",),\n",
    "    bs_kwargs=dict(\n",
    "        parse_only=bs4.SoupStrainer(\n",
    "            class_=(\"sa_text\", \"sa_item _SECTION_HEADLINE\")\n",
    "        )\n",
    "    ),\n",
    ")\n",
    "docs = loader.load()\n",
    "docs"
   ]
  },
  {
   "cell_type": "code",
   "execution_count": 17,
   "id": "ad03e012-4972-45c0-9045-a9040eb0ff44",
   "metadata": {},
   "outputs": [
    {
     "data": {
      "text/plain": [
       "[Document(metadata={'source': 'https://news.naver.com/section/101'}, page_content='송미령 장관 “타작물 재배 지원 예산 확대…논콩은 식량안보 작물”'),\n",
       " Document(metadata={'source': 'https://news.naver.com/section/101'}, page_content='송미령 농림축산식품부 장관이 “타작물 재배에 농업인들이 적극 참여할 수 있도록 정부 예산을 대폭 확대하겠다”고 밝혔다. 송 장관은 29일 전북 부안군의 논콩 전문 생산단지를 방문해 “논에 벼 대신 콩 같은 주요 작물\\n\\n\\n파이낸셜뉴스\\n\\n\\n\\n\\n29\\n개의 관련뉴스 더보기'),\n",
       " Document(metadata={'source': 'https://news.naver.com/section/101'}, page_content='29\\n개의 관련뉴스 더보기\\n\\n\\n\\n\\n\\n\\n\\n\\n\\n\\n\\n\\n\\n\\n\\n\\n\\n\\n고강도 대출규제 첫날, 은행 비대면 주담대-신용대출 막혔다'),\n",
       " Document(metadata={'source': 'https://news.naver.com/section/101'}, page_content='《정부가 수도권과 규제 지역의 주택담보대출 한도를 6억 원으로 제한하는 강력한 대출 규제가 시행된 첫날인 28일, 은행권이 비대면 주담대·신용대출을 전면 중단시켰다. 전산 작업이 필요하다는 이유지만 당분간 실수요자 \\n\\n\\n동아일보'),\n",
       " Document(metadata={'source': 'https://news.naver.com/section/101'}, page_content='동아일보\\n\\n\\n\\n\\n33\\n개의 관련뉴스 더보기\\n\\n\\n\\n\\n\\n\\n\\n\\n\\n\\n\\n\\n\\n\\n\\n\\n\\n\\n제조기업 경기전망 16분기째 부정적…54% \"매출 달성 어려울 듯\"'),\n",
       " Document(metadata={'source': 'https://news.naver.com/section/101'}, page_content=\"대한상의 조사…'관세 예외' 반도체 웃고 '적용' 철강·자동차 울고 새 정부의 경제 정책 기대감에도 미국발 관세 압박, 중동 불안, 내수 부진의 삼중고에 국내 제조기업들의 올해 3분기 경기 전망이 부정적인 것으로 조\\n\\n\\n연합뉴스\\n\\n\\n\\n\\n27\\n개의 관련뉴스 더보기\"),\n",
       " Document(metadata={'source': 'https://news.naver.com/section/101'}, page_content='연합뉴스\\n\\n\\n\\n\\n27\\n개의 관련뉴스 더보기\\n\\n\\n\\n\\n\\n\\n\\n\\n\\n\\n\\n\\n\\n\\n\\n\\n\\n\\n치킨값 2만5000원 시대… 어플 주문, 더 올랐다?'),\n",
       " Document(metadata={'source': 'https://news.naver.com/section/101'}, page_content=\"외식 물가 상승에 배달 수수료 부담이 겹치면서 치킨을 비롯한 외식 가격이 또다시 오르고 있다. 매장과 배달 가격을 다르게 설정하는 '배달 이중가격제'가 업계 전반으로 확산되고 있고, 이로 인해 배달비를 넘는 가격 인\\n\\n\\n조세일보\\n\\n\\n\\n\\n18\\n개의 관련뉴스 더보기\"),\n",
       " Document(metadata={'source': 'https://news.naver.com/section/101'}, page_content=\"조세일보\\n\\n\\n\\n\\n18\\n개의 관련뉴스 더보기\\n\\n\\n\\n\\n\\n\\n\\n\\n\\n\\n\\n\\n\\n\\n\\n\\n\\n\\n신한은행 배달플랫폼 '땡겨요'에 스타벅스 입점\"),\n",
       " Document(metadata={'source': 'https://news.naver.com/section/101'}, page_content=\"신한은행은 신세계그룹과 서울시 중구 소재 본점에서 신사업 지원 및 동반성장 생태계 구축을 위한 업무협약을 체결했다고 29일 밝혔다. 두 회사는 이번 업무협약을 통해 △'땡겨요' 및 '신한인증서' 도입 △협력업체 동반\\n\\n\\n파이낸셜뉴스\"),\n",
       " Document(metadata={'source': 'https://news.naver.com/section/101'}, page_content='파이낸셜뉴스\\n\\n\\n\\n\\n4\\n개의 관련뉴스 더보기\\n\\n\\n\\n\\n\\n\\n\\n\\n산업부, 미국 정부·의회와 새 정부 협력 강화 비전 공유'),\n",
       " Document(metadata={'source': 'https://news.naver.com/section/101'}, page_content='산업통상자원부는 여한구 통상교섭본부장이 지난 22일(현지시간)부터 27일까지 미국 워싱턴 D.C.를 방문해 하워드 러트닉 상무장관과 제이미슨 그리어 USTR 대표, 더그 버검 국가에너지위원회 의장(겸 내무장관) 등 \\n\\n\\n지디넷코리아'),\n",
       " Document(metadata={'source': 'https://news.naver.com/section/101'}, page_content=\"지디넷코리아\\n\\n\\n\\n\\n43\\n개의 관련뉴스 더보기\\n\\n\\n\\n\\n\\n해수부, 이 대통령 공약 '북극항로 개발' 계획 속도\"),\n",
       " Document(metadata={'source': 'https://news.naver.com/section/101'}, page_content=\"해양수산부가 이재명 대통령의 대선 공약인 '북극항로 개발' 계획을 본격 추진합니다. 오늘(29일) 해수부에 따르면 '북극항로 TF'는 북극항로의 상업화 가능성이 이전보다 커졌다고 판단해 조선·금융·에너지·제조업과 연\\n\\n\\n연합뉴스TV\\n\\n\\n\\n\\n9\\n개의 관련뉴스 더보기\"),\n",
       " Document(metadata={'source': 'https://news.naver.com/section/101'}, page_content='연합뉴스TV\\n\\n\\n\\n\\n9\\n개의 관련뉴스 더보기\\n\\n\\n\\n\\n\\n車와 예술의 평행이론…제네시스, 청주서 이색적 공간 실험'),\n",
       " Document(metadata={'source': 'https://news.naver.com/section/101'}, page_content=\"SK하이닉스 청주공장과 롯데아울렛 청주점 사이 교차로에는 눈길을 단번에 사로잡는 이질적인 건축물이 있다. 60m 높이의 나무 캐노피와 투명 유리의 외관으로 전통과 현대의 조화를 표현한 '제네시스 청주'다. 자동차 전\\n\\n\\n비즈워치\\n\\n\\n\\n\\n16\\n개의 관련뉴스 더보기\"),\n",
       " Document(metadata={'source': 'https://news.naver.com/section/101'}, page_content='비즈워치\\n\\n\\n\\n\\n16\\n개의 관련뉴스 더보기\\n\\n\\n\\n\\n\\n구윤철 후보자 \"주식회사 대한민국 만들 것\"...생활물가 중점, 증세는 \"어렵다\"'),\n",
       " Document(metadata={'source': 'https://news.naver.com/section/101'}, page_content='구윤철 부총리 겸 기획재정부 장관 후보자는 29일 기자간담회를 통해 \"진짜성장을 위한 경제대혁신을 추진하겠다\"고 밝혔다. 구 호보자는 \"기본방향은 대한민국을 주식회사처럼 경영하는 \\'주식회사 대한민국\\' 건설\"이라며 \"\\n\\n\\n중앙일보'),\n",
       " Document(metadata={'source': 'https://news.naver.com/section/101'}, page_content='중앙일보\\n\\n\\n\\n\\n54\\n개의 관련뉴스 더보기\\n\\n\\n\\n\\n\\n중소기업 7월 경기전망 부진…건설·서비스업은 개선'),\n",
       " Document(metadata={'source': 'https://news.naver.com/section/101'}, page_content=\"▲위 사진은 기사 내용과 관련이 없습니다. 중소기업들이 다음 달 경기가 전달보다 나빠질 것으로 봤으나 비제조업 경기는 개선될 것으로 전망했습니다. 중소기업중앙회는 최근 3천86개 중소기업을 대상으로 실시한 '중소기업\\n\\n\\nSBS\"),\n",
       " Document(metadata={'source': 'https://news.naver.com/section/101'}, page_content='SBS\\n\\n\\n\\n\\n21\\n개의 관련뉴스 더보기\\n\\n\\n\\n\\n\\n\"바람을 피워도, 하필 걔였니?\" 하이닉스·한미 \\'사랑과 전쟁\\''),\n",
       " Document(metadata={'source': 'https://news.naver.com/section/101'}, page_content='추천! 더중플-K반도체 연구 K반도체도 사람의 일이라, 납품 다각화는 뜻밖의 일이 되고 수율 불량에 가슴은 터집니다. 만나고 헤어지고, 선택하고 후회하고…가장 거대한 시설로 가장 미세한 제품을 만드는 반도체 산업 뒤\\n\\n\\n중앙일보\\n\\n17분전'),\n",
       " Document(metadata={'source': 'https://news.naver.com/section/101'}, page_content='중앙일보\\n\\n17분전\\n\\n\\n\\n\\n\\n\\n\\n\\n길 잃은 뭉칫돈 몰려...회사채에 역대급 자금 몰렸다'),\n",
       " Document(metadata={'source': 'https://news.naver.com/section/101'}, page_content='이 기사는 2025년06월29일 20시49분에 마켓인 프리미엄 콘텐츠로 선공개 되었습니다. 올해 상반기 공모 회사채 수요예측에 참여한 자금 규모가 168조원을 넘어서면서 반기 기준 역대 최대를 기록했다. 홈플러스 기\\n\\n\\n이데일리\\n\\n48분전'),\n",
       " Document(metadata={'source': 'https://news.naver.com/section/101'}, page_content='이데일리\\n\\n48분전\\n\\n\\n\\n\\n\\n\\n\\n\\n구윤철 “㈜대한민국 건설하겠다”…경제사령탑 첫 일성'),\n",
       " Document(metadata={'source': 'https://news.naver.com/section/101'}, page_content='구윤철 경제부총리 겸 기획재정부 장관 후보자는 29일 “진짜성장을 위한 경제대혁신을 추진하겠다”라고 밝혔다. 핵심 키워드로는 ‘주식회사 대한민국’을 제시했다. 인공지능(AI)을 비롯한 미래 먹거리 투자를 통해 ‘주주\\n\\n\\n서울신문\\n\\n1시간전'),\n",
       " Document(metadata={'source': 'https://news.naver.com/section/101'}, page_content='서울신문\\n\\n1시간전\\n\\n\\n\\n\\n\\n\\n\\n\\n양궁협회장만 잘하는게 아니었네…‘본업’에서도 존재감 뽐낸 정의선 회장'),\n",
       " Document(metadata={'source': 'https://news.naver.com/section/101'}, page_content='정의선 취임 5년만에 영업익 6배 전기차 플랫폼車 100만대 돌파 SDV·AAM 등 미래 모빌리티 속도 도요타·GM 손잡는 프레너미 전략 제네시스 고급화에 美판매량 4.5배 ‘현대차는 2024년 판매량 3위로 글로벌\\n\\n\\n매일경제\\n\\n1시간전'),\n",
       " Document(metadata={'source': 'https://news.naver.com/section/101'}, page_content='매일경제\\n\\n1시간전\\n\\n\\n\\n\\n\\n\\n\\n\\n지하철 요금 물가보다 빠르게 올랐다… 누적적자에 노후화 답은 요금인상? [뉴스+]'),\n",
       " Document(metadata={'source': 'https://news.naver.com/section/101'}, page_content='20년간 요금 94% 올라… 같은 기간 물가는 56% 상승 서울시 “불가피”… 무임승차·노후화 등으로 비용 증가 30일 출근부터 본격 체감…시민단체 “시민에 비용 전가” 지난 20년간 서울 지하철 요금이 물가보다 더\\n\\n\\n세계일보\\n\\n1시간전'),\n",
       " Document(metadata={'source': 'https://news.naver.com/section/101'}, page_content='세계일보\\n\\n1시간전\\n\\n\\n\\n\\n\\n\\n\\n\\n주담대 6억 이유…월 300만원 원리금 낼 수 있는 상위 10% 겨냥'),\n",
       " Document(metadata={'source': 'https://news.naver.com/section/101'}, page_content='서울 서초구 반포동 아파트 전경. 독자제공 금융당국이 ‘주담대 최대 6억 원 제한’이란 초강력 규제를 들고 나온 가운데 ‘왜 6억 원’인가에 대해 의문이 제기된다. 특히 집값이 급등하던 2019년 15억 원 이상 주\\n\\n\\n문화일보\\n\\n2시간전'),\n",
       " Document(metadata={'source': 'https://news.naver.com/section/101'}, page_content='문화일보\\n\\n2시간전\\n\\n\\n\\n\\n\\n\\n\\n\\n한국인만 조이는 대출 규제…외국인들은 ‘아파트 쇼핑’ 나선다'),\n",
       " Document(metadata={'source': 'https://news.naver.com/section/101'}, page_content='대출 땐 6개월내 전입의무 등 까다로운 규제 적용 안 받아 매매 많은 수도권이 규제 대상 외국인 거래 증가 가능성 높아 정부의 고강도 부동산 대출규제가 최근 불거진 ‘한국인 역차별 논란’을 더 키울 수 있다는 우려가\\n\\n\\n매일경제\\n\\n2시간전'),\n",
       " Document(metadata={'source': 'https://news.naver.com/section/101'}, page_content='매일경제\\n\\n2시간전\\n\\n\\n\\n\\n\\n\\n\\n\\n“빚만 쌓여가고 있다”...혁신기술 있어도 힘든 스타트업, 특허 없는 곳 무려 43%'),\n",
       " Document(metadata={'source': 'https://news.naver.com/section/101'}, page_content='팬데믹 후 투자 위축 R&D 자금 줄어들어 3557곳 중 1547곳 특허 단 하나도 없어 지난해 창업한 곳은 무특허 비율 87.1% VC도 3년새 1/3토막 특허심사 길단 비판도 # 2019년 설립된 인공지능(AI)\\n\\n\\n매일경제\\n\\n2시간전\\n\\n\\n\\n\\n\\n\\n\\n\\n“지방 전원주택에 본점 허위 등록, 잡아냅니다”'),\n",
       " Document(metadata={'source': 'https://news.naver.com/section/101'}, page_content='휴면법인 인수 등 악용 중과 회피 ‘꼼수’ 쓰는 법인들 끝까지 추적 ‘과점주주 간주취득세 과세’ 국세청 자료 분석 추징, 전국 첫 성과 A건설사는 서울에서 법인 등록을 한 후 5년 이상 영업하지 않던 B사를 인수했다\\n\\n\\n경향신문\\n\\n2시간전'),\n",
       " Document(metadata={'source': 'https://news.naver.com/section/101'}, page_content='경향신문\\n\\n2시간전\\n\\n\\n\\n\\n\\n\\n\\n\\n\"마포 대신 서대문·은평\"…고액 영끌 막히자 눈 돌리나'),\n",
       " Document(metadata={'source': 'https://news.naver.com/section/101'}, page_content='정부가 수도권 주택담보대출 한도를 6억 원으로 제한하는 초고강도 규제를 시행하면서, 이제 서울 아파트를 사려면 평균 시세로 따졌을 때 8억 원이 넘는 현금이 있어야 합니다. 서울의 중저가 아파트나 서울 외곽으로 매수\\n\\n\\nSBS\\n\\n3시간전'),\n",
       " Document(metadata={'source': 'https://news.naver.com/section/101'}, page_content='SBS\\n\\n3시간전\\n\\n\\n\\n\\n\\n\\n\\n\\n수도권 과열 진정 기대… 젊은 층 ‘내 집 마련 멀어지나’ 우려도 [이재명 정부 첫 부동산 대책]'),\n",
       " Document(metadata={'source': 'https://news.naver.com/section/101'}, page_content='정부의 전례 없던 초고강도 대출 규제가 과열된 수도권 부동산 시장을 당분간 진정시킬 수 있는 것으로 평가된다. 다만 여유자금이 충분하지 않은 신혼부부 등 젊은 층의 ‘내 집 마련’ 역시 앞으로 더욱 어려워질 수 있다\\n\\n\\n부산일보\\n\\n3시간전'),\n",
       " Document(metadata={'source': 'https://news.naver.com/section/101'}, page_content='부산일보\\n\\n3시간전\\n\\n\\n\\n\\n\\n\\n\\n\\n‘채찍과 당근’ 동시에 꺼내든 미국…관세협상 돌파구 고심하는 한국'),\n",
       " Document(metadata={'source': 'https://news.naver.com/section/101'}, page_content='美, 관세 유예 조치 안 할 경우 내달 9일 즉각 15% 차등 관세 韓정부, 車∙철강 관련 입장 전달 美LNG사업 등 협상 노력 이어가 산업통상부, 30일 관세 관련 공청회 미국과의 관세 협상 속도가 이재\\n\\n\\n매일경제\\n\\n3시간전'),\n",
       " Document(metadata={'source': 'https://news.naver.com/section/101'}, page_content='매일경제\\n\\n3시간전\\n\\n\\n\\n\\n\\n\\n\\n\\n\\'㈜대한민국\\' 내건 구윤철 \"초혁신 경제로 파이 키우겠다\"(종합)'),\n",
       " Document(metadata={'source': 'https://news.naver.com/section/101'}, page_content='첫 기자간담회…\"계란·라면·콩나물가격 등 매일 직면 생활물가 안정에 최선\" 증세론엔 \"경제 어려움 속 어려워, 파이 키워야\"…3차 추경론엔 \"재정상황도 봐야\" 정책팀 = 구윤철 경제부총리 겸 기획재정부 장관 후보자는\\n\\n\\n연합뉴스\\n\\n3시간전'),\n",
       " Document(metadata={'source': 'https://news.naver.com/section/101'}, page_content='연합뉴스\\n\\n3시간전\\n\\n\\n\\n\\n\\n\\n\\n\\n코스피 상승 26년 만에 최고… 하반기 ‘진짜 시험대’ 오른다'),\n",
       " Document(metadata={'source': 'https://news.naver.com/section/101'}, page_content='‘코리아 디스카운트’ 기저효과에 새 정부 출범 ‘허니문 랠리’ 지속 증권·금융주 탄력, 방산 등 급등 단기과열종목 한 달 새 2배 늘어 차익 실현… 선별적 강세 가능성 일각 “과열 종목 거품 빠질 수도” 코스피가 2\\n\\n\\n서울신문\\n\\n3시간전'),\n",
       " Document(metadata={'source': 'https://news.naver.com/section/101'}, page_content='서울신문\\n\\n3시간전\\n\\n\\n\\n\\n\\n\\n\\n\\n‘주담대 6억’ 영끌해도… 현금 8.6억 있어야 서울 아파트 산다'),\n",
       " Document(metadata={'source': 'https://news.naver.com/section/101'}, page_content='‘노도강’ 등 7개區 뺀 18개區 영향권 신생아특례 등 정책 대출 한도 줄어 강남3구·한강벨트 거래 뚝 ‘관망세’ 10억 안팎 중저가 위주 매수세 늘 듯 정부가 지난 28일부터 수도권에 대해 6억원 이상 주택담보대출\\n\\n\\n서울신문\\n\\n3시간전'),\n",
       " Document(metadata={'source': 'https://news.naver.com/section/101'}, page_content='서울신문\\n\\n3시간전\\n\\n\\n\\n\\n\\n\\n\\n\\n‘서울 불장’ 대출 규제, 지방 또 유탄 맞을라 ‘한숨’'),\n",
       " Document(metadata={'source': 'https://news.naver.com/section/101'}, page_content='지난 27일 정부가 발표한 고강도 부동산 대책으로 부산을 비롯한 지방 광역시의 부동산 시장도 당분간 크게 위축될 것으로 우려된다. 수도권에 국한된 초강력 대출 규제 카드지만 ‘집값을 잡겠다’는 정부의 시그널이 명확히\\n\\n\\n부산일보\\n\\n3시간전'),\n",
       " Document(metadata={'source': 'https://news.naver.com/section/101'}, page_content='부산일보\\n\\n3시간전\\n\\n\\n\\n\\n\\n\\n\\n\\n[단독] “전세 끼고 샀는데 어쩌죠”...갭투자 집주인들 초비상, 6억원 대출규제에 곤혹'),\n",
       " Document(metadata={'source': 'https://news.naver.com/section/101'}, page_content='주담대 한도 6억원으로 제한 전세금반환대출도 규제하면 갭투자 후 실거주할 때 곤란 수도권과 규제지역에서 지난 28일부터 주택담보대출이 6억원으로 제한되면서 전세를 끼고 주택을 구매(갭투자)했던 집주인들에게 비상이 걸\\n\\n\\n매일경제\\n\\n3시간전'),\n",
       " Document(metadata={'source': 'https://news.naver.com/section/101'}, page_content='매일경제\\n\\n3시간전\\n\\n\\n\\n\\n\\n\\n\\n\\n초강력 대출 규제에 서울 부동산 ‘패닉’…“급등 지역 조정 있을 듯”'),\n",
       " Document(metadata={'source': 'https://news.naver.com/section/101'}, page_content='전격 시행된 정부의 ‘가계부채 관리 강화 방안’에 따라 29일 서울 부동산 시장은 충격에 빠진 모습이다. 시장에선 이번 대책의 파급 효과, 후속 대책 여부 등을 지켜보기 위해 당분간 매도·매수자들이 관망하면서 매매거\\n\\n\\n한겨레\\n\\n3시간전'),\n",
       " Document(metadata={'source': 'https://news.naver.com/section/101'}, page_content=\"한겨레\\n\\n3시간전\\n\\n\\n\\n\\n\\n\\n\\n\\n공백 두달만의 기재부 장관 지명…경제정책방향, 세제개편 등 '속도전' 나설 듯\"),\n",
       " Document(metadata={'source': 'https://news.naver.com/section/101'}, page_content='이재명 대통령이 29일 기획재정부 장관 후보자에 구윤철 전 국무조정실장을 지명했다. 최상목 전 부총리 겸 기재부 장관 사퇴 후 두 달여만의 후보자 내정이다. 새정부 경제정책방향 준비, 재정운용 기조전환 등에도 속도가\\n\\n\\n파이낸셜뉴스\\n\\n3시간전'),\n",
       " Document(metadata={'source': 'https://news.naver.com/section/101'}, page_content='파이낸셜뉴스\\n\\n3시간전\\n\\n\\n\\n\\n\\n\\n\\n\\n\"전용59㎡도 실탄 10억 있어야\" 현금부자만 강남 청약 받는다'),\n",
       " Document(metadata={'source': 'https://news.naver.com/section/101'}, page_content='오랜 기간 청약을 기다려왔던 무주택자들이 정부의 초강력 대출 규제에 발목이 잡히게 됐습니다. 잔금대출 역시 6억 원까지만 가능하게 해 준비해야 할 돈이 늘어난 건데, 현금부자들만 웃게 하는 건 아닌지 우려의 목소리가\\n\\n\\nMBN\\n\\n3시간전'),\n",
       " Document(metadata={'source': 'https://news.naver.com/section/101'}, page_content='MBN\\n\\n3시간전\\n\\n\\n\\n\\n\\n\\n\\n\\n비대면 대출 막혔다...초강력 규제에 실수요자 ‘발동동’'),\n",
       " Document(metadata={'source': 'https://news.naver.com/section/101'}, page_content='당장 대출 수요가 있던 실수요자들이 주말 사이에 혼란을 겪었다. 금융당국이 고강도 가계대출 관리 방안을 발표한 직후 은행권 등이 주택담보대출(주담대), 신용대출 등 비대면 신청을 일제히 중단했다. 주담대 한도를 6억\\n\\n\\n디지털타임스\\n\\n3시간전'),\n",
       " Document(metadata={'source': 'https://news.naver.com/section/101'}, page_content='디지털타임스\\n\\n3시간전\\n\\n\\n\\n\\n\\n\\n\\n\\n신생아 특례 ‘연소득 2억’ 상한선은 손 안 대고…정책대출 한도 20% 일괄 축소'),\n",
       " Document(metadata={'source': 'https://news.naver.com/section/101'}, page_content='서울 아파트값 급등에 대응해 정부가 대대적인 대출 조이기에 나선 가운데 정책대출 한도도 크게 줄어들 전망이다. 윤석열 정부 당시 정책대출 수혜 대상을 크게 확대하면서 집값 상승의 불씨를 댕겼다는 평가를 받았는데, 다\\n\\n\\n한겨레\\n\\n3시간전'),\n",
       " Document(metadata={'source': 'https://news.naver.com/section/101'}, page_content='한겨레\\n\\n3시간전\\n\\n\\n\\n\\n\\n\\n\\n\\n7월부터 오르는 국민연금 보험료…월 최대 1만8000원 인상'),\n",
       " Document(metadata={'source': 'https://news.naver.com/section/101'}, page_content=\"내달부터 국민연금 보험료 부과 기준인 '기준소득월액'의 상·하한이 조정되면서, 일부 가입자의 월 보험료가 최대 1만8000원 오를 예정이다. 직장인은 회사와 보험료를 반씩 내기 때문에 본인 부담은 최대 9000원 늘\\n\\n\\n디지털타임스\\n\\n3시간전\"),\n",
       " Document(metadata={'source': 'https://news.naver.com/section/101'}, page_content='디지털타임스\\n\\n3시간전\\n\\n\\n\\n\\n\\n\\n\\n\\n경제부총리 지명됐지만…기재부, 새경방·내년 예산안 속도 내나'),\n",
       " Document(metadata={'source': 'https://news.naver.com/section/101'}, page_content='이재명 정부의 초대 경제부총리 겸 기획재정부 장관 후보자로 구윤철 전 국무조정실장이 지명되면서 새정부 경제정책방향 등 기재부 현안들도 속도를 낼지 주목된다. 지금까지 경제 사령탑의 공석 사태가 두 달 가까이 이어지면\\n\\n\\n디지털타임스'),\n",
       " Document(metadata={'source': 'https://news.naver.com/section/101'}, page_content='디지털타임스\\n\\n3시간전\\n\\n\\n\\n\\n\\n\\n\\n\\n구윤철 기재부 장관 후보자 \"주식회사 대한민국 초혁신 경제로\"'),\n",
       " Document(metadata={'source': 'https://news.naver.com/section/101'}, page_content='이재명 대통령이 새 정부 초대 경제사령탑으로 지명한 구윤철 부총리 겸 기획재정부 장관이 29일 서울 예금보험공사에서 기자간담회를 열고 재정의 적극적 역할을 강조했다. 그는 모두발언에서 \"경제 운영에 있어서 국민이 주\\n\\n\\n한국일보\\n\\n3시간전'),\n",
       " Document(metadata={'source': 'https://news.naver.com/section/101'}, page_content='한국일보\\n\\n3시간전\\n\\n\\n\\n\\n\\n\\n\\n\\nAI 시장은 터지는데…찾는 이 없는 차세대 메모리'),\n",
       " Document(metadata={'source': 'https://news.naver.com/section/101'}, page_content='인공지능(AI) 반도체 수요가 폭발적으로 늘고 있는 가운데, HBM(고대역폭메모리)와 함께 차세대 메모리반도체 기술로 평가 받는 CXL(컴퓨트 익스프레스 링크)과 PIM(프로세싱 인 메모리)의 성과가 3~4년째 나오\\n\\n\\n디지털타임스\\n\\n3시간전'),\n",
       " Document(metadata={'source': 'https://news.naver.com/section/101'}, page_content='디지털타임스\\n\\n3시간전\\n\\n\\n\\n\\n\\n\\n\\n\\n오유경 식약처장 \\'유임\\'…\"막중한 책임감\"'),\n",
       " Document(metadata={'source': 'https://news.naver.com/section/101'}, page_content='오유경 식약처장 \\'유임\\'…\"막중한 책임감\"\\n\\n오유경 식품의약품안전처장은 29일 대통령실의 유임 발표에 대해 \"국민 생활 속의 안전을 담당하는 부처로서 긴장감을 늦추지 않고 국민 식의약안전을 위해 최선을 다해 나가겠다\"고 밝혔습니다. 오 처장은 \"유임에 대해 막'),\n",
       " Document(metadata={'source': 'https://news.naver.com/section/101'}, page_content='SBS Biz\\n\\n3시간전\\n\\n\\n\\n\\n\\n\\n\\n\\n구윤철 \"\\'진짜 성장\\' 경제대혁신 추진…주식회사 대한민국 건설\"(종합)'),\n",
       " Document(metadata={'source': 'https://news.naver.com/section/101'}, page_content=\"이재명 정부 초대 부총리 겸 기획재정부 장관 후보자로 지명된 구윤철 후보자는 29일 진짜성장을 위한 경제대혁신을 추진하기 위해 '주식회사 대한민국'을 만들어가야 한다고 강조했다. 구 후보자는 이날 부총리 후보 지명 \\n\\n\\n뉴스1\\n\\n3시간전\"),\n",
       " Document(metadata={'source': 'https://news.naver.com/section/101'}, page_content='뉴스1\\n\\n3시간전\\n\\n\\n\\n\\n\\n\\n\\n\\n[가상자산 나침반] 중동 휴전에 비트코인 가격 회복…다시 ‘파월의 입’ 주목'),\n",
       " Document(metadata={'source': 'https://news.naver.com/section/101'}, page_content='중동의 분쟁이 일단락되면서 급락했던 비트코인 가격도 이전 수준을 모두 회복했다. 가상자산의 제도권 수용 속도가 빨라지며 기대감이 높아지고 있는 가운데 미국의 경제 지표와 제롬 파월 연방준비제도(연준·Fed) 의장의 \\n\\n\\n디지털타임스\\n\\n3시간전'),\n",
       " Document(metadata={'source': 'https://news.naver.com/section/101'}, page_content='디지털타임스\\n\\n3시간전\\n\\n\\n\\n\\n\\n\\n\\n\\n‘대출 6억원 한도’에 매수 문의 뚝…“규제 ‘약발’ 1~3개월은 갈 것”'),\n",
       " Document(metadata={'source': 'https://news.naver.com/section/101'}, page_content='지난 28일부터 정부의 가계부채 관리방안에 따라 주택담보대출 규제가 시행되면서 최근 매매가격이 급등하던 서울 마포·성동구 등의 아파트 거래가 주춤하는 분위기다. 강력한 대출 규제로 급한 불 끄기에 나선 정부는 시장 \\n\\n\\n경향신문\\n\\n3시간전'),\n",
       " Document(metadata={'source': 'https://news.naver.com/section/101'}, page_content='경향신문\\n\\n3시간전\\n\\n\\n\\n\\n\\n\\n\\n\\n담배 끊어도 낸 보험료는 일부만 돌려준다 [임성원의 속편한 보험]'),\n",
       " Document(metadata={'source': 'https://news.naver.com/section/101'}, page_content='18년 전 지인의 권유로 유니버설 종신보험에 가입한 이 씨는 건강검진에서 금연에 따른 건강(우량)체 판정을 받았다. 이 씨는 가입한 상품 관련 보상을 보험사에 신청했다가 당황했다. 납입할 보험료는 월 1500원가량 \\n\\n\\n디지털타임스\\n\\n3시간전'),\n",
       " Document(metadata={'source': 'https://news.naver.com/section/101'}, page_content='디지털타임스\\n\\n3시간전\\n\\n\\n\\n\\n\\n\\n\\n\\n[코스피5000, 꿈인가 현실인가] “도달 ‘시점’보다 ‘조건’ 중요… 기업실적 동반돼야”'),\n",
       " Document(metadata={'source': 'https://news.naver.com/section/101'}, page_content='코스피가 3000포인트를 달성한 뒤 조정에 들어갔다. 하지만 최근 한 달간 전 세계 증시를 압도하는 상승률을 기록하며 투자자들의 눈높이도 높아졌다. 지금 코스피 상승을 이끄는 것은 이재명 정부의 상법 개정 등을 통한\\n\\n\\n디지털타임스\\n\\n3시간전'),\n",
       " Document(metadata={'source': 'https://news.naver.com/section/101'}, page_content='디지털타임스\\n\\n3시간전\\n\\n\\n\\n\\n\\n\\n\\n\\n한은 CBDC 사업 잠정 중단…스테이블코인 기세 탓?'),\n",
       " Document(metadata={'source': 'https://news.naver.com/section/101'}, page_content='한국은행 주도로 추진되고 있는 중앙은행 디지털화폐(CBDC) 사업이 2차 테스트를 앞두고 잠정 중단됐다. 시범 사업에 참여한 은행들의 불만이 커지고, 민간 주도로 원화 기반 스테이블코인 도입 논의가 활발해지고 있는 \\n\\n\\n디지털타임스\\n\\n4시간전'),\n",
       " Document(metadata={'source': 'https://news.naver.com/section/101'}, page_content=\"디지털타임스\\n\\n4시간전\\n\\n\\n\\n\\n\\n\\n\\n\\n취임 7주년 맞은 구광모 회장…LG, 글로벌 위기 속 생존 전략 마련 '분주'\"),\n",
       " Document(metadata={'source': 'https://news.naver.com/section/101'}, page_content='미국 관세 정책과 중동 지역 분쟁 격화 등 대외 불확실성이 커지는 가운데 구광모 LG그룹 회장이 예년보다 무거운 분위기 속에서 취임 7주년을 맞았다. 40세의 나이에 국내 4대 그룹 총수에 오른 구 회장은 취임 초부\\n\\n\\n블로터\\n\\n4시간전'),\n",
       " Document(metadata={'source': 'https://news.naver.com/section/101'}, page_content='블로터\\n\\n4시간전\\n\\n\\n\\n\\n\\n\\n\\n\\n10억 미만 아파트 문의 쇄도…강남 3구 문의 ‘뚝’'),\n",
       " Document(metadata={'source': 'https://news.naver.com/section/101'}, page_content='주택담보대출 한도를 최대 6억 원으로 제한하는 초고강도 대출 규제 여파가 부동산 시장에 서서히 반영되고 있습니다. 직격탄을 맞은 강남권 아파트는 벌써부터 매수 문의가 뚝 끊기고, 호가도 꺾이면서 거래가 위축되는 모습\\n\\n\\n채널A\\n\\n4시간전'),\n",
       " Document(metadata={'source': 'https://news.naver.com/section/101'}, page_content='채널A\\n\\n4시간전\\n\\n\\n\\n\\n\\n\\n\\n\\n구윤철 \"국민이 진짜 주주되는 \\'㈜대한민국\\' 건설…R&D는 발전 원동력\"(종합)'),\n",
       " Document(metadata={'source': 'https://news.naver.com/section/101'}, page_content='안호균 임소현 박광온 기자 = 구윤철 경제부총리 겸 기획재정부 장관 후보자는 29일 \"진짜 성장을 위한 경제 대혁신을 추진하겠다\"며 \"경제혁신의 기본방향은 대한민국을 주식회사처럼 경영하는 \\'주식회사 대한민국\\' 건설\"\\n\\n\\n뉴시스\\n\\n4시간전')]"
      ]
     },
     "execution_count": 17,
     "metadata": {},
     "output_type": "execute_result"
    }
   ],
   "source": [
    "# Split\n",
    "# text_splitter = RecursiveCharacterTextSplitter(chunk_size=300, chunk_overlap=20)\n",
    "# splits = text_splitter.split_documents(docs)\n",
    "\n",
    "#이점: from_tiktoken_encoder 메서드는 텍스트를 분할할 때 tiktoken 인코더를 사용하여 텍스트를 토큰으로 변환한 다음 분할합니다. 이 방법은 특히 OpenAI 모델과 같은 토큰 기반 언어 모델에서 텍스트를 처리할 때 유용합니다. \n",
    "# 토큰 단위로 정확한 분할을 가능하게 하므로, 텍스트가 모델의 입력 토큰 제한에 맞도록 더 정밀하게 분할할 수 있습니다.\n",
    "# 적용 상황: 이 방법은 모델이 토큰 수를 기준으로 텍스트를 처리해야 할 때(예: GPT 모델) 유리합니다. 특히 텍스트가 다양한 언어를 포함하거나 복잡한 구문을 가질 때 유용합니다.\n",
    "\n",
    "# Split\n",
    "text_splitter = RecursiveCharacterTextSplitter.from_tiktoken_encoder(\n",
    "    chunk_size=300, \n",
    "    chunk_overlap=50)\n",
    "splits = text_splitter.split_documents(docs)\n",
    "splits"
   ]
  },
  {
   "cell_type": "code",
   "execution_count": 14,
   "id": "bd7f4469-002f-41aa-9658-8f9572251db7",
   "metadata": {},
   "outputs": [
    {
     "ename": "AuthenticationError",
     "evalue": "Error code: 401 - {'error': {'message': 'Incorrect API key provided: your api key. You can find your API key at https://platform.openai.com/account/api-keys.', 'type': 'invalid_request_error', 'param': None, 'code': 'invalid_api_key'}}",
     "output_type": "error",
     "traceback": [
      "\u001b[31m---------------------------------------------------------------------------\u001b[39m",
      "\u001b[31mAuthenticationError\u001b[39m                       Traceback (most recent call last)",
      "\u001b[36mCell\u001b[39m\u001b[36m \u001b[39m\u001b[32mIn[14]\u001b[39m\u001b[32m, line 2\u001b[39m\n\u001b[32m      1\u001b[39m \u001b[38;5;66;03m# Embed\u001b[39;00m\n\u001b[32m----> \u001b[39m\u001b[32m2\u001b[39m vectorstore = \u001b[43mChroma\u001b[49m\u001b[43m.\u001b[49m\u001b[43mfrom_documents\u001b[49m\u001b[43m(\u001b[49m\u001b[43mdocuments\u001b[49m\u001b[43m=\u001b[49m\u001b[43msplits\u001b[49m\u001b[43m,\u001b[49m\u001b[43m \u001b[49m\n\u001b[32m      3\u001b[39m \u001b[43m                                    \u001b[49m\u001b[43membedding\u001b[49m\u001b[43m=\u001b[49m\u001b[43mOpenAIEmbeddings\u001b[49m\u001b[43m(\u001b[49m\u001b[43m)\u001b[49m\u001b[43m)\u001b[49m\n",
      "\u001b[36mFile \u001b[39m\u001b[32m~/miniconda3/envs/hanbit-langchain/lib/python3.12/site-packages/langchain_community/vectorstores/chroma.py:887\u001b[39m, in \u001b[36mChroma.from_documents\u001b[39m\u001b[34m(cls, documents, embedding, ids, collection_name, persist_directory, client_settings, client, collection_metadata, **kwargs)\u001b[39m\n\u001b[32m    885\u001b[39m texts = [doc.page_content \u001b[38;5;28;01mfor\u001b[39;00m doc \u001b[38;5;129;01min\u001b[39;00m documents]\n\u001b[32m    886\u001b[39m metadatas = [doc.metadata \u001b[38;5;28;01mfor\u001b[39;00m doc \u001b[38;5;129;01min\u001b[39;00m documents]\n\u001b[32m--> \u001b[39m\u001b[32m887\u001b[39m \u001b[38;5;28;01mreturn\u001b[39;00m \u001b[38;5;28;43mcls\u001b[39;49m\u001b[43m.\u001b[49m\u001b[43mfrom_texts\u001b[49m\u001b[43m(\u001b[49m\n\u001b[32m    888\u001b[39m \u001b[43m    \u001b[49m\u001b[43mtexts\u001b[49m\u001b[43m=\u001b[49m\u001b[43mtexts\u001b[49m\u001b[43m,\u001b[49m\n\u001b[32m    889\u001b[39m \u001b[43m    \u001b[49m\u001b[43membedding\u001b[49m\u001b[43m=\u001b[49m\u001b[43membedding\u001b[49m\u001b[43m,\u001b[49m\n\u001b[32m    890\u001b[39m \u001b[43m    \u001b[49m\u001b[43mmetadatas\u001b[49m\u001b[43m=\u001b[49m\u001b[43mmetadatas\u001b[49m\u001b[43m,\u001b[49m\n\u001b[32m    891\u001b[39m \u001b[43m    \u001b[49m\u001b[43mids\u001b[49m\u001b[43m=\u001b[49m\u001b[43mids\u001b[49m\u001b[43m,\u001b[49m\n\u001b[32m    892\u001b[39m \u001b[43m    \u001b[49m\u001b[43mcollection_name\u001b[49m\u001b[43m=\u001b[49m\u001b[43mcollection_name\u001b[49m\u001b[43m,\u001b[49m\n\u001b[32m    893\u001b[39m \u001b[43m    \u001b[49m\u001b[43mpersist_directory\u001b[49m\u001b[43m=\u001b[49m\u001b[43mpersist_directory\u001b[49m\u001b[43m,\u001b[49m\n\u001b[32m    894\u001b[39m \u001b[43m    \u001b[49m\u001b[43mclient_settings\u001b[49m\u001b[43m=\u001b[49m\u001b[43mclient_settings\u001b[49m\u001b[43m,\u001b[49m\n\u001b[32m    895\u001b[39m \u001b[43m    \u001b[49m\u001b[43mclient\u001b[49m\u001b[43m=\u001b[49m\u001b[43mclient\u001b[49m\u001b[43m,\u001b[49m\n\u001b[32m    896\u001b[39m \u001b[43m    \u001b[49m\u001b[43mcollection_metadata\u001b[49m\u001b[43m=\u001b[49m\u001b[43mcollection_metadata\u001b[49m\u001b[43m,\u001b[49m\n\u001b[32m    897\u001b[39m \u001b[43m    \u001b[49m\u001b[43m*\u001b[49m\u001b[43m*\u001b[49m\u001b[43mkwargs\u001b[49m\u001b[43m,\u001b[49m\n\u001b[32m    898\u001b[39m \u001b[43m\u001b[49m\u001b[43m)\u001b[49m\n",
      "\u001b[36mFile \u001b[39m\u001b[32m~/miniconda3/envs/hanbit-langchain/lib/python3.12/site-packages/langchain_community/vectorstores/chroma.py:843\u001b[39m, in \u001b[36mChroma.from_texts\u001b[39m\u001b[34m(cls, texts, embedding, metadatas, ids, collection_name, persist_directory, client_settings, client, collection_metadata, **kwargs)\u001b[39m\n\u001b[32m    835\u001b[39m     \u001b[38;5;28;01mfrom\u001b[39;00m\u001b[38;5;250m \u001b[39m\u001b[34;01mchromadb\u001b[39;00m\u001b[34;01m.\u001b[39;00m\u001b[34;01mutils\u001b[39;00m\u001b[34;01m.\u001b[39;00m\u001b[34;01mbatch_utils\u001b[39;00m\u001b[38;5;250m \u001b[39m\u001b[38;5;28;01mimport\u001b[39;00m create_batches\n\u001b[32m    837\u001b[39m     \u001b[38;5;28;01mfor\u001b[39;00m batch \u001b[38;5;129;01min\u001b[39;00m create_batches(\n\u001b[32m    838\u001b[39m         api=chroma_collection._client,  \u001b[38;5;66;03m# type: ignore[has-type]\u001b[39;00m\n\u001b[32m    839\u001b[39m         ids=ids,\n\u001b[32m    840\u001b[39m         metadatas=metadatas,  \u001b[38;5;66;03m# type: ignore[arg-type]\u001b[39;00m\n\u001b[32m    841\u001b[39m         documents=texts,\n\u001b[32m    842\u001b[39m     ):\n\u001b[32m--> \u001b[39m\u001b[32m843\u001b[39m         \u001b[43mchroma_collection\u001b[49m\u001b[43m.\u001b[49m\u001b[43madd_texts\u001b[49m\u001b[43m(\u001b[49m\n\u001b[32m    844\u001b[39m \u001b[43m            \u001b[49m\u001b[43mtexts\u001b[49m\u001b[43m=\u001b[49m\u001b[43mbatch\u001b[49m\u001b[43m[\u001b[49m\u001b[32;43m3\u001b[39;49m\u001b[43m]\u001b[49m\u001b[43m \u001b[49m\u001b[38;5;28;43;01mif\u001b[39;49;00m\u001b[43m \u001b[49m\u001b[43mbatch\u001b[49m\u001b[43m[\u001b[49m\u001b[32;43m3\u001b[39;49m\u001b[43m]\u001b[49m\u001b[43m \u001b[49m\u001b[38;5;28;43;01melse\u001b[39;49;00m\u001b[43m \u001b[49m\u001b[43m[\u001b[49m\u001b[43m]\u001b[49m\u001b[43m,\u001b[49m\n\u001b[32m    845\u001b[39m \u001b[43m            \u001b[49m\u001b[43mmetadatas\u001b[49m\u001b[43m=\u001b[49m\u001b[43mbatch\u001b[49m\u001b[43m[\u001b[49m\u001b[32;43m2\u001b[39;49m\u001b[43m]\u001b[49m\u001b[43m \u001b[49m\u001b[38;5;28;43;01mif\u001b[39;49;00m\u001b[43m \u001b[49m\u001b[43mbatch\u001b[49m\u001b[43m[\u001b[49m\u001b[32;43m2\u001b[39;49m\u001b[43m]\u001b[49m\u001b[43m \u001b[49m\u001b[38;5;28;43;01melse\u001b[39;49;00m\u001b[43m \u001b[49m\u001b[38;5;28;43;01mNone\u001b[39;49;00m\u001b[43m,\u001b[49m\u001b[43m  \u001b[49m\u001b[38;5;66;43;03m# type: ignore[arg-type]\u001b[39;49;00m\n\u001b[32m    846\u001b[39m \u001b[43m            \u001b[49m\u001b[43mids\u001b[49m\u001b[43m=\u001b[49m\u001b[43mbatch\u001b[49m\u001b[43m[\u001b[49m\u001b[32;43m0\u001b[39;49m\u001b[43m]\u001b[49m\u001b[43m,\u001b[49m\n\u001b[32m    847\u001b[39m \u001b[43m        \u001b[49m\u001b[43m)\u001b[49m\n\u001b[32m    848\u001b[39m \u001b[38;5;28;01melse\u001b[39;00m:\n\u001b[32m    849\u001b[39m     chroma_collection.add_texts(texts=texts, metadatas=metadatas, ids=ids)\n",
      "\u001b[36mFile \u001b[39m\u001b[32m~/miniconda3/envs/hanbit-langchain/lib/python3.12/site-packages/langchain_community/vectorstores/chroma.py:277\u001b[39m, in \u001b[36mChroma.add_texts\u001b[39m\u001b[34m(self, texts, metadatas, ids, **kwargs)\u001b[39m\n\u001b[32m    275\u001b[39m texts = \u001b[38;5;28mlist\u001b[39m(texts)\n\u001b[32m    276\u001b[39m \u001b[38;5;28;01mif\u001b[39;00m \u001b[38;5;28mself\u001b[39m._embedding_function \u001b[38;5;129;01mis\u001b[39;00m \u001b[38;5;129;01mnot\u001b[39;00m \u001b[38;5;28;01mNone\u001b[39;00m:\n\u001b[32m--> \u001b[39m\u001b[32m277\u001b[39m     embeddings = \u001b[38;5;28;43mself\u001b[39;49m\u001b[43m.\u001b[49m\u001b[43m_embedding_function\u001b[49m\u001b[43m.\u001b[49m\u001b[43membed_documents\u001b[49m\u001b[43m(\u001b[49m\u001b[43mtexts\u001b[49m\u001b[43m)\u001b[49m\n\u001b[32m    278\u001b[39m \u001b[38;5;28;01mif\u001b[39;00m metadatas:\n\u001b[32m    279\u001b[39m     \u001b[38;5;66;03m# fill metadatas with empty dicts if somebody\u001b[39;00m\n\u001b[32m    280\u001b[39m     \u001b[38;5;66;03m# did not specify metadata for all texts\u001b[39;00m\n\u001b[32m    281\u001b[39m     length_diff = \u001b[38;5;28mlen\u001b[39m(texts) - \u001b[38;5;28mlen\u001b[39m(metadatas)\n",
      "\u001b[36mFile \u001b[39m\u001b[32m~/miniconda3/envs/hanbit-langchain/lib/python3.12/site-packages/langchain_openai/embeddings/base.py:588\u001b[39m, in \u001b[36mOpenAIEmbeddings.embed_documents\u001b[39m\u001b[34m(self, texts, chunk_size)\u001b[39m\n\u001b[32m    585\u001b[39m \u001b[38;5;66;03m# NOTE: to keep things simple, we assume the list may contain texts longer\u001b[39;00m\n\u001b[32m    586\u001b[39m \u001b[38;5;66;03m#       than the maximum context and use length-safe embedding function.\u001b[39;00m\n\u001b[32m    587\u001b[39m engine = cast(\u001b[38;5;28mstr\u001b[39m, \u001b[38;5;28mself\u001b[39m.deployment)\n\u001b[32m--> \u001b[39m\u001b[32m588\u001b[39m \u001b[38;5;28;01mreturn\u001b[39;00m \u001b[38;5;28;43mself\u001b[39;49m\u001b[43m.\u001b[49m\u001b[43m_get_len_safe_embeddings\u001b[49m\u001b[43m(\u001b[49m\u001b[43mtexts\u001b[49m\u001b[43m,\u001b[49m\u001b[43m \u001b[49m\u001b[43mengine\u001b[49m\u001b[43m=\u001b[49m\u001b[43mengine\u001b[49m\u001b[43m)\u001b[49m\n",
      "\u001b[36mFile \u001b[39m\u001b[32m~/miniconda3/envs/hanbit-langchain/lib/python3.12/site-packages/langchain_openai/embeddings/base.py:483\u001b[39m, in \u001b[36mOpenAIEmbeddings._get_len_safe_embeddings\u001b[39m\u001b[34m(self, texts, engine, chunk_size)\u001b[39m\n\u001b[32m    481\u001b[39m batched_embeddings: List[List[\u001b[38;5;28mfloat\u001b[39m]] = []\n\u001b[32m    482\u001b[39m \u001b[38;5;28;01mfor\u001b[39;00m i \u001b[38;5;129;01min\u001b[39;00m _iter:\n\u001b[32m--> \u001b[39m\u001b[32m483\u001b[39m     response = \u001b[38;5;28;43mself\u001b[39;49m\u001b[43m.\u001b[49m\u001b[43mclient\u001b[49m\u001b[43m.\u001b[49m\u001b[43mcreate\u001b[49m\u001b[43m(\u001b[49m\n\u001b[32m    484\u001b[39m \u001b[43m        \u001b[49m\u001b[38;5;28;43minput\u001b[39;49m\u001b[43m=\u001b[49m\u001b[43mtokens\u001b[49m\u001b[43m[\u001b[49m\u001b[43mi\u001b[49m\u001b[43m \u001b[49m\u001b[43m:\u001b[49m\u001b[43m \u001b[49m\u001b[43mi\u001b[49m\u001b[43m \u001b[49m\u001b[43m+\u001b[49m\u001b[43m \u001b[49m\u001b[43m_chunk_size\u001b[49m\u001b[43m]\u001b[49m\u001b[43m,\u001b[49m\u001b[43m \u001b[49m\u001b[43m*\u001b[49m\u001b[43m*\u001b[49m\u001b[38;5;28;43mself\u001b[39;49m\u001b[43m.\u001b[49m\u001b[43m_invocation_params\u001b[49m\n\u001b[32m    485\u001b[39m \u001b[43m    \u001b[49m\u001b[43m)\u001b[49m\n\u001b[32m    486\u001b[39m     \u001b[38;5;28;01mif\u001b[39;00m \u001b[38;5;129;01mnot\u001b[39;00m \u001b[38;5;28misinstance\u001b[39m(response, \u001b[38;5;28mdict\u001b[39m):\n\u001b[32m    487\u001b[39m         response = response.model_dump()\n",
      "\u001b[36mFile \u001b[39m\u001b[32m~/miniconda3/envs/hanbit-langchain/lib/python3.12/site-packages/openai/resources/embeddings.py:128\u001b[39m, in \u001b[36mEmbeddings.create\u001b[39m\u001b[34m(self, input, model, dimensions, encoding_format, user, extra_headers, extra_query, extra_body, timeout)\u001b[39m\n\u001b[32m    122\u001b[39m             embedding.embedding = np.frombuffer(  \u001b[38;5;66;03m# type: ignore[no-untyped-call]\u001b[39;00m\n\u001b[32m    123\u001b[39m                 base64.b64decode(data), dtype=\u001b[33m\"\u001b[39m\u001b[33mfloat32\u001b[39m\u001b[33m\"\u001b[39m\n\u001b[32m    124\u001b[39m             ).tolist()\n\u001b[32m    126\u001b[39m     \u001b[38;5;28;01mreturn\u001b[39;00m obj\n\u001b[32m--> \u001b[39m\u001b[32m128\u001b[39m \u001b[38;5;28;01mreturn\u001b[39;00m \u001b[38;5;28;43mself\u001b[39;49m\u001b[43m.\u001b[49m\u001b[43m_post\u001b[49m\u001b[43m(\u001b[49m\n\u001b[32m    129\u001b[39m \u001b[43m    \u001b[49m\u001b[33;43m\"\u001b[39;49m\u001b[33;43m/embeddings\u001b[39;49m\u001b[33;43m\"\u001b[39;49m\u001b[43m,\u001b[49m\n\u001b[32m    130\u001b[39m \u001b[43m    \u001b[49m\u001b[43mbody\u001b[49m\u001b[43m=\u001b[49m\u001b[43mmaybe_transform\u001b[49m\u001b[43m(\u001b[49m\u001b[43mparams\u001b[49m\u001b[43m,\u001b[49m\u001b[43m \u001b[49m\u001b[43membedding_create_params\u001b[49m\u001b[43m.\u001b[49m\u001b[43mEmbeddingCreateParams\u001b[49m\u001b[43m)\u001b[49m\u001b[43m,\u001b[49m\n\u001b[32m    131\u001b[39m \u001b[43m    \u001b[49m\u001b[43moptions\u001b[49m\u001b[43m=\u001b[49m\u001b[43mmake_request_options\u001b[49m\u001b[43m(\u001b[49m\n\u001b[32m    132\u001b[39m \u001b[43m        \u001b[49m\u001b[43mextra_headers\u001b[49m\u001b[43m=\u001b[49m\u001b[43mextra_headers\u001b[49m\u001b[43m,\u001b[49m\n\u001b[32m    133\u001b[39m \u001b[43m        \u001b[49m\u001b[43mextra_query\u001b[49m\u001b[43m=\u001b[49m\u001b[43mextra_query\u001b[49m\u001b[43m,\u001b[49m\n\u001b[32m    134\u001b[39m \u001b[43m        \u001b[49m\u001b[43mextra_body\u001b[49m\u001b[43m=\u001b[49m\u001b[43mextra_body\u001b[49m\u001b[43m,\u001b[49m\n\u001b[32m    135\u001b[39m \u001b[43m        \u001b[49m\u001b[43mtimeout\u001b[49m\u001b[43m=\u001b[49m\u001b[43mtimeout\u001b[49m\u001b[43m,\u001b[49m\n\u001b[32m    136\u001b[39m \u001b[43m        \u001b[49m\u001b[43mpost_parser\u001b[49m\u001b[43m=\u001b[49m\u001b[43mparser\u001b[49m\u001b[43m,\u001b[49m\n\u001b[32m    137\u001b[39m \u001b[43m    \u001b[49m\u001b[43m)\u001b[49m\u001b[43m,\u001b[49m\n\u001b[32m    138\u001b[39m \u001b[43m    \u001b[49m\u001b[43mcast_to\u001b[49m\u001b[43m=\u001b[49m\u001b[43mCreateEmbeddingResponse\u001b[49m\u001b[43m,\u001b[49m\n\u001b[32m    139\u001b[39m \u001b[43m\u001b[49m\u001b[43m)\u001b[49m\n",
      "\u001b[36mFile \u001b[39m\u001b[32m~/miniconda3/envs/hanbit-langchain/lib/python3.12/site-packages/openai/_base_client.py:1242\u001b[39m, in \u001b[36mSyncAPIClient.post\u001b[39m\u001b[34m(self, path, cast_to, body, options, files, stream, stream_cls)\u001b[39m\n\u001b[32m   1228\u001b[39m \u001b[38;5;28;01mdef\u001b[39;00m\u001b[38;5;250m \u001b[39m\u001b[34mpost\u001b[39m(\n\u001b[32m   1229\u001b[39m     \u001b[38;5;28mself\u001b[39m,\n\u001b[32m   1230\u001b[39m     path: \u001b[38;5;28mstr\u001b[39m,\n\u001b[32m   (...)\u001b[39m\u001b[32m   1237\u001b[39m     stream_cls: \u001b[38;5;28mtype\u001b[39m[_StreamT] | \u001b[38;5;28;01mNone\u001b[39;00m = \u001b[38;5;28;01mNone\u001b[39;00m,\n\u001b[32m   1238\u001b[39m ) -> ResponseT | _StreamT:\n\u001b[32m   1239\u001b[39m     opts = FinalRequestOptions.construct(\n\u001b[32m   1240\u001b[39m         method=\u001b[33m\"\u001b[39m\u001b[33mpost\u001b[39m\u001b[33m\"\u001b[39m, url=path, json_data=body, files=to_httpx_files(files), **options\n\u001b[32m   1241\u001b[39m     )\n\u001b[32m-> \u001b[39m\u001b[32m1242\u001b[39m     \u001b[38;5;28;01mreturn\u001b[39;00m cast(ResponseT, \u001b[38;5;28;43mself\u001b[39;49m\u001b[43m.\u001b[49m\u001b[43mrequest\u001b[49m\u001b[43m(\u001b[49m\u001b[43mcast_to\u001b[49m\u001b[43m,\u001b[49m\u001b[43m \u001b[49m\u001b[43mopts\u001b[49m\u001b[43m,\u001b[49m\u001b[43m \u001b[49m\u001b[43mstream\u001b[49m\u001b[43m=\u001b[49m\u001b[43mstream\u001b[49m\u001b[43m,\u001b[49m\u001b[43m \u001b[49m\u001b[43mstream_cls\u001b[49m\u001b[43m=\u001b[49m\u001b[43mstream_cls\u001b[49m\u001b[43m)\u001b[49m)\n",
      "\u001b[36mFile \u001b[39m\u001b[32m~/miniconda3/envs/hanbit-langchain/lib/python3.12/site-packages/openai/_base_client.py:919\u001b[39m, in \u001b[36mSyncAPIClient.request\u001b[39m\u001b[34m(self, cast_to, options, remaining_retries, stream, stream_cls)\u001b[39m\n\u001b[32m    916\u001b[39m \u001b[38;5;28;01melse\u001b[39;00m:\n\u001b[32m    917\u001b[39m     retries_taken = \u001b[32m0\u001b[39m\n\u001b[32m--> \u001b[39m\u001b[32m919\u001b[39m \u001b[38;5;28;01mreturn\u001b[39;00m \u001b[38;5;28;43mself\u001b[39;49m\u001b[43m.\u001b[49m\u001b[43m_request\u001b[49m\u001b[43m(\u001b[49m\n\u001b[32m    920\u001b[39m \u001b[43m    \u001b[49m\u001b[43mcast_to\u001b[49m\u001b[43m=\u001b[49m\u001b[43mcast_to\u001b[49m\u001b[43m,\u001b[49m\n\u001b[32m    921\u001b[39m \u001b[43m    \u001b[49m\u001b[43moptions\u001b[49m\u001b[43m=\u001b[49m\u001b[43moptions\u001b[49m\u001b[43m,\u001b[49m\n\u001b[32m    922\u001b[39m \u001b[43m    \u001b[49m\u001b[43mstream\u001b[49m\u001b[43m=\u001b[49m\u001b[43mstream\u001b[49m\u001b[43m,\u001b[49m\n\u001b[32m    923\u001b[39m \u001b[43m    \u001b[49m\u001b[43mstream_cls\u001b[49m\u001b[43m=\u001b[49m\u001b[43mstream_cls\u001b[49m\u001b[43m,\u001b[49m\n\u001b[32m    924\u001b[39m \u001b[43m    \u001b[49m\u001b[43mretries_taken\u001b[49m\u001b[43m=\u001b[49m\u001b[43mretries_taken\u001b[49m\u001b[43m,\u001b[49m\n\u001b[32m    925\u001b[39m \u001b[43m\u001b[49m\u001b[43m)\u001b[49m\n",
      "\u001b[36mFile \u001b[39m\u001b[32m~/miniconda3/envs/hanbit-langchain/lib/python3.12/site-packages/openai/_base_client.py:1023\u001b[39m, in \u001b[36mSyncAPIClient._request\u001b[39m\u001b[34m(self, cast_to, options, retries_taken, stream, stream_cls)\u001b[39m\n\u001b[32m   1020\u001b[39m         err.response.read()\n\u001b[32m   1022\u001b[39m     log.debug(\u001b[33m\"\u001b[39m\u001b[33mRe-raising status error\u001b[39m\u001b[33m\"\u001b[39m)\n\u001b[32m-> \u001b[39m\u001b[32m1023\u001b[39m     \u001b[38;5;28;01mraise\u001b[39;00m \u001b[38;5;28mself\u001b[39m._make_status_error_from_response(err.response) \u001b[38;5;28;01mfrom\u001b[39;00m\u001b[38;5;250m \u001b[39m\u001b[38;5;28;01mNone\u001b[39;00m\n\u001b[32m   1025\u001b[39m \u001b[38;5;28;01mreturn\u001b[39;00m \u001b[38;5;28mself\u001b[39m._process_response(\n\u001b[32m   1026\u001b[39m     cast_to=cast_to,\n\u001b[32m   1027\u001b[39m     options=options,\n\u001b[32m   (...)\u001b[39m\u001b[32m   1031\u001b[39m     retries_taken=retries_taken,\n\u001b[32m   1032\u001b[39m )\n",
      "\u001b[31mAuthenticationError\u001b[39m: Error code: 401 - {'error': {'message': 'Incorrect API key provided: your api key. You can find your API key at https://platform.openai.com/account/api-keys.', 'type': 'invalid_request_error', 'param': None, 'code': 'invalid_api_key'}}"
     ]
    }
   ],
   "source": [
    "# Embed\n",
    "vectorstore = Chroma.from_documents(documents=splits, \n",
    "                                    embedding=OpenAIEmbeddings())"
   ]
  },
  {
   "cell_type": "code",
   "execution_count": 56,
   "id": "85d2c637-25b9-40b5-ae55-7a6c58d71e34",
   "metadata": {},
   "outputs": [],
   "source": [
    "# retriever = vectorstore.as_retriever(search_kwargs={\"k\": 1})\n",
    "\n",
    "# MMR 알고리즘이 고려할 문서 수를 더 많이 가져옵니다.\n",
    "# 그러나 최종적으로 상위 1개 문서만 반환합니다\n",
    "retriever = vectorstore.as_retriever(\n",
    "    search_type=\"mmr\", # MMR 알고리즘을 사용하여 검색\n",
    "    search_kwargs={'k':1,'fetch_k':4} # 상위 1개의 문서를 반환하지만, 고려할 문서는 4개로 설정\n",
    ")"
   ]
  },
  {
   "cell_type": "code",
   "execution_count": 57,
   "id": "f152a8bf-b49b-4a8e-ae88-a8f96432e387",
   "metadata": {},
   "outputs": [],
   "source": [
    "# Prompt\n",
    "prompt = hub.pull(\"sungwoo/ragbasic\")"
   ]
  },
  {
   "cell_type": "code",
   "execution_count": 58,
   "id": "bdfd9c97-a0c5-4d56-8119-f5d9919eaf0d",
   "metadata": {},
   "outputs": [
    {
     "data": {
      "text/plain": [
       "\"국채는 정부가 자금을 조달하기 위해 발행하는 채권으로, 투자자에게 일정 기간 후 원금과 이자를 지급합니다. 최근 정부는 국내투자형 ISA의 의무투자비율을 높여 국내 자산으로의 투자를 유도하고 있습니다. 또한, 외화표시 채권인 '김치본드'의 매입 제한규제를 해제하여 원화 환전 수요를 증가시키고 있습니다.\""
      ]
     },
     "execution_count": 58,
     "metadata": {},
     "output_type": "execute_result"
    }
   ],
   "source": [
    "# LLM\n",
    "llm = ChatOpenAI(model_name=\"gpt-4o-mini\", temperature=0)\n",
    "\n",
    "# Post-processing\n",
    "def format_docs(docs):\n",
    "    formatted = \"\\n\\n\".join(doc.page_content for doc in docs)\n",
    "    return formatted\n",
    "\n",
    "# Chain\n",
    "rag_chain = (\n",
    "    {\"context\": retriever | format_docs, \"question\": RunnablePassthrough()}\n",
    "    | prompt\n",
    "    | llm\n",
    "    | StrOutputParser()\n",
    ")\n",
    "\n",
    "# Question\n",
    "rag_chain.invoke(\"국채 관련한 정보를 알려줘\")\n"
   ]
  },
  {
   "cell_type": "code",
   "execution_count": 59,
   "id": "42526fc2-d9cb-4443-b7fe-a679fc754986",
   "metadata": {},
   "outputs": [
    {
     "data": {
      "text/plain": [
       "[Document(metadata={'source': 'https://news.naver.com/section/101'}, page_content=\"정부가 국내투자형 개인종합자산관리계좌(ISA)의 국내주식 의무투자비율을 높여 국내자산으로의 투자를 유도한다. 또 국내에서 발행되는 외화표시 채권인 '김치본드' 매입 제한규제도 해제해 원화 환전 수요도 늘린다. 해외주\\n\\n\\n한국경제TV\")]"
      ]
     },
     "execution_count": 59,
     "metadata": {},
     "output_type": "execute_result"
    }
   ],
   "source": [
    "docs = retriever.get_relevant_documents(\"국채 관련한 정보를 알려줘\")\n",
    "docs"
   ]
  },
  {
   "cell_type": "code",
   "execution_count": 60,
   "id": "1ab1b3b3-298e-4aca-b9c5-dc1458dcfbec",
   "metadata": {},
   "outputs": [],
   "source": [
    "# # 문서 검색 시 더 높은 다양성을 가진 문서를 더 많이 검색합니다.\n",
    "# # 데이터셋에 유사한 문서가 많을 경우 유용합니다.\n",
    "# docsearch.as_retriever(\n",
    "#     search_type=\"mmr\",  # MMR(Maximal Marginal Relevance) 알고리즘을 사용하여 검색\n",
    "#     search_kwargs={'k': 6, 'lambda_mult': 0.25}  # 상위 6개의 문서를 검색하고 다양성을 높이기 위해 lambda 값을 0.25로 설정\n",
    "# )\n",
    "\n",
    "# # MMR 알고리즘이 고려할 문서 수를 더 많이 가져옵니다.\n",
    "# # 그러나 최종적으로 상위 5개 문서만 반환합니다.\n",
    "# docsearch.as_retriever(\n",
    "#     search_type=\"mmr\",  # MMR 알고리즘을 사용하여 검색\n",
    "#     search_kwargs={'k': 5, 'fetch_k': 50}  # 상위 5개의 문서를 반환하지만, 고려할 문서는 50개로 설정\n",
    "# )\n",
    "\n",
    "# # 특정 임계값 이상의 유사도 점수를 가진 문서만 검색합니다.\n",
    "# docsearch.as_retriever(\n",
    "#     search_type=\"similarity_score_threshold\",  # 유사도 점수 기반 검색\n",
    "#     search_kwargs={'score_threshold': 0.8}  # 유사도 점수가 0.8 이상인 문서만 검색\n",
    "# )\n",
    "\n",
    "# # 데이터셋에서 가장 유사한 문서 하나만 검색합니다.\n",
    "# docsearch.as_retriever(search_kwargs={'k': 1})"
   ]
  },
  {
   "cell_type": "markdown",
   "id": "6d97967b-990b-48b5-a3f7-2c5047f88c07",
   "metadata": {},
   "source": [
    "### multiquery + unique-union"
   ]
  },
  {
   "cell_type": "markdown",
   "id": "f7d04548-2028-4203-b353-c830901cd815",
   "metadata": {},
   "source": [
    "# Multi Query\n",
    "![Example Image](./advancedRagFlow.png)"
   ]
  },
  {
   "cell_type": "code",
   "execution_count": 61,
   "id": "843ddc86-0d1c-46d1-b98d-f5d7cc8e61e2",
   "metadata": {},
   "outputs": [],
   "source": [
    "import bs4\n",
    "from langchain import hub\n",
    "from langchain.text_splitter import RecursiveCharacterTextSplitter\n",
    "from langchain_community.document_loaders import WebBaseLoader\n",
    "from langchain_community.vectorstores import Chroma\n",
    "from langchain_core.output_parsers import StrOutputParser\n",
    "from langchain_core.runnables import RunnablePassthrough\n",
    "from langchain_openai import ChatOpenAI, OpenAIEmbeddings\n",
    "\n",
    "#### INDEXING ####\n",
    "\n",
    "loader = WebBaseLoader(\n",
    "    web_paths=(\"https://news.naver.com/section/101\",),\n",
    "    bs_kwargs=dict(\n",
    "        parse_only=bs4.SoupStrainer(\n",
    "            class_=(\"sa_text\", \"sa_item _SECTION_HEADLINE\")\n",
    "        )\n",
    "    ),\n",
    ")\n",
    "docs = loader.load()\n",
    "\n",
    "\n",
    "# Split\n",
    "from langchain.text_splitter import RecursiveCharacterTextSplitter\n",
    "text_splitter = RecursiveCharacterTextSplitter.from_tiktoken_encoder(\n",
    "    chunk_size=300, \n",
    "    chunk_overlap=50)\n",
    "\n",
    "# Make splits\n",
    "splits = text_splitter.split_documents(docs)\n"
   ]
  },
  {
   "cell_type": "code",
   "execution_count": 62,
   "id": "666b4caf-67b0-4ff2-be58-d69e8100ecff",
   "metadata": {},
   "outputs": [],
   "source": [
    "# Index\n",
    "from langchain_openai import OpenAIEmbeddings\n",
    "from langchain_community.vectorstores import Chroma\n",
    "vectorstore = Chroma.from_documents(documents=splits, \n",
    "                                    embedding=OpenAIEmbeddings())\n",
    "\n",
    "retriever = vectorstore.as_retriever()"
   ]
  },
  {
   "cell_type": "code",
   "execution_count": 63,
   "id": "7583a7a5-a19a-4616-a69b-6ea5aaa33bc9",
   "metadata": {},
   "outputs": [
    {
     "data": {
      "text/plain": [
       "['집값의 향후 전망은 어떻게 될까요?',\n",
       " '',\n",
       " '현재 집값의 추세와 앞으로의 변화 가능성은 무엇인가요?',\n",
       " '',\n",
       " '부동산 시장에서 집값이 오를지 내릴지에 대한 예측은 어떤가요?',\n",
       " '',\n",
       " '향후 몇 년간 집값에 영향을 미칠 주요 요인은 무엇인가요?',\n",
       " '',\n",
       " '집값 상승 또는 하락의 주요 원인은 무엇이며, 앞으로의 방향성은 어떻게 될까요?']"
      ]
     },
     "execution_count": 63,
     "metadata": {},
     "output_type": "execute_result"
    }
   ],
   "source": [
    "from langchain.prompts import ChatPromptTemplate\n",
    "\n",
    "# Multi Query: Different Perspectives\n",
    "# template = \"\"\"You are an AI language model assistant. Your task is to generate five \n",
    "# different versions of the given user question to retrieve relevant documents from a vector \n",
    "# database. By generating multiple perspectives on the user question, your goal is to help\n",
    "# the user overcome some of the limitations of the distance-based similarity search. \n",
    "# Provide these alternative questions separated by newlines. Original question: {question}\"\"\"\n",
    "# prompt_perspectives = ChatPromptTemplate.from_template(template)\n",
    "\n",
    "template = \"\"\"\n",
    "당신은 AI 언어 모델 조수입니다. 당신의 임무는 주어진 사용자 질문에 대해 벡터 데이터베이스에서 관련 문서를 검색할 수 있도록 다섯 가지 다른 버전을 생성하는 것입니다. \n",
    "사용자 질문에 대한 여러 관점을 생성함으로써, 거리 기반 유사성 검색의 한계를 극복하는 데 도움을 주는 것이 목표입니다. \n",
    "각 질문은 새 줄로 구분하여 제공하세요. 원본 질문: {question}\n",
    "\"\"\"\n",
    "prompt_perspectives = ChatPromptTemplate.from_template(template)\n",
    "\n",
    "\n",
    "from langchain_core.output_parsers import StrOutputParser\n",
    "from langchain_openai import ChatOpenAI\n",
    "\n",
    "generate_queries = (\n",
    "    prompt_perspectives \n",
    "    | ChatOpenAI(model_name=\"gpt-4o-mini\",temperature=0) \n",
    "    | StrOutputParser() \n",
    "    | (lambda x: x.split(\"\\n\"))\n",
    ")\n",
    "\n",
    "generated_query = generate_queries.invoke(\"집값의 향방?\")\n",
    "generated_query"
   ]
  },
  {
   "cell_type": "code",
   "execution_count": 64,
   "id": "be53e8da-ee84-4c76-859c-8cff1135cfc4",
   "metadata": {},
   "outputs": [],
   "source": [
    "from langchain.load import dumps, loads\n",
    "\n",
    "def get_unique_union(documents: list[list]):\n",
    "    \"\"\" 고유한 문서들의 합집합을 생성하는 함수입니다. \"\"\"\n",
    "    \n",
    "    # 리스트의 리스트를 평탄화하고, 각 문서를 문자열로 직렬화합니다.\n",
    "    flattened_docs = [dumps(doc) for sublist in documents for doc in sublist]\n",
    "    \n",
    "    # 중복된 문서를 제거하고 고유한 문서만 남깁니다.\n",
    "    unique_docs = list(set(flattened_docs))\n",
    "    \n",
    "    # 고유한 문서를 원래의 문서 객체로 변환하여 반환합니다.\n",
    "    return [loads(doc) for doc in unique_docs]"
   ]
  },
  {
   "cell_type": "code",
   "execution_count": 65,
   "id": "b26ac402-a7ff-415b-bad9-6b2fe06fcb8d",
   "metadata": {},
   "outputs": [],
   "source": [
    "# 사용자 질문 정의\n",
    "question = \"집값의 향방?\""
   ]
  },
  {
   "cell_type": "code",
   "execution_count": 66,
   "id": "df74cd60-251b-40ef-a072-080a0cf7bf45",
   "metadata": {},
   "outputs": [],
   "source": [
    "# 문서 검색 체인을 구성합니다.\n",
    "# generate_queries: 주어진 질문에 대해 검색 쿼리를 생성합니다.\n",
    "# retriever.map(): 생성된 쿼리를 바탕으로 관련 문서를 검색합니다.\n",
    "# get_unique_union: 검색된 문서에서 중복을 제거하고 고유한 문서들을 반환합니다.\n",
    "retrieval_chain = generate_queries | retriever.map() | get_unique_union\n"
   ]
  },
  {
   "cell_type": "code",
   "execution_count": 67,
   "id": "934bebde-0c80-497d-b86d-0814624e4eac",
   "metadata": {},
   "outputs": [],
   "source": [
    "# 체인을 실행하여 질문에 대한 관련 문서를 검색하고 고유한 문서를 반환합니다.\n",
    "docs = retrieval_chain.invoke({\"question\": question})\n"
   ]
  },
  {
   "cell_type": "code",
   "execution_count": 68,
   "id": "e0a14864-94a8-43a4-8e70-eb786fda37c7",
   "metadata": {},
   "outputs": [
    {
     "data": {
      "text/plain": [
       "[Document(metadata={'source': 'https://news.naver.com/section/101'}, page_content=\"적극적 자산 효율화로 주주가치 높인 日기업 올림푸스·삿포로홀딩스 등 경영개선 요구에 먼저 '행동' 신규 핵심사업 적극 키우고 잉여 부동산은 과감히 팔아 자산매각 꺼리는 韓 기업들 행동주의 펀드 방어하려면 그들처럼 과\\n\\n\\n매일경제\"),\n",
       " Document(metadata={'source': 'https://news.naver.com/section/101'}, page_content='디지털타임스\\n\\n1시간전\\n\\n\\n\\n\\n\\n\\n\\n\\n부동산 시장에 ‘영끌 리턴’.. “집값 불씨 살아났나, 또 터지나?”')]"
      ]
     },
     "execution_count": 68,
     "metadata": {},
     "output_type": "execute_result"
    }
   ],
   "source": [
    "# 검색된 고유 문서들의 개수를 출력합니다.\n",
    "len(docs)\n",
    "\n",
    "# 검색된 고유 문서들을 출력합니다.\n",
    "docs"
   ]
  },
  {
   "cell_type": "code",
   "execution_count": 69,
   "id": "be5ce95c-7aaa-49ca-8633-520176180324",
   "metadata": {},
   "outputs": [
    {
     "data": {
      "text/plain": [
       "\"최근 부동산 시장에서 '영끌 리턴' 현상이 나타나고 있다는 보도가 있습니다. 이는 집값이 다시 상승할 가능성을 시사하는 것으로 해석될 수 있습니다. 그러나 집값의 향방은 여러 요인에 따라 달라질 수 있으며, 특히 경제 전반의 상황, 금리 변화, 그리고 정부의 정책 등이 중요한 영향을 미칠 것입니다. 따라서 현재의 부동산 시장 동향을 면밀히 살펴보는 것이 필요합니다.\""
      ]
     },
     "execution_count": 69,
     "metadata": {},
     "output_type": "execute_result"
    }
   ],
   "source": [
    "from langchain_openai import ChatOpenAI\n",
    "from langchain_core.runnables import RunnablePassthrough\n",
    "\n",
    "# RAG\n",
    "template = \"\"\"다음 맥락을 바탕으로 질문에 답변하세요:\n",
    "\n",
    "{context}\n",
    "\n",
    "질문: {question}\n",
    "\"\"\"\n",
    "\n",
    "prompt = ChatPromptTemplate.from_template(template)\n",
    "\n",
    "llm = ChatOpenAI(model_name=\"gpt-4o-mini\", temperature=0)\n",
    "\n",
    "final_rag_chain = (\n",
    "    {\"context\": retrieval_chain, \n",
    "     \"question\": RunnablePassthrough()} \n",
    "    | prompt\n",
    "    | llm\n",
    "    | StrOutputParser()\n",
    ")\n",
    "\n",
    "final_rag_chain.invoke(question)"
   ]
  },
  {
   "cell_type": "code",
   "execution_count": null,
   "id": "751a00e7-64ab-4652-bdcd-148098372219",
   "metadata": {},
   "outputs": [],
   "source": []
  }
 ],
 "metadata": {
  "kernelspec": {
   "display_name": "Python 3 (ipykernel)",
   "language": "python",
   "name": "python3"
  },
  "language_info": {
   "codemirror_mode": {
    "name": "ipython",
    "version": 3
   },
   "file_extension": ".py",
   "mimetype": "text/x-python",
   "name": "python",
   "nbconvert_exporter": "python",
   "pygments_lexer": "ipython3",
   "version": "3.12.9"
  }
 },
 "nbformat": 4,
 "nbformat_minor": 5
}
