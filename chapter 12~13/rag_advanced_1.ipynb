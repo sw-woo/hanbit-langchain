{
 "cells": [
  {
   "cell_type": "markdown",
   "id": "e1db017b-4896-4841-8072-d8a306150694",
   "metadata": {},
   "source": [
    "### Chapter 15: Advanced RAG 구축 -1 multiquery + unique-union"
   ]
  },
  {
   "cell_type": "code",
   "execution_count": 3,
   "id": "52fb2918-5ce2-4992-96d4-87d1f81ffae7",
   "metadata": {},
   "outputs": [],
   "source": [
    "import os\n",
    "from dotenv import load_dotenv\n",
    "load_dotenv()\n",
    "openai_api_key = os.getenv(\"OPENAI_API_KEY\")\n",
    "\n",
    "if not openai_api_key:\n",
    "    raise ValueError(\"openai api 키가 없습니다. 한번더 확인 부탁드립니다.\")\n",
    "\n",
    "os.environ['OPENAI_API_KEY'] = openai_api_key"
   ]
  },
  {
   "cell_type": "code",
   "execution_count": 4,
   "id": "643372be-cf95-4aab-bff6-f4e915d75a65",
   "metadata": {},
   "outputs": [
    {
     "data": {
      "text/plain": [
       "[Document(metadata={'source': 'https://news.naver.com/section/101'}, page_content='\\n\\n\"소득·집값도 안 본다\"…초유의 주담대 절대한도, 왜 6억원일까\\n\\n금융당국이 소득 상환 능력, 주택담보대출비율(LTV) 규제를 넘어선 \\'주담대 최대 6억 원 제한\\'이란 초강력 규제를 들고 나왔다. 집값이 급등하던 2019년 15억 원 이상 주택에 대해 대출을\\n\\n\\n뉴스1\\n\\n\\n\\n\\n70\\n개의 관련뉴스 더보기\\n\\n\\n\\n\\n\\n中企 7월 경기전망지수 76.6…전월比 1.6p 상승\\n\\n국내 중소기업들의 7월 경기전망이 6월보다 개선된 것으로 나타났다. 제조업의 경기전망지수는 지난달보다 하락했으나, 비제조업 경기전망지수가 개선되면서 이를 상쇄시켰다. 업황전망 SBHI(이미지=중기중앙회) 29일 중소\\n\\n\\n이데일리\\n\\n\\n\\n\\n21\\n개의 관련뉴스 더보기\\n\\n\\n\\n\\n\\n6월 가계대출 증가액 이미 5조8천억…비대면 대출 중단\\n\\n6월 가계대출 증가액이 5개월 연속 확대돼 7조원대에 이를지 주목된다. 은행들은 지난 27일 정부가 발표한 ‘가계부채 관리 강화 방안’을 전산에 반영하기 위해 비대면 대출을 일제히 중단한 상태다. 다만 은행들은 발표\\n\\n\\n한겨레\\n\\n\\n\\n\\n33\\n개의 관련뉴스 더보기\\n\\n\\n\\n\\n\\n\"제네시스 청주, 단순 전시장 넘어 고객과 교감하는 플랫폼으로\"\\n\\n제네시스 최대 규모…디자인 추천·공예 전시·시승 프로그램 눈길 \"제네시스 청주는 단순한 자동차 전시장을 넘어 고객과 깊이 교감하는 커뮤니티 플랫폼으로 나아가려 합니다.\" 문정균 제네시스 공간경험실장은 지난 25일 충\\n\\n\\n연합뉴스\\n\\n\\n\\n\\n16\\n개의 관련뉴스 더보기\\n\\n\\n\\n\\n\\n신한은행 배달플랫폼 \\'땡겨요\\'에 스타벅스 입점\\n\\n신한은행은 신세계그룹과 서울시 중구 소재 본점에서 신사업 지원 및 동반성장 생태계 구축을 위한 업무협약을 체결했다고 29일 밝혔다. 두 회사는 이번 업무협약을 통해 △\\'땡겨요\\' 및 \\'신한인증서\\' 도입 △협력업체 동반\\n\\n\\n파이낸셜뉴스\\n\\n\\n\\n\\n4\\n개의 관련뉴스 더보기\\n\\n\\n\\n\\n\\nAI정책서 펴낸 예산통·관료출신 기업인…‘성장의 길’ 찾는다\\n\\n29일 발표된 이재명 정부 ‘경제부처 라인업’은 예산·전략통 관료 출신들을 앞세워 새 정부가 내건 ‘진짜 성장’ 전략에 속도를 내겠다는 포석으로 풀이된다. 인공지능(AI)을 비롯한 미래 전략 산업 육성과 이를 뒷받침\\n\\n\\n한겨레\\n\\n\\n\\n\\n34\\n개의 관련뉴스 더보기\\n\\n\\n\\n\\n\\n6월 한강 이남 11개구 아파트 평균 매매가 17억 돌파…사상 최대\\n\\nKB 6월 전국주택가격동향 발표 강남 11개구 평균 17억3223만원에 매매 강북 14개구는 9억8876만원 서울 전체 평균은 13억8174만원 강남구 전세가율은 30%대로 하락 이달 서울 25개 자치구 중 한강 이\\n\\n\\n조선비즈\\n\\n\\n\\n\\n10\\n개의 관련뉴스 더보기\\n\\n\\n\\n\\n\\n삼양식품 ‘불닭 질주’ 어디까지...식품기업 첫 시총 10조 돌파\\n\\n불닭볶음면 신화를 쓴 삼양식품의 질주가 이어지고 있다. 분기마다 실적 경신에 이어, 이번엔 식품 기업 최초로 시가총액(시총) 10조원을 돌파했다. 불닭의 힘 29일 한국거래소에 따르면 삼양식품은 지난 27일 유가증권\\n\\n\\n중앙일보\\n\\n\\n\\n\\n14\\n개의 관련뉴스 더보기\\n\\n\\n\\n\\n\\n수도권 과열 진정 기대… 젊은 층 ‘내 집 마련 멀어지나’ 우려도 [이재명 정부 첫 부동산 대책]\\n\\n정부의 전례 없던 초고강도 대출 규제가 과열된 수도권 부동산 시장을 당분간 진정시킬 수 있는 것으로 평가된다. 다만 여유자금이 충분하지 않은 신혼부부 등 젊은 층의 ‘내 집 마련’ 역시 앞으로 더욱 어려워질 수 있다\\n\\n\\n부산일보\\n\\n\\n\\n\\n4\\n개의 관련뉴스 더보기\\n\\n\\n\\n\\n\\n\\'한미 관세협의\\' 여한구 \"새정부 들어 미국과 협상 가속화 위한 신뢰 형성\"\\n\\n한미 관세 협의를 마치고 막 귀국한 여한구 산업통상자원부 통상교섭본부장은 \"이제 협상을 가속하기 위해서 어느 정도의 신뢰가 형성됐다고 평가할 수 있다\"고 29일 밝혔다. 지난 22∼27일(현지시간) 워싱턴 DC에서 \\n\\n\\n매일신문\\n\\n\\n\\n\\n43\\n개의 관련뉴스 더보기\\n\\n\\n\\n\\n\\n“중국에서 안 사니까 힘 못 쓰네”…콧대 낮아지는 글로벌 명품 황제주\\n\\nLVMH 29% 내리고 케링 22% 하락 명품 큰손 中 소비 둔화에 실적 감소 트럼프 50% 관세 위협에 주가 급락 ‘Z세대 인기’ 코치 모회사 33% 올라 “7월 9일 美관세 유예 결정 살펴봐야” ‘명품 가방 대신\\n\\n\\n매일경제\\n\\n10분전\\n\\n\\n\\n\\n\\n\\n\\n\\n\"바람을 피워도, 하필 걔였니?\" 하이닉스·한미 \\'사랑과 전쟁\\'\\n\\n추천! 더중플-K반도체 연구 K반도체도 사람의 일이라, 납품 다각화는 뜻밖의 일이 되고 수율 불량에 가슴은 터집니다. 만나고 헤어지고, 선택하고 후회하고…가장 거대한 시설로 가장 미세한 제품을 만드는 반도체 산업 뒤\\n\\n\\n중앙일보\\n\\n19분전\\n\\n\\n\\n\\n\\n\\n\\n\\n길 잃은 뭉칫돈 몰려...회사채에 역대급 자금 몰렸다\\n\\n이 기사는 2025년06월29일 20시49분에 마켓인 프리미엄 콘텐츠로 선공개 되었습니다. 올해 상반기 공모 회사채 수요예측에 참여한 자금 규모가 168조원을 넘어서면서 반기 기준 역대 최대를 기록했다. 홈플러스 기\\n\\n\\n이데일리\\n\\n50분전\\n\\n\\n\\n\\n\\n\\n\\n\\n구윤철 “㈜대한민국 건설하겠다”…경제사령탑 첫 일성\\n\\n구윤철 경제부총리 겸 기획재정부 장관 후보자는 29일 “진짜성장을 위한 경제대혁신을 추진하겠다”라고 밝혔다. 핵심 키워드로는 ‘주식회사 대한민국’을 제시했다. 인공지능(AI)을 비롯한 미래 먹거리 투자를 통해 ‘주주\\n\\n\\n서울신문\\n\\n1시간전\\n\\n\\n\\n\\n\\n\\n\\n\\n양궁협회장만 잘하는게 아니었네…‘본업’에서도 존재감 뽐낸 정의선 회장\\n\\n정의선 취임 5년만에 영업익 6배 전기차 플랫폼車 100만대 돌파 SDV·AAM 등 미래 모빌리티 속도 도요타·GM 손잡는 프레너미 전략 제네시스 고급화에 美판매량 4.5배 ‘현대차는 2024년 판매량 3위로 글로벌\\n\\n\\n매일경제\\n\\n1시간전\\n\\n\\n\\n\\n\\n\\n\\n\\n지하철 요금 물가보다 빠르게 올랐다… 누적적자에 노후화 답은 요금인상? [뉴스+]\\n\\n20년간 요금 94% 올라… 같은 기간 물가는 56% 상승 서울시 “불가피”… 무임승차·노후화 등으로 비용 증가 30일 출근부터 본격 체감…시민단체 “시민에 비용 전가” 지난 20년간 서울 지하철 요금이 물가보다 더\\n\\n\\n세계일보\\n\\n1시간전\\n\\n\\n\\n\\n\\n\\n\\n\\n주담대 6억 이유…월 300만원 원리금 낼 수 있는 상위 10% 겨냥\\n\\n서울 서초구 반포동 아파트 전경. 독자제공 금융당국이 ‘주담대 최대 6억 원 제한’이란 초강력 규제를 들고 나온 가운데 ‘왜 6억 원’인가에 대해 의문이 제기된다. 특히 집값이 급등하던 2019년 15억 원 이상 주\\n\\n\\n문화일보\\n\\n2시간전\\n\\n\\n\\n\\n\\n\\n\\n\\n한국인만 조이는 대출 규제…외국인들은 ‘아파트 쇼핑’ 나선다\\n\\n대출 땐 6개월내 전입의무 등 까다로운 규제 적용 안 받아 매매 많은 수도권이 규제 대상 외국인 거래 증가 가능성 높아 정부의 고강도 부동산 대출규제가 최근 불거진 ‘한국인 역차별 논란’을 더 키울 수 있다는 우려가\\n\\n\\n매일경제\\n\\n2시간전\\n\\n\\n\\n\\n\\n\\n\\n\\n“빚만 쌓여가고 있다”...혁신기술 있어도 힘든 스타트업, 특허 없는 곳 무려 43%\\n\\n팬데믹 후 투자 위축 R&D 자금 줄어들어 3557곳 중 1547곳 특허 단 하나도 없어 지난해 창업한 곳은 무특허 비율 87.1% VC도 3년새 1/3토막 특허심사 길단 비판도 # 2019년 설립된 인공지능(AI)\\n\\n\\n매일경제\\n\\n2시간전\\n\\n\\n\\n\\n\\n\\n\\n\\n“지방 전원주택에 본점 허위 등록, 잡아냅니다”\\n\\n휴면법인 인수 등 악용 중과 회피 ‘꼼수’ 쓰는 법인들 끝까지 추적 ‘과점주주 간주취득세 과세’ 국세청 자료 분석 추징, 전국 첫 성과 A건설사는 서울에서 법인 등록을 한 후 5년 이상 영업하지 않던 B사를 인수했다\\n\\n\\n경향신문\\n\\n2시간전\\n\\n\\n\\n\\n\\n\\n\\n\\n\"마포 대신 서대문·은평\"…고액 영끌 막히자 눈 돌리나\\n\\n정부가 수도권 주택담보대출 한도를 6억 원으로 제한하는 초고강도 규제를 시행하면서, 이제 서울 아파트를 사려면 평균 시세로 따졌을 때 8억 원이 넘는 현금이 있어야 합니다. 서울의 중저가 아파트나 서울 외곽으로 매수\\n\\n\\nSBS\\n\\n3시간전\\n\\n\\n\\n\\n\\n\\n\\n\\n수도권 과열 진정 기대… 젊은 층 ‘내 집 마련 멀어지나’ 우려도 [이재명 정부 첫 부동산 대책]\\n\\n정부의 전례 없던 초고강도 대출 규제가 과열된 수도권 부동산 시장을 당분간 진정시킬 수 있는 것으로 평가된다. 다만 여유자금이 충분하지 않은 신혼부부 등 젊은 층의 ‘내 집 마련’ 역시 앞으로 더욱 어려워질 수 있다\\n\\n\\n부산일보\\n\\n3시간전\\n\\n\\n\\n\\n\\n\\n\\n\\n‘채찍과 당근’ 동시에 꺼내든 미국…관세협상 돌파구 고심하는 한국\\n\\n美, 관세 유예 조치 안 할 경우 내달 9일 즉각 15% 차등 관세 韓정부, 車∙철강 관련 입장 전달 美LNG사업 등 협상 노력 이어가 산업통상부, 30일 관세 관련 공청회 미국과의 관세 협상 속도가 이재\\n\\n\\n매일경제\\n\\n3시간전\\n\\n\\n\\n\\n\\n\\n\\n\\n\\'㈜대한민국\\' 내건 구윤철 \"초혁신 경제로 파이 키우겠다\"(종합)\\n\\n첫 기자간담회…\"계란·라면·콩나물가격 등 매일 직면 생활물가 안정에 최선\" 증세론엔 \"경제 어려움 속 어려워, 파이 키워야\"…3차 추경론엔 \"재정상황도 봐야\" 정책팀 = 구윤철 경제부총리 겸 기획재정부 장관 후보자는\\n\\n\\n연합뉴스\\n\\n3시간전\\n\\n\\n\\n\\n\\n\\n\\n\\n코스피 상승 26년 만에 최고… 하반기 ‘진짜 시험대’ 오른다\\n\\n‘코리아 디스카운트’ 기저효과에 새 정부 출범 ‘허니문 랠리’ 지속 증권·금융주 탄력, 방산 등 급등 단기과열종목 한 달 새 2배 늘어 차익 실현… 선별적 강세 가능성 일각 “과열 종목 거품 빠질 수도” 코스피가 2\\n\\n\\n서울신문\\n\\n3시간전\\n\\n\\n\\n\\n\\n\\n\\n\\n‘주담대 6억’ 영끌해도… 현금 8.6억 있어야 서울 아파트 산다\\n\\n‘노도강’ 등 7개區 뺀 18개區 영향권 신생아특례 등 정책 대출 한도 줄어 강남3구·한강벨트 거래 뚝 ‘관망세’ 10억 안팎 중저가 위주 매수세 늘 듯 정부가 지난 28일부터 수도권에 대해 6억원 이상 주택담보대출\\n\\n\\n서울신문\\n\\n3시간전\\n\\n\\n\\n\\n\\n\\n\\n\\n‘서울 불장’ 대출 규제, 지방 또 유탄 맞을라 ‘한숨’\\n\\n지난 27일 정부가 발표한 고강도 부동산 대책으로 부산을 비롯한 지방 광역시의 부동산 시장도 당분간 크게 위축될 것으로 우려된다. 수도권에 국한된 초강력 대출 규제 카드지만 ‘집값을 잡겠다’는 정부의 시그널이 명확히\\n\\n\\n부산일보\\n\\n3시간전\\n\\n\\n\\n\\n\\n\\n\\n\\n[단독] “전세 끼고 샀는데 어쩌죠”...갭투자 집주인들 초비상, 6억원 대출규제에 곤혹\\n\\n주담대 한도 6억원으로 제한 전세금반환대출도 규제하면 갭투자 후 실거주할 때 곤란 수도권과 규제지역에서 지난 28일부터 주택담보대출이 6억원으로 제한되면서 전세를 끼고 주택을 구매(갭투자)했던 집주인들에게 비상이 걸\\n\\n\\n매일경제\\n\\n3시간전\\n\\n\\n\\n\\n\\n\\n\\n\\n초강력 대출 규제에 서울 부동산 ‘패닉’…“급등 지역 조정 있을 듯”\\n\\n전격 시행된 정부의 ‘가계부채 관리 강화 방안’에 따라 29일 서울 부동산 시장은 충격에 빠진 모습이다. 시장에선 이번 대책의 파급 효과, 후속 대책 여부 등을 지켜보기 위해 당분간 매도·매수자들이 관망하면서 매매거\\n\\n\\n한겨레\\n\\n3시간전\\n\\n\\n\\n\\n\\n\\n\\n\\n공백 두달만의 기재부 장관 지명…경제정책방향, 세제개편 등 \\'속도전\\' 나설 듯\\n\\n이재명 대통령이 29일 기획재정부 장관 후보자에 구윤철 전 국무조정실장을 지명했다. 최상목 전 부총리 겸 기재부 장관 사퇴 후 두 달여만의 후보자 내정이다. 새정부 경제정책방향 준비, 재정운용 기조전환 등에도 속도가\\n\\n\\n파이낸셜뉴스\\n\\n3시간전\\n\\n\\n\\n\\n\\n\\n\\n\\n\"전용59㎡도 실탄 10억 있어야\" 현금부자만 강남 청약 받는다\\n\\n오랜 기간 청약을 기다려왔던 무주택자들이 정부의 초강력 대출 규제에 발목이 잡히게 됐습니다. 잔금대출 역시 6억 원까지만 가능하게 해 준비해야 할 돈이 늘어난 건데, 현금부자들만 웃게 하는 건 아닌지 우려의 목소리가\\n\\n\\nMBN\\n\\n3시간전\\n\\n\\n\\n\\n\\n\\n\\n\\n비대면 대출 막혔다...초강력 규제에 실수요자 ‘발동동’\\n\\n당장 대출 수요가 있던 실수요자들이 주말 사이에 혼란을 겪었다. 금융당국이 고강도 가계대출 관리 방안을 발표한 직후 은행권 등이 주택담보대출(주담대), 신용대출 등 비대면 신청을 일제히 중단했다. 주담대 한도를 6억\\n\\n\\n디지털타임스\\n\\n3시간전\\n\\n\\n\\n\\n\\n\\n\\n\\n신생아 특례 ‘연소득 2억’ 상한선은 손 안 대고…정책대출 한도 20% 일괄 축소\\n\\n서울 아파트값 급등에 대응해 정부가 대대적인 대출 조이기에 나선 가운데 정책대출 한도도 크게 줄어들 전망이다. 윤석열 정부 당시 정책대출 수혜 대상을 크게 확대하면서 집값 상승의 불씨를 댕겼다는 평가를 받았는데, 다\\n\\n\\n한겨레\\n\\n3시간전\\n\\n\\n\\n\\n\\n\\n\\n\\n7월부터 오르는 국민연금 보험료…월 최대 1만8000원 인상\\n\\n내달부터 국민연금 보험료 부과 기준인 \\'기준소득월액\\'의 상·하한이 조정되면서, 일부 가입자의 월 보험료가 최대 1만8000원 오를 예정이다. 직장인은 회사와 보험료를 반씩 내기 때문에 본인 부담은 최대 9000원 늘\\n\\n\\n디지털타임스\\n\\n3시간전\\n\\n\\n\\n\\n\\n\\n\\n\\n경제부총리 지명됐지만…기재부, 새경방·내년 예산안 속도 내나\\n\\n이재명 정부의 초대 경제부총리 겸 기획재정부 장관 후보자로 구윤철 전 국무조정실장이 지명되면서 새정부 경제정책방향 등 기재부 현안들도 속도를 낼지 주목된다. 지금까지 경제 사령탑의 공석 사태가 두 달 가까이 이어지면\\n\\n\\n디지털타임스\\n\\n3시간전\\n\\n\\n\\n\\n\\n\\n\\n\\n구윤철 기재부 장관 후보자 \"주식회사 대한민국 초혁신 경제로\"\\n\\n이재명 대통령이 새 정부 초대 경제사령탑으로 지명한 구윤철 부총리 겸 기획재정부 장관이 29일 서울 예금보험공사에서 기자간담회를 열고 재정의 적극적 역할을 강조했다. 그는 모두발언에서 \"경제 운영에 있어서 국민이 주\\n\\n\\n한국일보\\n\\n3시간전\\n\\n\\n\\n\\n\\n\\n\\n\\nAI 시장은 터지는데…찾는 이 없는 차세대 메모리\\n\\n인공지능(AI) 반도체 수요가 폭발적으로 늘고 있는 가운데, HBM(고대역폭메모리)와 함께 차세대 메모리반도체 기술로 평가 받는 CXL(컴퓨트 익스프레스 링크)과 PIM(프로세싱 인 메모리)의 성과가 3~4년째 나오\\n\\n\\n디지털타임스\\n\\n3시간전\\n\\n\\n\\n\\n\\n\\n\\n\\n오유경 식약처장 \\'유임\\'…\"막중한 책임감\"\\n\\n오유경 식품의약품안전처장은 29일 대통령실의 유임 발표에 대해 \"국민 생활 속의 안전을 담당하는 부처로서 긴장감을 늦추지 않고 국민 식의약안전을 위해 최선을 다해 나가겠다\"고 밝혔습니다. 오 처장은 \"유임에 대해 막\\n\\n\\nSBS Biz\\n\\n3시간전\\n\\n\\n\\n\\n\\n\\n\\n\\n구윤철 \"\\'진짜 성장\\' 경제대혁신 추진…주식회사 대한민국 건설\"(종합)\\n\\n이재명 정부 초대 부총리 겸 기획재정부 장관 후보자로 지명된 구윤철 후보자는 29일 진짜성장을 위한 경제대혁신을 추진하기 위해 \\'주식회사 대한민국\\'을 만들어가야 한다고 강조했다. 구 후보자는 이날 부총리 후보 지명 \\n\\n\\n뉴스1\\n\\n3시간전\\n\\n\\n\\n\\n\\n\\n\\n\\n[가상자산 나침반] 중동 휴전에 비트코인 가격 회복…다시 ‘파월의 입’ 주목\\n\\n중동의 분쟁이 일단락되면서 급락했던 비트코인 가격도 이전 수준을 모두 회복했다. 가상자산의 제도권 수용 속도가 빨라지며 기대감이 높아지고 있는 가운데 미국의 경제 지표와 제롬 파월 연방준비제도(연준·Fed) 의장의 \\n\\n\\n디지털타임스\\n\\n3시간전\\n\\n\\n\\n\\n\\n\\n\\n\\n‘대출 6억원 한도’에 매수 문의 뚝…“규제 ‘약발’ 1~3개월은 갈 것”\\n\\n지난 28일부터 정부의 가계부채 관리방안에 따라 주택담보대출 규제가 시행되면서 최근 매매가격이 급등하던 서울 마포·성동구 등의 아파트 거래가 주춤하는 분위기다. 강력한 대출 규제로 급한 불 끄기에 나선 정부는 시장 \\n\\n\\n경향신문\\n\\n4시간전\\n\\n\\n\\n\\n\\n\\n\\n\\n담배 끊어도 낸 보험료는 일부만 돌려준다 [임성원의 속편한 보험]\\n\\n18년 전 지인의 권유로 유니버설 종신보험에 가입한 이 씨는 건강검진에서 금연에 따른 건강(우량)체 판정을 받았다. 이 씨는 가입한 상품 관련 보상을 보험사에 신청했다가 당황했다. 납입할 보험료는 월 1500원가량 \\n\\n\\n디지털타임스\\n\\n4시간전\\n\\n\\n\\n\\n\\n\\n\\n\\n[코스피5000, 꿈인가 현실인가] “도달 ‘시점’보다 ‘조건’ 중요… 기업실적 동반돼야”\\n\\n코스피가 3000포인트를 달성한 뒤 조정에 들어갔다. 하지만 최근 한 달간 전 세계 증시를 압도하는 상승률을 기록하며 투자자들의 눈높이도 높아졌다. 지금 코스피 상승을 이끄는 것은 이재명 정부의 상법 개정 등을 통한\\n\\n\\n디지털타임스\\n\\n4시간전\\n\\n\\n\\n\\n\\n\\n\\n\\n한은 CBDC 사업 잠정 중단…스테이블코인 기세 탓?\\n\\n한국은행 주도로 추진되고 있는 중앙은행 디지털화폐(CBDC) 사업이 2차 테스트를 앞두고 잠정 중단됐다. 시범 사업에 참여한 은행들의 불만이 커지고, 민간 주도로 원화 기반 스테이블코인 도입 논의가 활발해지고 있는 \\n\\n\\n디지털타임스\\n\\n4시간전\\n\\n\\n\\n\\n\\n\\n\\n\\n취임 7주년 맞은 구광모 회장…LG, 글로벌 위기 속 생존 전략 마련 \\'분주\\'\\n\\n미국 관세 정책과 중동 지역 분쟁 격화 등 대외 불확실성이 커지는 가운데 구광모 LG그룹 회장이 예년보다 무거운 분위기 속에서 취임 7주년을 맞았다. 40세의 나이에 국내 4대 그룹 총수에 오른 구 회장은 취임 초부\\n\\n\\n블로터\\n\\n4시간전\\n\\n\\n\\n\\n\\n\\n\\n\\n10억 미만 아파트 문의 쇄도…강남 3구 문의 ‘뚝’\\n\\n주택담보대출 한도를 최대 6억 원으로 제한하는 초고강도 대출 규제 여파가 부동산 시장에 서서히 반영되고 있습니다. 직격탄을 맞은 강남권 아파트는 벌써부터 매수 문의가 뚝 끊기고, 호가도 꺾이면서 거래가 위축되는 모습\\n\\n\\n채널A\\n\\n4시간전\\n\\n\\n\\n\\n\\n\\n')]"
      ]
     },
     "execution_count": 4,
     "metadata": {},
     "output_type": "execute_result"
    }
   ],
   "source": [
    "import bs4\n",
    "from langchain import hub\n",
    "from langchain.text_splitter import RecursiveCharacterTextSplitter\n",
    "from langchain_community.document_loaders import WebBaseLoader\n",
    "from langchain_community.vectorstores import Chroma\n",
    "from langchain_core.output_parsers import StrOutputParser\n",
    "from langchain_core.runnables import RunnablePassthrough\n",
    "from langchain_openai import ChatOpenAI, OpenAIEmbeddings\n",
    "\n",
    "#### INDEXING ####\n",
    "\n",
    "# Load Documents\n",
    "loader = WebBaseLoader(\n",
    "    web_paths=(\"https://news.naver.com/section/101\",),\n",
    "    bs_kwargs=dict(\n",
    "        parse_only=bs4.SoupStrainer(\n",
    "            class_=(\"sa_text\", \"sa_item_SECTION_HEADLINE\")\n",
    "        )\n",
    "    ),\n",
    ")\n",
    "docs = loader.load()\n",
    "docs"
   ]
  },
  {
   "cell_type": "code",
   "execution_count": 5,
   "id": "ad03e012-4972-45c0-9045-a9040eb0ff44",
   "metadata": {},
   "outputs": [
    {
     "data": {
      "text/plain": [
       "[Document(metadata={'source': 'https://news.naver.com/section/101'}, page_content='\"소득·집값도 안 본다\"…초유의 주담대 절대한도, 왜 6억원일까\\n\\n금융당국이 소득 상환 능력, 주택담보대출비율(LTV) 규제를 넘어선 \\'주담대 최대 6억 원 제한\\'이란 초강력 규제를 들고 나왔다. 집값이 급등하던 2019년 15억 원 이상 주택에 대해 대출을\\n\\n\\n뉴스1'),\n",
       " Document(metadata={'source': 'https://news.naver.com/section/101'}, page_content='뉴스1\\n\\n\\n\\n\\n70\\n개의 관련뉴스 더보기\\n\\n\\n\\n\\n\\n中企 7월 경기전망지수 76.6…전월比 1.6p 상승'),\n",
       " Document(metadata={'source': 'https://news.naver.com/section/101'}, page_content='국내 중소기업들의 7월 경기전망이 6월보다 개선된 것으로 나타났다. 제조업의 경기전망지수는 지난달보다 하락했으나, 비제조업 경기전망지수가 개선되면서 이를 상쇄시켰다. 업황전망 SBHI(이미지=중기중앙회) 29일 중소\\n\\n\\n이데일리'),\n",
       " Document(metadata={'source': 'https://news.naver.com/section/101'}, page_content='이데일리\\n\\n\\n\\n\\n21\\n개의 관련뉴스 더보기\\n\\n\\n\\n\\n\\n6월 가계대출 증가액 이미 5조8천억…비대면 대출 중단'),\n",
       " Document(metadata={'source': 'https://news.naver.com/section/101'}, page_content='6월 가계대출 증가액이 5개월 연속 확대돼 7조원대에 이를지 주목된다. 은행들은 지난 27일 정부가 발표한 ‘가계부채 관리 강화 방안’을 전산에 반영하기 위해 비대면 대출을 일제히 중단한 상태다. 다만 은행들은 발표\\n\\n\\n한겨레\\n\\n\\n\\n\\n33\\n개의 관련뉴스 더보기'),\n",
       " Document(metadata={'source': 'https://news.naver.com/section/101'}, page_content='한겨레\\n\\n\\n\\n\\n33\\n개의 관련뉴스 더보기\\n\\n\\n\\n\\n\\n\"제네시스 청주, 단순 전시장 넘어 고객과 교감하는 플랫폼으로\"'),\n",
       " Document(metadata={'source': 'https://news.naver.com/section/101'}, page_content='제네시스 최대 규모…디자인 추천·공예 전시·시승 프로그램 눈길 \"제네시스 청주는 단순한 자동차 전시장을 넘어 고객과 깊이 교감하는 커뮤니티 플랫폼으로 나아가려 합니다.\" 문정균 제네시스 공간경험실장은 지난 25일 충\\n\\n\\n연합뉴스'),\n",
       " Document(metadata={'source': 'https://news.naver.com/section/101'}, page_content=\"연합뉴스\\n\\n\\n\\n\\n16\\n개의 관련뉴스 더보기\\n\\n\\n\\n\\n\\n신한은행 배달플랫폼 '땡겨요'에 스타벅스 입점\"),\n",
       " Document(metadata={'source': 'https://news.naver.com/section/101'}, page_content=\"신한은행은 신세계그룹과 서울시 중구 소재 본점에서 신사업 지원 및 동반성장 생태계 구축을 위한 업무협약을 체결했다고 29일 밝혔다. 두 회사는 이번 업무협약을 통해 △'땡겨요' 및 '신한인증서' 도입 △협력업체 동반\\n\\n\\n파이낸셜뉴스\"),\n",
       " Document(metadata={'source': 'https://news.naver.com/section/101'}, page_content='파이낸셜뉴스\\n\\n\\n\\n\\n4\\n개의 관련뉴스 더보기\\n\\n\\n\\n\\n\\nAI정책서 펴낸 예산통·관료출신 기업인…‘성장의 길’ 찾는다'),\n",
       " Document(metadata={'source': 'https://news.naver.com/section/101'}, page_content='29일 발표된 이재명 정부 ‘경제부처 라인업’은 예산·전략통 관료 출신들을 앞세워 새 정부가 내건 ‘진짜 성장’ 전략에 속도를 내겠다는 포석으로 풀이된다. 인공지능(AI)을 비롯한 미래 전략 산업 육성과 이를 뒷받침\\n\\n\\n한겨레\\n\\n\\n\\n\\n34\\n개의 관련뉴스 더보기'),\n",
       " Document(metadata={'source': 'https://news.naver.com/section/101'}, page_content='한겨레\\n\\n\\n\\n\\n34\\n개의 관련뉴스 더보기\\n\\n\\n\\n\\n\\n6월 한강 이남 11개구 아파트 평균 매매가 17억 돌파…사상 최대'),\n",
       " Document(metadata={'source': 'https://news.naver.com/section/101'}, page_content='KB 6월 전국주택가격동향 발표 강남 11개구 평균 17억3223만원에 매매 강북 14개구는 9억8876만원 서울 전체 평균은 13억8174만원 강남구 전세가율은 30%대로 하락 이달 서울 25개 자치구 중 한강 이\\n\\n\\n조선비즈\\n\\n\\n\\n\\n10\\n개의 관련뉴스 더보기'),\n",
       " Document(metadata={'source': 'https://news.naver.com/section/101'}, page_content='조선비즈\\n\\n\\n\\n\\n10\\n개의 관련뉴스 더보기\\n\\n\\n\\n\\n\\n삼양식품 ‘불닭 질주’ 어디까지...식품기업 첫 시총 10조 돌파'),\n",
       " Document(metadata={'source': 'https://news.naver.com/section/101'}, page_content='불닭볶음면 신화를 쓴 삼양식품의 질주가 이어지고 있다. 분기마다 실적 경신에 이어, 이번엔 식품 기업 최초로 시가총액(시총) 10조원을 돌파했다. 불닭의 힘 29일 한국거래소에 따르면 삼양식품은 지난 27일 유가증권\\n\\n\\n중앙일보\\n\\n\\n\\n\\n14\\n개의 관련뉴스 더보기'),\n",
       " Document(metadata={'source': 'https://news.naver.com/section/101'}, page_content='중앙일보\\n\\n\\n\\n\\n14\\n개의 관련뉴스 더보기\\n\\n\\n\\n\\n\\n수도권 과열 진정 기대… 젊은 층 ‘내 집 마련 멀어지나’ 우려도 [이재명 정부 첫 부동산 대책]'),\n",
       " Document(metadata={'source': 'https://news.naver.com/section/101'}, page_content='정부의 전례 없던 초고강도 대출 규제가 과열된 수도권 부동산 시장을 당분간 진정시킬 수 있는 것으로 평가된다. 다만 여유자금이 충분하지 않은 신혼부부 등 젊은 층의 ‘내 집 마련’ 역시 앞으로 더욱 어려워질 수 있다\\n\\n\\n부산일보'),\n",
       " Document(metadata={'source': 'https://news.naver.com/section/101'}, page_content='부산일보\\n\\n\\n\\n\\n4\\n개의 관련뉴스 더보기\\n\\n\\n\\n\\n\\n\\'한미 관세협의\\' 여한구 \"새정부 들어 미국과 협상 가속화 위한 신뢰 형성\"'),\n",
       " Document(metadata={'source': 'https://news.naver.com/section/101'}, page_content='한미 관세 협의를 마치고 막 귀국한 여한구 산업통상자원부 통상교섭본부장은 \"이제 협상을 가속하기 위해서 어느 정도의 신뢰가 형성됐다고 평가할 수 있다\"고 29일 밝혔다. 지난 22∼27일(현지시간) 워싱턴 DC에서 \\n\\n\\n매일신문\\n\\n\\n\\n\\n43\\n개의 관련뉴스 더보기'),\n",
       " Document(metadata={'source': 'https://news.naver.com/section/101'}, page_content='매일신문\\n\\n\\n\\n\\n43\\n개의 관련뉴스 더보기\\n\\n\\n\\n\\n\\n“중국에서 안 사니까 힘 못 쓰네”…콧대 낮아지는 글로벌 명품 황제주'),\n",
       " Document(metadata={'source': 'https://news.naver.com/section/101'}, page_content='LVMH 29% 내리고 케링 22% 하락 명품 큰손 中 소비 둔화에 실적 감소 트럼프 50% 관세 위협에 주가 급락 ‘Z세대 인기’ 코치 모회사 33% 올라 “7월 9일 美관세 유예 결정 살펴봐야” ‘명품 가방 대신\\n\\n\\n매일경제\\n\\n10분전'),\n",
       " Document(metadata={'source': 'https://news.naver.com/section/101'}, page_content='매일경제\\n\\n10분전\\n\\n\\n\\n\\n\\n\\n\\n\\n\"바람을 피워도, 하필 걔였니?\" 하이닉스·한미 \\'사랑과 전쟁\\''),\n",
       " Document(metadata={'source': 'https://news.naver.com/section/101'}, page_content='추천! 더중플-K반도체 연구 K반도체도 사람의 일이라, 납품 다각화는 뜻밖의 일이 되고 수율 불량에 가슴은 터집니다. 만나고 헤어지고, 선택하고 후회하고…가장 거대한 시설로 가장 미세한 제품을 만드는 반도체 산업 뒤\\n\\n\\n중앙일보\\n\\n19분전'),\n",
       " Document(metadata={'source': 'https://news.naver.com/section/101'}, page_content='중앙일보\\n\\n19분전\\n\\n\\n\\n\\n\\n\\n\\n\\n길 잃은 뭉칫돈 몰려...회사채에 역대급 자금 몰렸다'),\n",
       " Document(metadata={'source': 'https://news.naver.com/section/101'}, page_content='이 기사는 2025년06월29일 20시49분에 마켓인 프리미엄 콘텐츠로 선공개 되었습니다. 올해 상반기 공모 회사채 수요예측에 참여한 자금 규모가 168조원을 넘어서면서 반기 기준 역대 최대를 기록했다. 홈플러스 기\\n\\n\\n이데일리\\n\\n50분전'),\n",
       " Document(metadata={'source': 'https://news.naver.com/section/101'}, page_content='이데일리\\n\\n50분전\\n\\n\\n\\n\\n\\n\\n\\n\\n구윤철 “㈜대한민국 건설하겠다”…경제사령탑 첫 일성'),\n",
       " Document(metadata={'source': 'https://news.naver.com/section/101'}, page_content='구윤철 경제부총리 겸 기획재정부 장관 후보자는 29일 “진짜성장을 위한 경제대혁신을 추진하겠다”라고 밝혔다. 핵심 키워드로는 ‘주식회사 대한민국’을 제시했다. 인공지능(AI)을 비롯한 미래 먹거리 투자를 통해 ‘주주\\n\\n\\n서울신문\\n\\n1시간전'),\n",
       " Document(metadata={'source': 'https://news.naver.com/section/101'}, page_content='서울신문\\n\\n1시간전\\n\\n\\n\\n\\n\\n\\n\\n\\n양궁협회장만 잘하는게 아니었네…‘본업’에서도 존재감 뽐낸 정의선 회장'),\n",
       " Document(metadata={'source': 'https://news.naver.com/section/101'}, page_content='정의선 취임 5년만에 영업익 6배 전기차 플랫폼車 100만대 돌파 SDV·AAM 등 미래 모빌리티 속도 도요타·GM 손잡는 프레너미 전략 제네시스 고급화에 美판매량 4.5배 ‘현대차는 2024년 판매량 3위로 글로벌\\n\\n\\n매일경제\\n\\n1시간전'),\n",
       " Document(metadata={'source': 'https://news.naver.com/section/101'}, page_content='매일경제\\n\\n1시간전\\n\\n\\n\\n\\n\\n\\n\\n\\n지하철 요금 물가보다 빠르게 올랐다… 누적적자에 노후화 답은 요금인상? [뉴스+]'),\n",
       " Document(metadata={'source': 'https://news.naver.com/section/101'}, page_content='20년간 요금 94% 올라… 같은 기간 물가는 56% 상승 서울시 “불가피”… 무임승차·노후화 등으로 비용 증가 30일 출근부터 본격 체감…시민단체 “시민에 비용 전가” 지난 20년간 서울 지하철 요금이 물가보다 더\\n\\n\\n세계일보\\n\\n1시간전'),\n",
       " Document(metadata={'source': 'https://news.naver.com/section/101'}, page_content='세계일보\\n\\n1시간전\\n\\n\\n\\n\\n\\n\\n\\n\\n주담대 6억 이유…월 300만원 원리금 낼 수 있는 상위 10% 겨냥'),\n",
       " Document(metadata={'source': 'https://news.naver.com/section/101'}, page_content='서울 서초구 반포동 아파트 전경. 독자제공 금융당국이 ‘주담대 최대 6억 원 제한’이란 초강력 규제를 들고 나온 가운데 ‘왜 6억 원’인가에 대해 의문이 제기된다. 특히 집값이 급등하던 2019년 15억 원 이상 주\\n\\n\\n문화일보\\n\\n2시간전'),\n",
       " Document(metadata={'source': 'https://news.naver.com/section/101'}, page_content='문화일보\\n\\n2시간전\\n\\n\\n\\n\\n\\n\\n\\n\\n한국인만 조이는 대출 규제…외국인들은 ‘아파트 쇼핑’ 나선다'),\n",
       " Document(metadata={'source': 'https://news.naver.com/section/101'}, page_content='대출 땐 6개월내 전입의무 등 까다로운 규제 적용 안 받아 매매 많은 수도권이 규제 대상 외국인 거래 증가 가능성 높아 정부의 고강도 부동산 대출규제가 최근 불거진 ‘한국인 역차별 논란’을 더 키울 수 있다는 우려가\\n\\n\\n매일경제\\n\\n2시간전'),\n",
       " Document(metadata={'source': 'https://news.naver.com/section/101'}, page_content='매일경제\\n\\n2시간전\\n\\n\\n\\n\\n\\n\\n\\n\\n“빚만 쌓여가고 있다”...혁신기술 있어도 힘든 스타트업, 특허 없는 곳 무려 43%'),\n",
       " Document(metadata={'source': 'https://news.naver.com/section/101'}, page_content='팬데믹 후 투자 위축 R&D 자금 줄어들어 3557곳 중 1547곳 특허 단 하나도 없어 지난해 창업한 곳은 무특허 비율 87.1% VC도 3년새 1/3토막 특허심사 길단 비판도 # 2019년 설립된 인공지능(AI)\\n\\n\\n매일경제\\n\\n2시간전\\n\\n\\n\\n\\n\\n\\n\\n\\n“지방 전원주택에 본점 허위 등록, 잡아냅니다”'),\n",
       " Document(metadata={'source': 'https://news.naver.com/section/101'}, page_content='휴면법인 인수 등 악용 중과 회피 ‘꼼수’ 쓰는 법인들 끝까지 추적 ‘과점주주 간주취득세 과세’ 국세청 자료 분석 추징, 전국 첫 성과 A건설사는 서울에서 법인 등록을 한 후 5년 이상 영업하지 않던 B사를 인수했다\\n\\n\\n경향신문\\n\\n2시간전'),\n",
       " Document(metadata={'source': 'https://news.naver.com/section/101'}, page_content='경향신문\\n\\n2시간전\\n\\n\\n\\n\\n\\n\\n\\n\\n\"마포 대신 서대문·은평\"…고액 영끌 막히자 눈 돌리나'),\n",
       " Document(metadata={'source': 'https://news.naver.com/section/101'}, page_content='정부가 수도권 주택담보대출 한도를 6억 원으로 제한하는 초고강도 규제를 시행하면서, 이제 서울 아파트를 사려면 평균 시세로 따졌을 때 8억 원이 넘는 현금이 있어야 합니다. 서울의 중저가 아파트나 서울 외곽으로 매수\\n\\n\\nSBS\\n\\n3시간전'),\n",
       " Document(metadata={'source': 'https://news.naver.com/section/101'}, page_content='SBS\\n\\n3시간전\\n\\n\\n\\n\\n\\n\\n\\n\\n수도권 과열 진정 기대… 젊은 층 ‘내 집 마련 멀어지나’ 우려도 [이재명 정부 첫 부동산 대책]'),\n",
       " Document(metadata={'source': 'https://news.naver.com/section/101'}, page_content='정부의 전례 없던 초고강도 대출 규제가 과열된 수도권 부동산 시장을 당분간 진정시킬 수 있는 것으로 평가된다. 다만 여유자금이 충분하지 않은 신혼부부 등 젊은 층의 ‘내 집 마련’ 역시 앞으로 더욱 어려워질 수 있다\\n\\n\\n부산일보\\n\\n3시간전'),\n",
       " Document(metadata={'source': 'https://news.naver.com/section/101'}, page_content='부산일보\\n\\n3시간전\\n\\n\\n\\n\\n\\n\\n\\n\\n‘채찍과 당근’ 동시에 꺼내든 미국…관세협상 돌파구 고심하는 한국'),\n",
       " Document(metadata={'source': 'https://news.naver.com/section/101'}, page_content='美, 관세 유예 조치 안 할 경우 내달 9일 즉각 15% 차등 관세 韓정부, 車∙철강 관련 입장 전달 美LNG사업 등 협상 노력 이어가 산업통상부, 30일 관세 관련 공청회 미국과의 관세 협상 속도가 이재\\n\\n\\n매일경제\\n\\n3시간전'),\n",
       " Document(metadata={'source': 'https://news.naver.com/section/101'}, page_content='매일경제\\n\\n3시간전\\n\\n\\n\\n\\n\\n\\n\\n\\n\\'㈜대한민국\\' 내건 구윤철 \"초혁신 경제로 파이 키우겠다\"(종합)'),\n",
       " Document(metadata={'source': 'https://news.naver.com/section/101'}, page_content='첫 기자간담회…\"계란·라면·콩나물가격 등 매일 직면 생활물가 안정에 최선\" 증세론엔 \"경제 어려움 속 어려워, 파이 키워야\"…3차 추경론엔 \"재정상황도 봐야\" 정책팀 = 구윤철 경제부총리 겸 기획재정부 장관 후보자는\\n\\n\\n연합뉴스\\n\\n3시간전'),\n",
       " Document(metadata={'source': 'https://news.naver.com/section/101'}, page_content='연합뉴스\\n\\n3시간전\\n\\n\\n\\n\\n\\n\\n\\n\\n코스피 상승 26년 만에 최고… 하반기 ‘진짜 시험대’ 오른다'),\n",
       " Document(metadata={'source': 'https://news.naver.com/section/101'}, page_content='‘코리아 디스카운트’ 기저효과에 새 정부 출범 ‘허니문 랠리’ 지속 증권·금융주 탄력, 방산 등 급등 단기과열종목 한 달 새 2배 늘어 차익 실현… 선별적 강세 가능성 일각 “과열 종목 거품 빠질 수도” 코스피가 2\\n\\n\\n서울신문\\n\\n3시간전'),\n",
       " Document(metadata={'source': 'https://news.naver.com/section/101'}, page_content='서울신문\\n\\n3시간전\\n\\n\\n\\n\\n\\n\\n\\n\\n‘주담대 6억’ 영끌해도… 현금 8.6억 있어야 서울 아파트 산다'),\n",
       " Document(metadata={'source': 'https://news.naver.com/section/101'}, page_content='‘노도강’ 등 7개區 뺀 18개區 영향권 신생아특례 등 정책 대출 한도 줄어 강남3구·한강벨트 거래 뚝 ‘관망세’ 10억 안팎 중저가 위주 매수세 늘 듯 정부가 지난 28일부터 수도권에 대해 6억원 이상 주택담보대출\\n\\n\\n서울신문\\n\\n3시간전'),\n",
       " Document(metadata={'source': 'https://news.naver.com/section/101'}, page_content='서울신문\\n\\n3시간전\\n\\n\\n\\n\\n\\n\\n\\n\\n‘서울 불장’ 대출 규제, 지방 또 유탄 맞을라 ‘한숨’'),\n",
       " Document(metadata={'source': 'https://news.naver.com/section/101'}, page_content='지난 27일 정부가 발표한 고강도 부동산 대책으로 부산을 비롯한 지방 광역시의 부동산 시장도 당분간 크게 위축될 것으로 우려된다. 수도권에 국한된 초강력 대출 규제 카드지만 ‘집값을 잡겠다’는 정부의 시그널이 명확히\\n\\n\\n부산일보\\n\\n3시간전'),\n",
       " Document(metadata={'source': 'https://news.naver.com/section/101'}, page_content='부산일보\\n\\n3시간전\\n\\n\\n\\n\\n\\n\\n\\n\\n[단독] “전세 끼고 샀는데 어쩌죠”...갭투자 집주인들 초비상, 6억원 대출규제에 곤혹'),\n",
       " Document(metadata={'source': 'https://news.naver.com/section/101'}, page_content='주담대 한도 6억원으로 제한 전세금반환대출도 규제하면 갭투자 후 실거주할 때 곤란 수도권과 규제지역에서 지난 28일부터 주택담보대출이 6억원으로 제한되면서 전세를 끼고 주택을 구매(갭투자)했던 집주인들에게 비상이 걸\\n\\n\\n매일경제\\n\\n3시간전'),\n",
       " Document(metadata={'source': 'https://news.naver.com/section/101'}, page_content='매일경제\\n\\n3시간전\\n\\n\\n\\n\\n\\n\\n\\n\\n초강력 대출 규제에 서울 부동산 ‘패닉’…“급등 지역 조정 있을 듯”'),\n",
       " Document(metadata={'source': 'https://news.naver.com/section/101'}, page_content='전격 시행된 정부의 ‘가계부채 관리 강화 방안’에 따라 29일 서울 부동산 시장은 충격에 빠진 모습이다. 시장에선 이번 대책의 파급 효과, 후속 대책 여부 등을 지켜보기 위해 당분간 매도·매수자들이 관망하면서 매매거\\n\\n\\n한겨레\\n\\n3시간전'),\n",
       " Document(metadata={'source': 'https://news.naver.com/section/101'}, page_content=\"한겨레\\n\\n3시간전\\n\\n\\n\\n\\n\\n\\n\\n\\n공백 두달만의 기재부 장관 지명…경제정책방향, 세제개편 등 '속도전' 나설 듯\"),\n",
       " Document(metadata={'source': 'https://news.naver.com/section/101'}, page_content='이재명 대통령이 29일 기획재정부 장관 후보자에 구윤철 전 국무조정실장을 지명했다. 최상목 전 부총리 겸 기재부 장관 사퇴 후 두 달여만의 후보자 내정이다. 새정부 경제정책방향 준비, 재정운용 기조전환 등에도 속도가\\n\\n\\n파이낸셜뉴스\\n\\n3시간전'),\n",
       " Document(metadata={'source': 'https://news.naver.com/section/101'}, page_content='파이낸셜뉴스\\n\\n3시간전\\n\\n\\n\\n\\n\\n\\n\\n\\n\"전용59㎡도 실탄 10억 있어야\" 현금부자만 강남 청약 받는다'),\n",
       " Document(metadata={'source': 'https://news.naver.com/section/101'}, page_content='오랜 기간 청약을 기다려왔던 무주택자들이 정부의 초강력 대출 규제에 발목이 잡히게 됐습니다. 잔금대출 역시 6억 원까지만 가능하게 해 준비해야 할 돈이 늘어난 건데, 현금부자들만 웃게 하는 건 아닌지 우려의 목소리가\\n\\n\\nMBN\\n\\n3시간전'),\n",
       " Document(metadata={'source': 'https://news.naver.com/section/101'}, page_content='MBN\\n\\n3시간전\\n\\n\\n\\n\\n\\n\\n\\n\\n비대면 대출 막혔다...초강력 규제에 실수요자 ‘발동동’'),\n",
       " Document(metadata={'source': 'https://news.naver.com/section/101'}, page_content='당장 대출 수요가 있던 실수요자들이 주말 사이에 혼란을 겪었다. 금융당국이 고강도 가계대출 관리 방안을 발표한 직후 은행권 등이 주택담보대출(주담대), 신용대출 등 비대면 신청을 일제히 중단했다. 주담대 한도를 6억\\n\\n\\n디지털타임스\\n\\n3시간전'),\n",
       " Document(metadata={'source': 'https://news.naver.com/section/101'}, page_content='디지털타임스\\n\\n3시간전\\n\\n\\n\\n\\n\\n\\n\\n\\n신생아 특례 ‘연소득 2억’ 상한선은 손 안 대고…정책대출 한도 20% 일괄 축소'),\n",
       " Document(metadata={'source': 'https://news.naver.com/section/101'}, page_content='서울 아파트값 급등에 대응해 정부가 대대적인 대출 조이기에 나선 가운데 정책대출 한도도 크게 줄어들 전망이다. 윤석열 정부 당시 정책대출 수혜 대상을 크게 확대하면서 집값 상승의 불씨를 댕겼다는 평가를 받았는데, 다\\n\\n\\n한겨레\\n\\n3시간전'),\n",
       " Document(metadata={'source': 'https://news.naver.com/section/101'}, page_content='한겨레\\n\\n3시간전\\n\\n\\n\\n\\n\\n\\n\\n\\n7월부터 오르는 국민연금 보험료…월 최대 1만8000원 인상'),\n",
       " Document(metadata={'source': 'https://news.naver.com/section/101'}, page_content=\"내달부터 국민연금 보험료 부과 기준인 '기준소득월액'의 상·하한이 조정되면서, 일부 가입자의 월 보험료가 최대 1만8000원 오를 예정이다. 직장인은 회사와 보험료를 반씩 내기 때문에 본인 부담은 최대 9000원 늘\\n\\n\\n디지털타임스\\n\\n3시간전\"),\n",
       " Document(metadata={'source': 'https://news.naver.com/section/101'}, page_content='디지털타임스\\n\\n3시간전\\n\\n\\n\\n\\n\\n\\n\\n\\n경제부총리 지명됐지만…기재부, 새경방·내년 예산안 속도 내나'),\n",
       " Document(metadata={'source': 'https://news.naver.com/section/101'}, page_content='이재명 정부의 초대 경제부총리 겸 기획재정부 장관 후보자로 구윤철 전 국무조정실장이 지명되면서 새정부 경제정책방향 등 기재부 현안들도 속도를 낼지 주목된다. 지금까지 경제 사령탑의 공석 사태가 두 달 가까이 이어지면\\n\\n\\n디지털타임스'),\n",
       " Document(metadata={'source': 'https://news.naver.com/section/101'}, page_content='디지털타임스\\n\\n3시간전\\n\\n\\n\\n\\n\\n\\n\\n\\n구윤철 기재부 장관 후보자 \"주식회사 대한민국 초혁신 경제로\"'),\n",
       " Document(metadata={'source': 'https://news.naver.com/section/101'}, page_content='이재명 대통령이 새 정부 초대 경제사령탑으로 지명한 구윤철 부총리 겸 기획재정부 장관이 29일 서울 예금보험공사에서 기자간담회를 열고 재정의 적극적 역할을 강조했다. 그는 모두발언에서 \"경제 운영에 있어서 국민이 주\\n\\n\\n한국일보\\n\\n3시간전'),\n",
       " Document(metadata={'source': 'https://news.naver.com/section/101'}, page_content='한국일보\\n\\n3시간전\\n\\n\\n\\n\\n\\n\\n\\n\\nAI 시장은 터지는데…찾는 이 없는 차세대 메모리'),\n",
       " Document(metadata={'source': 'https://news.naver.com/section/101'}, page_content='인공지능(AI) 반도체 수요가 폭발적으로 늘고 있는 가운데, HBM(고대역폭메모리)와 함께 차세대 메모리반도체 기술로 평가 받는 CXL(컴퓨트 익스프레스 링크)과 PIM(프로세싱 인 메모리)의 성과가 3~4년째 나오\\n\\n\\n디지털타임스\\n\\n3시간전'),\n",
       " Document(metadata={'source': 'https://news.naver.com/section/101'}, page_content='디지털타임스\\n\\n3시간전\\n\\n\\n\\n\\n\\n\\n\\n\\n오유경 식약처장 \\'유임\\'…\"막중한 책임감\"'),\n",
       " Document(metadata={'source': 'https://news.naver.com/section/101'}, page_content='오유경 식약처장 \\'유임\\'…\"막중한 책임감\"\\n\\n오유경 식품의약품안전처장은 29일 대통령실의 유임 발표에 대해 \"국민 생활 속의 안전을 담당하는 부처로서 긴장감을 늦추지 않고 국민 식의약안전을 위해 최선을 다해 나가겠다\"고 밝혔습니다. 오 처장은 \"유임에 대해 막'),\n",
       " Document(metadata={'source': 'https://news.naver.com/section/101'}, page_content='SBS Biz\\n\\n3시간전\\n\\n\\n\\n\\n\\n\\n\\n\\n구윤철 \"\\'진짜 성장\\' 경제대혁신 추진…주식회사 대한민국 건설\"(종합)'),\n",
       " Document(metadata={'source': 'https://news.naver.com/section/101'}, page_content=\"이재명 정부 초대 부총리 겸 기획재정부 장관 후보자로 지명된 구윤철 후보자는 29일 진짜성장을 위한 경제대혁신을 추진하기 위해 '주식회사 대한민국'을 만들어가야 한다고 강조했다. 구 후보자는 이날 부총리 후보 지명 \\n\\n\\n뉴스1\\n\\n3시간전\"),\n",
       " Document(metadata={'source': 'https://news.naver.com/section/101'}, page_content='뉴스1\\n\\n3시간전\\n\\n\\n\\n\\n\\n\\n\\n\\n[가상자산 나침반] 중동 휴전에 비트코인 가격 회복…다시 ‘파월의 입’ 주목'),\n",
       " Document(metadata={'source': 'https://news.naver.com/section/101'}, page_content='중동의 분쟁이 일단락되면서 급락했던 비트코인 가격도 이전 수준을 모두 회복했다. 가상자산의 제도권 수용 속도가 빨라지며 기대감이 높아지고 있는 가운데 미국의 경제 지표와 제롬 파월 연방준비제도(연준·Fed) 의장의 \\n\\n\\n디지털타임스\\n\\n3시간전'),\n",
       " Document(metadata={'source': 'https://news.naver.com/section/101'}, page_content='디지털타임스\\n\\n3시간전\\n\\n\\n\\n\\n\\n\\n\\n\\n‘대출 6억원 한도’에 매수 문의 뚝…“규제 ‘약발’ 1~3개월은 갈 것”'),\n",
       " Document(metadata={'source': 'https://news.naver.com/section/101'}, page_content='지난 28일부터 정부의 가계부채 관리방안에 따라 주택담보대출 규제가 시행되면서 최근 매매가격이 급등하던 서울 마포·성동구 등의 아파트 거래가 주춤하는 분위기다. 강력한 대출 규제로 급한 불 끄기에 나선 정부는 시장 \\n\\n\\n경향신문\\n\\n4시간전'),\n",
       " Document(metadata={'source': 'https://news.naver.com/section/101'}, page_content='경향신문\\n\\n4시간전\\n\\n\\n\\n\\n\\n\\n\\n\\n담배 끊어도 낸 보험료는 일부만 돌려준다 [임성원의 속편한 보험]'),\n",
       " Document(metadata={'source': 'https://news.naver.com/section/101'}, page_content='18년 전 지인의 권유로 유니버설 종신보험에 가입한 이 씨는 건강검진에서 금연에 따른 건강(우량)체 판정을 받았다. 이 씨는 가입한 상품 관련 보상을 보험사에 신청했다가 당황했다. 납입할 보험료는 월 1500원가량 \\n\\n\\n디지털타임스\\n\\n4시간전'),\n",
       " Document(metadata={'source': 'https://news.naver.com/section/101'}, page_content='디지털타임스\\n\\n4시간전\\n\\n\\n\\n\\n\\n\\n\\n\\n[코스피5000, 꿈인가 현실인가] “도달 ‘시점’보다 ‘조건’ 중요… 기업실적 동반돼야”'),\n",
       " Document(metadata={'source': 'https://news.naver.com/section/101'}, page_content='코스피가 3000포인트를 달성한 뒤 조정에 들어갔다. 하지만 최근 한 달간 전 세계 증시를 압도하는 상승률을 기록하며 투자자들의 눈높이도 높아졌다. 지금 코스피 상승을 이끄는 것은 이재명 정부의 상법 개정 등을 통한\\n\\n\\n디지털타임스\\n\\n4시간전'),\n",
       " Document(metadata={'source': 'https://news.naver.com/section/101'}, page_content='디지털타임스\\n\\n4시간전\\n\\n\\n\\n\\n\\n\\n\\n\\n한은 CBDC 사업 잠정 중단…스테이블코인 기세 탓?'),\n",
       " Document(metadata={'source': 'https://news.naver.com/section/101'}, page_content='한국은행 주도로 추진되고 있는 중앙은행 디지털화폐(CBDC) 사업이 2차 테스트를 앞두고 잠정 중단됐다. 시범 사업에 참여한 은행들의 불만이 커지고, 민간 주도로 원화 기반 스테이블코인 도입 논의가 활발해지고 있는 \\n\\n\\n디지털타임스\\n\\n4시간전'),\n",
       " Document(metadata={'source': 'https://news.naver.com/section/101'}, page_content=\"디지털타임스\\n\\n4시간전\\n\\n\\n\\n\\n\\n\\n\\n\\n취임 7주년 맞은 구광모 회장…LG, 글로벌 위기 속 생존 전략 마련 '분주'\"),\n",
       " Document(metadata={'source': 'https://news.naver.com/section/101'}, page_content='미국 관세 정책과 중동 지역 분쟁 격화 등 대외 불확실성이 커지는 가운데 구광모 LG그룹 회장이 예년보다 무거운 분위기 속에서 취임 7주년을 맞았다. 40세의 나이에 국내 4대 그룹 총수에 오른 구 회장은 취임 초부\\n\\n\\n블로터\\n\\n4시간전'),\n",
       " Document(metadata={'source': 'https://news.naver.com/section/101'}, page_content='블로터\\n\\n4시간전\\n\\n\\n\\n\\n\\n\\n\\n\\n10억 미만 아파트 문의 쇄도…강남 3구 문의 ‘뚝’'),\n",
       " Document(metadata={'source': 'https://news.naver.com/section/101'}, page_content='주택담보대출 한도를 최대 6억 원으로 제한하는 초고강도 대출 규제 여파가 부동산 시장에 서서히 반영되고 있습니다. 직격탄을 맞은 강남권 아파트는 벌써부터 매수 문의가 뚝 끊기고, 호가도 꺾이면서 거래가 위축되는 모습\\n\\n\\n채널A\\n\\n4시간전')]"
      ]
     },
     "execution_count": 5,
     "metadata": {},
     "output_type": "execute_result"
    }
   ],
   "source": [
    "# Split\n",
    "# text_splitter = RecursiveCharacterTextSplitter(chunk_size=300, chunk_overlap=20)\n",
    "# splits = text_splitter.split_documents(docs)\n",
    "\n",
    "#이점: from_tiktoken_encoder 메서드는 텍스트를 분할할 때 tiktoken 인코더를 사용하여 텍스트를 토큰으로 변환한 다음 분할합니다. 이 방법은 특히 OpenAI 모델과 같은 토큰 기반 언어 모델에서 텍스트를 처리할 때 유용합니다. \n",
    "# 토큰 단위로 정확한 분할을 가능하게 하므로, 텍스트가 모델의 입력 토큰 제한에 맞도록 더 정밀하게 분할할 수 있습니다.\n",
    "# 적용 상황: 이 방법은 모델이 토큰 수를 기준으로 텍스트를 처리해야 할 때(예: GPT 모델) 유리합니다. 특히 텍스트가 다양한 언어를 포함하거나 복잡한 구문을 가질 때 유용합니다.\n",
    "\n",
    "# Split\n",
    "text_splitter = RecursiveCharacterTextSplitter.from_tiktoken_encoder(\n",
    "    chunk_size=300, \n",
    "    chunk_overlap=50)\n",
    "splits = text_splitter.split_documents(docs)\n",
    "splits"
   ]
  },
  {
   "cell_type": "code",
   "execution_count": 6,
   "id": "bd7f4469-002f-41aa-9658-8f9572251db7",
   "metadata": {},
   "outputs": [],
   "source": [
    "# Embed\n",
    "vectorstore = Chroma.from_documents(documents=splits, \n",
    "                                    embedding=OpenAIEmbeddings())"
   ]
  },
  {
   "cell_type": "code",
   "execution_count": 7,
   "id": "85d2c637-25b9-40b5-ae55-7a6c58d71e34",
   "metadata": {},
   "outputs": [],
   "source": [
    "# retriever = vectorstore.as_retriever(search_kwargs={\"k\": 1})\n",
    "\n",
    "# MMR 알고리즘이 고려할 문서 수를 더 많이 가져옵니다.\n",
    "# 그러나 최종적으로 상위 1개 문서만 반환합니다\n",
    "retriever = vectorstore.as_retriever(\n",
    "    search_type=\"mmr\", # MMR 알고리즘을 사용하여 검색\n",
    "    search_kwargs={'k':1,'fetch_k':4} # 상위 1개의 문서를 반환하지만, 고려할 문서는 4개로 설정\n",
    ")"
   ]
  },
  {
   "cell_type": "code",
   "execution_count": 8,
   "id": "f152a8bf-b49b-4a8e-ae88-a8f96432e387",
   "metadata": {},
   "outputs": [],
   "source": [
    "# Prompt\n",
    "prompt = hub.pull(\"sungwoo/ragbasic\")"
   ]
  },
  {
   "cell_type": "code",
   "execution_count": 9,
   "id": "bdfd9c97-a0c5-4d56-8119-f5d9919eaf0d",
   "metadata": {},
   "outputs": [
    {
     "data": {
      "text/plain": [
       "'국채에 대한 구체적인 정보는 제공되지 않았습니다. 현재 검색 결과는 가계부채 관리 강화 방안과 관련된 내용입니다. 국채에 대한 추가 정보가 필요하다면 다른 출처를 참고하시기 바랍니다.'"
      ]
     },
     "execution_count": 9,
     "metadata": {},
     "output_type": "execute_result"
    }
   ],
   "source": [
    "# LLM\n",
    "llm = ChatOpenAI(model_name=\"gpt-4o-mini\", temperature=0)\n",
    "\n",
    "# Post-processing\n",
    "def format_docs(docs):\n",
    "    formatted = \"\\n\\n\".join(doc.page_content for doc in docs)\n",
    "    return formatted\n",
    "\n",
    "# Chain\n",
    "rag_chain = (\n",
    "    {\"context\": retriever | format_docs, \"question\": RunnablePassthrough()}\n",
    "    | prompt\n",
    "    | llm\n",
    "    | StrOutputParser()\n",
    ")\n",
    "\n",
    "# Question\n",
    "rag_chain.invoke(\"국채 관련한 정보를 알려줘\")\n"
   ]
  },
  {
   "cell_type": "code",
   "execution_count": 13,
   "id": "42526fc2-d9cb-4443-b7fe-a679fc754986",
   "metadata": {},
   "outputs": [
    {
     "data": {
      "text/plain": [
       "[Document(metadata={'source': 'https://news.naver.com/section/101'}, page_content='전격 시행된 정부의 ‘가계부채 관리 강화 방안’에 따라 29일 서울 부동산 시장은 충격에 빠진 모습이다. 시장에선 이번 대책의 파급 효과, 후속 대책 여부 등을 지켜보기 위해 당분간 매도·매수자들이 관망하면서 매매거\\n\\n\\n한겨레\\n\\n3시간전')]"
      ]
     },
     "execution_count": 13,
     "metadata": {},
     "output_type": "execute_result"
    }
   ],
   "source": [
    "docs =retriever.invoke(\"국채 관련한 정보를 알려줘\")\n",
    "docs"
   ]
  },
  {
   "cell_type": "code",
   "execution_count": 60,
   "id": "1ab1b3b3-298e-4aca-b9c5-dc1458dcfbec",
   "metadata": {},
   "outputs": [],
   "source": [
    "# # 문서 검색 시 더 높은 다양성을 가진 문서를 더 많이 검색합니다.\n",
    "# # 데이터셋에 유사한 문서가 많을 경우 유용합니다.\n",
    "# docsearch.as_retriever(\n",
    "#     search_type=\"mmr\",  # MMR(Maximal Marginal Relevance) 알고리즘을 사용하여 검색\n",
    "#     search_kwargs={'k': 6, 'lambda_mult': 0.25}  # 상위 6개의 문서를 검색하고 다양성을 높이기 위해 lambda 값을 0.25로 설정\n",
    "# )\n",
    "\n",
    "# # MMR 알고리즘이 고려할 문서 수를 더 많이 가져옵니다.\n",
    "# # 그러나 최종적으로 상위 5개 문서만 반환합니다.\n",
    "# docsearch.as_retriever(\n",
    "#     search_type=\"mmr\",  # MMR 알고리즘을 사용하여 검색\n",
    "#     search_kwargs={'k': 5, 'fetch_k': 50}  # 상위 5개의 문서를 반환하지만, 고려할 문서는 50개로 설정\n",
    "# )\n",
    "\n",
    "# # 특정 임계값 이상의 유사도 점수를 가진 문서만 검색합니다.\n",
    "# docsearch.as_retriever(\n",
    "#     search_type=\"similarity_score_threshold\",  # 유사도 점수 기반 검색\n",
    "#     search_kwargs={'score_threshold': 0.8}  # 유사도 점수가 0.8 이상인 문서만 검색\n",
    "# )\n",
    "\n",
    "# # 데이터셋에서 가장 유사한 문서 하나만 검색합니다.\n",
    "# docsearch.as_retriever(search_kwargs={'k': 1})"
   ]
  },
  {
   "cell_type": "markdown",
   "id": "6d97967b-990b-48b5-a3f7-2c5047f88c07",
   "metadata": {},
   "source": [
    "### multiquery + unique-union"
   ]
  },
  {
   "cell_type": "markdown",
   "id": "f7d04548-2028-4203-b353-c830901cd815",
   "metadata": {},
   "source": [
    "# Multi Query\n",
    "![Example Image](./advancedRagFlow.png)"
   ]
  },
  {
   "cell_type": "code",
   "execution_count": 14,
   "id": "843ddc86-0d1c-46d1-b98d-f5d7cc8e61e2",
   "metadata": {},
   "outputs": [],
   "source": [
    "import bs4\n",
    "from langchain import hub\n",
    "from langchain.text_splitter import RecursiveCharacterTextSplitter\n",
    "from langchain_community.document_loaders import WebBaseLoader\n",
    "from langchain_community.vectorstores import Chroma\n",
    "from langchain_core.output_parsers import StrOutputParser\n",
    "from langchain_core.runnables import RunnablePassthrough\n",
    "from langchain_openai import ChatOpenAI, OpenAIEmbeddings\n",
    "\n",
    "#### INDEXING ####\n",
    "\n",
    "loader = WebBaseLoader(\n",
    "    web_paths=(\"https://news.naver.com/section/101\",),\n",
    "    bs_kwargs=dict(\n",
    "        parse_only=bs4.SoupStrainer(\n",
    "            class_=(\"sa_text\", \"sa_item_SECTION_HEADLINE\")\n",
    "        )\n",
    "    ),\n",
    ")\n",
    "docs = loader.load()\n",
    "\n",
    "\n",
    "# Split\n",
    "from langchain.text_splitter import RecursiveCharacterTextSplitter\n",
    "text_splitter = RecursiveCharacterTextSplitter.from_tiktoken_encoder(\n",
    "    chunk_size=300, \n",
    "    chunk_overlap=50)\n",
    "\n",
    "# Make splits\n",
    "splits = text_splitter.split_documents(docs)\n"
   ]
  },
  {
   "cell_type": "code",
   "execution_count": 15,
   "id": "666b4caf-67b0-4ff2-be58-d69e8100ecff",
   "metadata": {},
   "outputs": [],
   "source": [
    "# Index\n",
    "from langchain_openai import OpenAIEmbeddings\n",
    "from langchain_community.vectorstores import Chroma\n",
    "vectorstore = Chroma.from_documents(documents=splits, \n",
    "                                    embedding=OpenAIEmbeddings())\n",
    "\n",
    "retriever = vectorstore.as_retriever()"
   ]
  },
  {
   "cell_type": "code",
   "execution_count": 16,
   "id": "7583a7a5-a19a-4616-a69b-6ea5aaa33bc9",
   "metadata": {},
   "outputs": [
    {
     "data": {
      "text/plain": [
       "['집값의 미래 전망은 어떻게 될까요?  ',\n",
       " '현재 집값의 추세와 앞으로의 변화는 어떤 영향을 받을까요?  ',\n",
       " '부동산 시장에서 집값이 오를지 내릴지에 대한 예측은 무엇인가요?  ',\n",
       " '향후 몇 년간 집값의 변동성에 대해 어떤 의견이 있나요?  ',\n",
       " '집값 상승 또는 하락의 주요 요인은 무엇이라고 생각하시나요?  ']"
      ]
     },
     "execution_count": 16,
     "metadata": {},
     "output_type": "execute_result"
    }
   ],
   "source": [
    "from langchain.prompts import ChatPromptTemplate\n",
    "\n",
    "# Multi Query: Different Perspectives\n",
    "# template = \"\"\"You are an AI language model assistant. Your task is to generate five \n",
    "# different versions of the given user question to retrieve relevant documents from a vector \n",
    "# database. By generating multiple perspectives on the user question, your goal is to help\n",
    "# the user overcome some of the limitations of the distance-based similarity search. \n",
    "# Provide these alternative questions separated by newlines. Original question: {question}\"\"\"\n",
    "# prompt_perspectives = ChatPromptTemplate.from_template(template)\n",
    "\n",
    "template = \"\"\"\n",
    "당신은 AI 언어 모델 조수입니다. 당신의 임무는 주어진 사용자 질문에 대해 벡터 데이터베이스에서 관련 문서를 검색할 수 있도록 다섯 가지 다른 버전을 생성하는 것입니다. \n",
    "사용자 질문에 대한 여러 관점을 생성함으로써, 거리 기반 유사성 검색의 한계를 극복하는 데 도움을 주는 것이 목표입니다. \n",
    "각 질문은 새 줄로 구분하여 제공하세요. 원본 질문: {question}\n",
    "\"\"\"\n",
    "prompt_perspectives = ChatPromptTemplate.from_template(template)\n",
    "\n",
    "\n",
    "from langchain_core.output_parsers import StrOutputParser\n",
    "from langchain_openai import ChatOpenAI\n",
    "\n",
    "generate_queries = (\n",
    "    prompt_perspectives \n",
    "    | ChatOpenAI(model_name=\"gpt-4o-mini\",temperature=0) \n",
    "    | StrOutputParser() \n",
    "    | (lambda x: x.split(\"\\n\"))\n",
    ")\n",
    "\n",
    "generated_query = generate_queries.invoke(\"집값의 향방?\")\n",
    "generated_query"
   ]
  },
  {
   "cell_type": "code",
   "execution_count": 17,
   "id": "be53e8da-ee84-4c76-859c-8cff1135cfc4",
   "metadata": {},
   "outputs": [],
   "source": [
    "from langchain.load import dumps, loads\n",
    "\n",
    "def get_unique_union(documents: list[list]):\n",
    "    \"\"\" 고유한 문서들의 합집합을 생성하는 함수입니다. \"\"\"\n",
    "    \n",
    "    # 리스트의 리스트를 평탄화하고, 각 문서를 문자열로 직렬화합니다.\n",
    "    flattened_docs = [dumps(doc) for sublist in documents for doc in sublist]\n",
    "    \n",
    "    # 중복된 문서를 제거하고 고유한 문서만 남깁니다.\n",
    "    unique_docs = list(set(flattened_docs))\n",
    "    \n",
    "    # 고유한 문서를 원래의 문서 객체로 변환하여 반환합니다.\n",
    "    return [loads(doc) for doc in unique_docs]"
   ]
  },
  {
   "cell_type": "code",
   "execution_count": 18,
   "id": "b26ac402-a7ff-415b-bad9-6b2fe06fcb8d",
   "metadata": {},
   "outputs": [],
   "source": [
    "# 사용자 질문 정의\n",
    "question = \"집값의 향방?\""
   ]
  },
  {
   "cell_type": "code",
   "execution_count": 19,
   "id": "df74cd60-251b-40ef-a072-080a0cf7bf45",
   "metadata": {},
   "outputs": [],
   "source": [
    "# 문서 검색 체인을 구성합니다.\n",
    "# generate_queries: 주어진 질문에 대해 검색 쿼리를 생성합니다.\n",
    "# retriever.map(): 생성된 쿼리를 바탕으로 관련 문서를 검색합니다.\n",
    "# get_unique_union: 검색된 문서에서 중복을 제거하고 고유한 문서들을 반환합니다.\n",
    "retrieval_chain = generate_queries | retriever.map() | get_unique_union\n"
   ]
  },
  {
   "cell_type": "code",
   "execution_count": 20,
   "id": "934bebde-0c80-497d-b86d-0814624e4eac",
   "metadata": {},
   "outputs": [],
   "source": [
    "# 체인을 실행하여 질문에 대한 관련 문서를 검색하고 고유한 문서를 반환합니다.\n",
    "docs = retrieval_chain.invoke({\"question\": question})\n"
   ]
  },
  {
   "cell_type": "code",
   "execution_count": 21,
   "id": "e0a14864-94a8-43a4-8e70-eb786fda37c7",
   "metadata": {},
   "outputs": [
    {
     "data": {
      "text/plain": [
       "[Document(metadata={'source': 'https://news.naver.com/section/101'}, page_content='서울 아파트값 급등에 대응해 정부가 대대적인 대출 조이기에 나선 가운데 정책대출 한도도 크게 줄어들 전망이다. 윤석열 정부 당시 정책대출 수혜 대상을 크게 확대하면서 집값 상승의 불씨를 댕겼다는 평가를 받았는데, 다\\n\\n\\n한겨레\\n\\n3시간전'),\n",
       " Document(metadata={'source': 'https://news.naver.com/section/101'}, page_content='지난 28일부터 정부의 가계부채 관리방안에 따라 주택담보대출 규제가 시행되면서 최근 매매가격이 급등하던 서울 마포·성동구 등의 아파트 거래가 주춤하는 분위기다. 강력한 대출 규제로 급한 불 끄기에 나선 정부는 시장 \\n\\n\\n경향신문\\n\\n4시간전'),\n",
       " Document(metadata={'source': 'https://news.naver.com/section/101'}, page_content='전격 시행된 정부의 ‘가계부채 관리 강화 방안’에 따라 29일 서울 부동산 시장은 충격에 빠진 모습이다. 시장에선 이번 대책의 파급 효과, 후속 대책 여부 등을 지켜보기 위해 당분간 매도·매수자들이 관망하면서 매매거\\n\\n\\n한겨레\\n\\n3시간전')]"
      ]
     },
     "execution_count": 21,
     "metadata": {},
     "output_type": "execute_result"
    }
   ],
   "source": [
    "# 검색된 고유 문서들의 개수를 출력합니다.\n",
    "len(docs)\n",
    "\n",
    "# 검색된 고유 문서들을 출력합니다.\n",
    "docs"
   ]
  },
  {
   "cell_type": "code",
   "execution_count": 22,
   "id": "be5ce95c-7aaa-49ca-8633-520176180324",
   "metadata": {},
   "outputs": [
    {
     "data": {
      "text/plain": [
       "'현재 서울 아파트값은 급등세를 보이고 있으며, 정부는 이에 대응하기 위해 대출 규제를 강화하고 있습니다. 정책대출 한도가 줄어들 것으로 예상되며, 이는 집값 상승의 원인으로 지적된 바 있습니다. 또한, 정부의 고강도 부동산 대책이 발표되면서 부산을 포함한 지방 광역시의 부동산 시장도 위축될 것으로 우려되고 있습니다. 이러한 대출 규제와 정부의 강력한 시그널은 시장에 큰 영향을 미치고 있으며, 매도·매수자들이 관망하는 상황이 이어지고 있습니다. 따라서 집값의 향방은 정부의 정책과 시장 반응에 따라 변동성이 클 것으로 보입니다.'"
      ]
     },
     "execution_count": 22,
     "metadata": {},
     "output_type": "execute_result"
    }
   ],
   "source": [
    "from langchain_openai import ChatOpenAI\n",
    "from langchain_core.runnables import RunnablePassthrough\n",
    "\n",
    "# RAG\n",
    "template = \"\"\"다음 맥락을 바탕으로 질문에 답변하세요:\n",
    "\n",
    "{context}\n",
    "\n",
    "질문: {question}\n",
    "\"\"\"\n",
    "\n",
    "prompt = ChatPromptTemplate.from_template(template)\n",
    "\n",
    "llm = ChatOpenAI(model_name=\"gpt-4o-mini\", temperature=0)\n",
    "\n",
    "final_rag_chain = (\n",
    "    {\"context\": retrieval_chain, \n",
    "     \"question\": RunnablePassthrough()} \n",
    "    | prompt\n",
    "    | llm\n",
    "    | StrOutputParser()\n",
    ")\n",
    "\n",
    "final_rag_chain.invoke(question)"
   ]
  },
  {
   "cell_type": "code",
   "execution_count": null,
   "id": "751a00e7-64ab-4652-bdcd-148098372219",
   "metadata": {},
   "outputs": [],
   "source": []
  },
  {
   "cell_type": "code",
   "execution_count": null,
   "id": "06cbf900-9252-428b-bb3a-55004432e1d3",
   "metadata": {},
   "outputs": [],
   "source": []
  },
  {
   "cell_type": "code",
   "execution_count": null,
   "id": "1416529b-4222-47a7-a49c-0081f1bc6ade",
   "metadata": {},
   "outputs": [],
   "source": []
  }
 ],
 "metadata": {
  "kernelspec": {
   "display_name": "Python 3 (ipykernel)",
   "language": "python",
   "name": "python3"
  },
  "language_info": {
   "codemirror_mode": {
    "name": "ipython",
    "version": 3
   },
   "file_extension": ".py",
   "mimetype": "text/x-python",
   "name": "python",
   "nbconvert_exporter": "python",
   "pygments_lexer": "ipython3",
   "version": "3.12.9"
  }
 },
 "nbformat": 4,
 "nbformat_minor": 5
}
