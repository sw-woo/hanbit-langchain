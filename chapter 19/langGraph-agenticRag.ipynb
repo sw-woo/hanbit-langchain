{
 "cells": [
  {
   "cell_type": "markdown",
   "id": "ad19f823-c823-40d3-a1f6-08cebd9e5254",
   "metadata": {},
   "source": [
    "### gpt사용을 위한 openAi API key 셋팅"
   ]
  },
  {
   "cell_type": "code",
   "execution_count": 1,
   "id": "9de1fb1c-543b-48f5-aa02-0c2c17a677f7",
   "metadata": {},
   "outputs": [],
   "source": [
    "import os\n",
    "from dotenv import load_dotenv\n",
    "\n",
    "# .env 파일에서 환경 변수를 로드합니다.\n",
    "load_dotenv()\n",
    "\n",
    "# 환경 변수에서 OpenAI API 키를 가져옵니다.\n",
    "openai_api_key = os.getenv(\"OPENAI_API_KEY\")\n",
    "os.environ[\"OPENAI_API_KEY\"] = openai_api_key\n",
    "\n",
    "# API 키가 존재하지 않는 경우 에러를 발생시킵니다.\n",
    "if not openai_api_key:\n",
    "    # API 키가 없다는 에러 메시지를 출력하고 프로그램을 종료합니다.\n",
    "    raise ValueError(\"OpenAI API 키가 없습니다. 한 번 더 확인 부탁드립니다.\")"
   ]
  },
  {
   "cell_type": "markdown",
   "id": "98ee9886-3b2e-4a7d-8610-3f0b3b7a9b70",
   "metadata": {},
   "source": [
    "### 검색 엔진\n",
    "처음으로, 우리는 3개의 네이버, 야후, 다음 금융 웹 페이지에서 문서를 로드하고, 이를 벡터 스토어에 저장합니다."
   ]
  },
  {
   "cell_type": "code",
   "execution_count": 2,
   "id": "f7b72d49-1a5d-43e2-9b33-1d1ab8476e0a",
   "metadata": {},
   "outputs": [
    {
     "name": "stderr",
     "output_type": "stream",
     "text": [
      "USER_AGENT environment variable not set, consider setting it to identify your requests.\n"
     ]
    }
   ],
   "source": [
    "from langchain_community.document_loaders import WebBaseLoader\n",
    "from langchain_community.vectorstores import Chroma\n",
    "from langchain_openai import OpenAIEmbeddings\n",
    "from langchain_text_splitters import RecursiveCharacterTextSplitter\n",
    "\n",
    "# 크롤링할 웹 페이지 URL 목록\n",
    "urls = [\n",
    "    \"https://finance.naver.com/\",\n",
    "    \"https://finance.yahoo.com/\",\n",
    "    \"https://finance.daum.net/\",\n",
    "]\n",
    "\n",
    "# 각 URL에서 문서 로드\n",
    "docs = [WebBaseLoader(url).load() for url in urls]\n",
    "docs_list = [item for sublist in docs for item in sublist]\n",
    "\n",
    "# 문서 분할 설정\n",
    "text_splitter = RecursiveCharacterTextSplitter.from_tiktoken_encoder(\n",
    "    chunk_size=100, chunk_overlap=50\n",
    ")\n",
    "doc_splits = text_splitter.split_documents(docs_list)\n",
    "\n",
    "# 벡터 스토어에 문서 추가\n",
    "vectorstore = Chroma.from_documents(\n",
    "    documents=doc_splits,\n",
    "    collection_name=\"rag-chroma\",\n",
    "    embedding=OpenAIEmbeddings(),\n",
    ")\n",
    "retriever = vectorstore.as_retriever()"
   ]
  },
  {
   "cell_type": "markdown",
   "id": "471fb8b1-8d42-4bce-be65-1cd6c33d1bd9",
   "metadata": {},
   "source": [
    "### Agent state\n",
    "\n",
    "에이전트의 상태를 정의"
   ]
  },
  {
   "cell_type": "code",
   "execution_count": 3,
   "id": "0c815a43-e828-4d1d-b9c2-aa99efddea51",
   "metadata": {},
   "outputs": [],
   "source": [
    "from typing import Annotated, Sequence, TypedDict\n",
    "\n",
    "from langchain_core.messages import BaseMessage\n",
    "\n",
    "from langgraph.graph.message import add_messages\n",
    "\n",
    "# 에이전트 상태를 나타내는 데이터 구조 정의\n",
    "class AgentState(TypedDict):\n",
    "    # add_messages 함수는 업데이트가 어떻게 처리되어야 하는지 정의합니다\n",
    "    # 기본값은 대체입니다. add_messages는 \"추가\"라고 말합니다.\n",
    "    messages: Annotated[Sequence[BaseMessage], add_messages]"
   ]
  },
  {
   "cell_type": "markdown",
   "id": "fb8d54bc-a954-4554-b9de-f41f18dc0ce4",
   "metadata": {},
   "source": [
    "## 검색 도구 생성\n",
    "벡터 스토어에서 문서를 검색하는 도구를 생성합니다."
   ]
  },
  {
   "cell_type": "code",
   "execution_count": 4,
   "id": "4adbce74-b9f2-4d06-a72e-103c3371c212",
   "metadata": {},
   "outputs": [],
   "source": [
    "\n",
    "from langchain.tools.retriever import create_retriever_tool\n",
    "\n",
    "# 검색 도구 생성\n",
    "retriever_tool = create_retriever_tool(\n",
    "    retriever,\n",
    "    \"retrieve_blog_posts\",\n",
    "    \"네이버, 야후, 다음의 금융 관련 정보를 검색하고 반환합니다.\",\n",
    ")\n",
    "\n",
    "tools = [retriever_tool]"
   ]
  },
  {
   "cell_type": "markdown",
   "id": "b12ac613-803e-4c00-b614-36490eeda757",
   "metadata": {},
   "source": [
    "### Nodes and Edges\n",
    "#### 우리는 에이전트 RAG 그래프를 다음과 같이 배치할 수 있습니다:"
   ]
  },
  {
   "cell_type": "markdown",
   "id": "72d42ed3-2048-4cb5-9389-29da812048ef",
   "metadata": {},
   "source": [
    "### Edges"
   ]
  },
  {
   "cell_type": "code",
   "execution_count": 5,
   "id": "55f7e572-6eb2-4e8c-afc7-4caa129c4f0e",
   "metadata": {},
   "outputs": [
    {
     "name": "stderr",
     "output_type": "stream",
     "text": [
      "/Users/usermackbookpro/miniconda3/envs/hanbit-langchain/lib/python3.12/site-packages/IPython/core/interactiveshell.py:3549: LangChainDeprecationWarning: As of langchain-core 0.3.0, LangChain uses pydantic v2 internally. The langchain_core.pydantic_v1 module was a compatibility shim for pydantic v1, and should no longer be used. Please update the code to import from Pydantic directly.\n",
      "\n",
      "For example, replace imports like: `from langchain_core.pydantic_v1 import BaseModel`\n",
      "with: `from pydantic import BaseModel`\n",
      "or the v1 compatibility namespace if you are working in a code base that has not been fully upgraded to pydantic 2 yet. \tfrom pydantic.v1 import BaseModel\n",
      "\n",
      "  exec(code_obj, self.user_global_ns, self.user_ns)\n"
     ]
    }
   ],
   "source": [
    "from typing import Annotated, Literal, Sequence, TypedDict\n",
    "\n",
    "from langchain import hub\n",
    "from langchain_core.messages import BaseMessage, HumanMessage\n",
    "from langchain_core.output_parsers import StrOutputParser\n",
    "from langchain_core.prompts import PromptTemplate\n",
    "from langchain_core.pydantic_v1 import BaseModel, Field\n",
    "from langchain_openai import ChatOpenAI\n",
    "from langgraph.prebuilt import tools_condition\n",
    "\n",
    "#Edges\n",
    "def grade_documents(state) -> Literal[\"generate\", \"rewrite\"]:\n",
    "    \"\"\"\n",
    "    검색된 문서가 질문과 관련이 있는지 평가합니다.\n",
    "\n",
    "    Args:\n",
    "        state (messages): 현재 상태\n",
    "\n",
    "    Returns:\n",
    "        str: 문서의 관련성에 따라 다음 노드 결정 (\"generate\" 또는 \"rewrite\")\n",
    "    \"\"\"\n",
    "\n",
    "    print(\"---문서 관련성 평가---\")\n",
    "\n",
    "    # 데이터 모델 정의\n",
    "    class grade(BaseModel):\n",
    "        \"\"\"관련성 평가를 위한 이진 점수.\"\"\"\n",
    "\n",
    "        binary_score: str = Field(description=\"관련성 점수 'yes' 또는 'no'\")\n",
    "\n",
    "    # LLM 모델 정의\n",
    "    model = ChatOpenAI(temperature=0, model=\"gpt-4o-mini\", streaming=True)\n",
    "\n",
    "    # LLM에 데이터 모델 적용\n",
    "    llm_with_tool = model.with_structured_output(grade)\n",
    "    \n",
    "    prompt = PromptTemplate(\n",
    "        template=\"\"\"당신은 사용자 질문에 대한 검색된 문서의 관련성을 평가하는 평가자입니다.\\n\n",
    "        여기 검색된 문서가 있습니다:\\n\\n{context}\\n\\n\n",
    "        여기 사용자 질문이 있습니다: {question}\\n\n",
    "        문서가 사용자 질문과 관련된 키워드 또는 의미를 포함하면 관련성이 있다고 평가하세요.\\n\n",
    "        문서가 질문과 관련이 있는지 여부를 나타내기 위해 'yes' 또는 'no'로 이진 점수를 주세요.\"\"\",\n",
    "        input_variables=[\"context\", \"question\"],\n",
    "    )\n",
    "\n",
    "    # 체인 생성\n",
    "    chain = prompt | llm_with_tool\n",
    "\n",
    "    messages = state[\"messages\"]\n",
    "    last_message = messages[-1]\n",
    "\n",
    "    question = messages[0].content\n",
    "    docs = last_message.content\n",
    "\n",
    "    scored_result = chain.invoke({\"question\": question, \"context\": docs})\n",
    "\n",
    "    score = scored_result.binary_score\n",
    "\n",
    "    if score == \"yes\":\n",
    "        print(\"---결정: 문서 관련성 있음---\")\n",
    "        return \"generate\"\n",
    "\n",
    "    else:\n",
    "        print(\"---결정: 문서 관련성 없음---\")\n",
    "        print(score)\n",
    "        return \"rewrite\""
   ]
  },
  {
   "cell_type": "markdown",
   "id": "0f71d048-ace3-4b28-a3e3-5d263d910ddf",
   "metadata": {},
   "source": [
    "### Nodes"
   ]
  },
  {
   "cell_type": "code",
   "execution_count": 6,
   "id": "2c01db3d-e6b2-4fbd-a5b5-60e24729ebb8",
   "metadata": {},
   "outputs": [],
   "source": [
    "def agent(state):\n",
    "    \"\"\"\n",
    "    현재 상태를 기반으로 에이전트 모델을 호출하여 응답을 생성합니다. \n",
    "    주어진 질문에 따라 검색 도구를 사용하여 검색을 수행하거나 단순히 종료하기로 결정합니다.\n",
    "\n",
    "    Args:\n",
    "        state (messages): 현재 상태\n",
    "\n",
    "    Returns:\n",
    "        dict: 메시지에 에이전트 응답이 추가된 업데이트된 상태\n",
    "    \"\"\"\n",
    "    print(\"---에이전트 호출---\")\n",
    "    messages = state[\"messages\"]\n",
    "\n",
    "    # 메세지가 제대로 전달되고 있는지 확인\n",
    "    print(\"에이전트로 전달된 메시지들:\",messages)\n",
    "    \n",
    "    model = ChatOpenAI(temperature=0, streaming=True, model=\"gpt-4o-mini\")\n",
    "\n",
    "    model = model.bind_tools(tools)\n",
    "    response = model.invoke(messages)\n",
    "\n",
    "    #응답을 상태에 추가\n",
    "    state[\"messages\"].append(response)\n",
    "    \n",
    "    return state\n"
   ]
  },
  {
   "cell_type": "code",
   "execution_count": 7,
   "id": "69372ca1-8996-4aca-a85c-d4579d321718",
   "metadata": {},
   "outputs": [],
   "source": [
    "def rewrite(state):\n",
    "    \"\"\"\n",
    "    질문을 재작성(변형)하여 더 나은 질문을 생성합니다.\n",
    "\n",
    "    Args:\n",
    "        state (messages): 현재 상태\n",
    "\n",
    "    Returns:\n",
    "        dict: 재구성된 질문으로 업데이트된 상태\n",
    "    \"\"\"\n",
    "\n",
    "    print(\"---질문 변형---\")\n",
    "    messages = state[\"messages\"]\n",
    "    question = messages[0].content\n",
    "\n",
    "    msg = [\n",
    "        HumanMessage(\n",
    "            content=f\"\"\"다음 입력을 보고 근본적인 의도나 의미를 파악해보세요.\\n\n",
    "            초기 질문은 다음과 같습니다:\n",
    "            \\n-------\\n\n",
    "            {question}\n",
    "            \\n-------\\n\n",
    "            개선된 질문을 만들어주세요:\"\"\",\n",
    "        )\n",
    "    ]\n",
    "    # 평가자\n",
    "    model = ChatOpenAI(temperature=0, model=\"gpt-4o-mini\", streaming=True)\n",
    "    response = model.invoke(msg)\n",
    "\n",
    "    # 반환되는 메세지가 올바른지 확인 \n",
    "    print(\"Rewrite 단계에서의 응답:\", response)\n",
    "\n",
    "    # 상태 업데이트 - 기존 메시지에 새 메시지를 추가하여 상태를 업데이트\n",
    "    state[\"messages\"].append(response)\n",
    "    \n",
    "    return state"
   ]
  },
  {
   "cell_type": "code",
   "execution_count": 8,
   "id": "c000cb97-8a6b-46d7-a9bd-b9fbdf409409",
   "metadata": {},
   "outputs": [],
   "source": [
    "def generate(state):\n",
    "    \"\"\"\n",
    "    답변 생성\n",
    "\n",
    "    Args:\n",
    "        state (messages): 현재 상태\n",
    "\n",
    "    Returns:\n",
    "         dict: 재구성된 질문으로 업데이트된 상태\n",
    "    \"\"\"\n",
    "    print(\"---생성---\")\n",
    "    messages = state[\"messages\"]\n",
    "    question = messages[0].content\n",
    "    last_message = messages[-1]\n",
    "\n",
    "    question = messages[0].content\n",
    "    docs = last_message.content\n",
    "\n",
    "    # 프롬프트\n",
    "    # prompt = hub.pull(\"rlm/rag-prompt\")\n",
    "    # 프롬프트 정의\n",
    "    prompt = PromptTemplate(\n",
    "    template=\"\"\"당신은 질문-답변 작업을 위한 어시스턴트입니다. \n",
    "    아래 제공된 문맥을 사용하여 질문에 답변해주세요. \n",
    "    답을 모를 경우 '모르겠습니다'라고 말해주세요. 답변은 최대 3문장으로 간결하게 작성하세요.\n",
    "    \n",
    "    질문: {question}\n",
    "    문맥: {context}\n",
    "    답변: \"\"\",\n",
    "    input_variables=[\"context\", \"question\"],\n",
    "    )\n",
    "\n",
    "    # LLM\n",
    "    llm = ChatOpenAI(model_name=\"gpt-3.5-turbo\", temperature=0, streaming=True)\n",
    "    \n",
    "\n",
    "    # 체인\n",
    "    rag_chain = prompt | llm | StrOutputParser()\n",
    "\n",
    "    # 실행\n",
    "    response = rag_chain.invoke({\"context\": docs, \"question\": question})\n",
    "    \n",
    "    return {\"messages\": [response]}"
   ]
  },
  {
   "cell_type": "markdown",
   "id": "4a102b5e-ea5e-427f-adea-5963875c96e9",
   "metadata": {},
   "source": [
    "### Graph\n",
    "LangGraph를 사용하여 워크플로우 그래프를 생성하고, 노드와 경로를 설정합니다."
   ]
  },
  {
   "cell_type": "code",
   "execution_count": 9,
   "id": "fe022fa5-f9e0-4c1f-8254-7d5123daceec",
   "metadata": {},
   "outputs": [],
   "source": [
    "from langgraph.graph import END, StateGraph, START\n",
    "from langgraph.prebuilt import ToolNode\n",
    "\n",
    "# 새로운 그래프를 정의합니다.\n",
    "workflow = StateGraph(AgentState)\n",
    "\n",
    "# 순환할 노드들을 정의합니다.\n",
    "workflow.add_node(\"agent\", agent)  # 에이전트 노드\n",
    "retrieve = ToolNode([retriever_tool])\n",
    "workflow.add_node(\"retrieve\", retrieve)  # 검색 도구 노드\n",
    "workflow.add_node(\"rewrite\", rewrite)  # 질문 재작성 노드\n",
    "workflow.add_node(\n",
    "    \"generate\", generate\n",
    ")  # 문서가 관련성이 있다고 판단된 후 응답 생성 노드\n",
    "# 에이전트 노드를 호출하여 검색을 결정합니다.\n",
    "workflow.add_edge(START, \"agent\")\n",
    "\n",
    "# 검색 여부를 결정합니다.\n",
    "workflow.add_conditional_edges(\n",
    "    \"agent\",\n",
    "    # 에이전트 결정 평가\n",
    "    tools_condition,\n",
    "    {\n",
    "        # 조건 출력을 그래프 내 노드로 변환, 반환 값: 실행 노드\n",
    "        \"tools\": \"retrieve\",\n",
    "        END: \"generate\",\n",
    "    },\n",
    ")\n",
    "\n",
    "# 검색 후 문서 관련성 평가\n",
    "workflow.add_conditional_edges(\n",
    "    \"retrieve\",\n",
    "    # 에이전트 결정 평가\n",
    "    grade_documents,\n",
    "    {\n",
    "        # 조건 출력을 그래프 내 노드로 변환, 반환 값: 실행 노드\n",
    "        \"generate\" : \"generate\",\n",
    "        \"rewrite\" : \"rewrite\"\n",
    "    }\n",
    ")\n",
    "workflow.add_edge(\"generate\", END)\n",
    "workflow.add_edge(\"rewrite\", \"agent\")\n",
    "\n",
    "# 컴파일\n",
    "graph = workflow.compile()"
   ]
  },
  {
   "cell_type": "code",
   "execution_count": 10,
   "id": "72c94819-f36b-43c6-ad68-58b40fa03038",
   "metadata": {},
   "outputs": [
    {
     "data": {
      "image/png": "[encoded data removed]",
      "text/plain": [
       "<IPython.core.display.Image object>"
      ]
     },
     "metadata": {},
     "output_type": "display_data"
    }
   ],
   "source": [
    "from IPython.display import Image, display\n",
    "\n",
    "try:\n",
    "    display(Image(graph.get_graph(xray=True).draw_mermaid_png()))\n",
    "except Exception:\n",
    "    pass"
   ]
  },
  {
   "cell_type": "code",
   "execution_count": 11,
   "id": "443774f7-4556-4352-aac9-fe4cb782c474",
   "metadata": {},
   "outputs": [
    {
     "name": "stdout",
     "output_type": "stream",
     "text": [
      "---에이전트 호출---\n",
      "에이전트로 전달된 메시지들: [HumanMessage(content='삼성전자 주가?', additional_kwargs={}, response_metadata={}, id='0c2676a5-35d5-4d53-8767-b9afa1b4c0c8')]\n",
      "\"노드 'agent'의 출력 결과:\"\n",
      "'---'\n",
      "{ 'messages': [ HumanMessage(content='삼성전자 주가?', additional_kwargs={}, response_metadata={}, id='0c2676a5-35d5-4d53-8767-b9afa1b4c0c8'),\n",
      "                AIMessage(content='', additional_kwargs={'tool_calls': [{'index': 0, 'id': 'call_nuzLavqWWBjs2CovYtu2xXJO', 'function': {'arguments': '{\"query\":\"삼성전자 주가\"}', 'name': 'retrieve_blog_posts'}, 'type': 'function'}]}, response_metadata={'finish_reason': 'tool_calls', 'model_name': 'gpt-4o-mini-2024-07-18', 'system_fingerprint': 'fp_06737a9306'}, id='run-04468089-afd1-461e-a8fd-59e243c79e3c-0', tool_calls=[{'name': 'retrieve_blog_posts', 'args': {'query': '삼성전자 주가'}, 'id': 'call_nuzLavqWWBjs2CovYtu2xXJO', 'type': 'tool_call'}])]}\n",
      "'\\n---\\n'\n",
      "---문서 관련성 평가---\n"
     ]
    },
    {
     "name": "stderr",
     "output_type": "stream",
     "text": [
      "/Users/usermackbookpro/miniconda3/envs/hanbit-langchain/lib/python3.12/site-packages/langchain_openai/chat_models/base.py:1377: UserWarning: Received a Pydantic BaseModel V1 schema. This is not supported by method=\"json_schema\". Please use method=\"function_calling\" or specify schema via JSON Schema or Pydantic V2 BaseModel. Overriding to method=\"function_calling\".\n",
      "  warnings.warn(\n"
     ]
    },
    {
     "name": "stdout",
     "output_type": "stream",
     "text": [
      "---결정: 문서 관련성 있음---\n",
      "\"노드 'retrieve'의 출력 결과:\"\n",
      "'---'\n",
      "{ 'messages': [ ToolMessage(content='삼성전자\\n57,600\\n상승 2,900\\n\\n\\n\\t\\t\\t\\t+5.30%\\n\\t\\t\\t\\t\\n\\n\\n\\nSK하이닉스\\n206,000\\n상승 1,500\\n\\n\\n\\t\\t\\t\\t+0.73%\\n\\n기아\\n98,800\\n하락 700\\n\\n\\n\\t\\t\\t\\t-0.70%\\n\\t\\t\\t\\t\\n\\n\\n\\n삼성전자우\\n47,450\\n상승 1,950\\n\\n\\n\\t\\t\\t\\t+4.29%\\n\\n종목명\\n현재가\\n전일대비\\n등락률\\n\\n\\n\\n\\n삼성전자\\n57,600\\n상승 2,900\\n\\n\\n\\t\\t\\t\\t+5.30%\\n\\nDB하이텍\\n\\t\\t\\t\\t\\t\\t\\t\\t\\t\\n\\n\\t\\t\\t\\t+5.70%\\n\\t\\t\\t\\t\\n\\n\\n\\n\\t\\t\\t\\t\\t\\t\\t\\t\\t삼성전자\\n\\t\\t\\t\\t\\t\\t\\t\\t\\t\\n\\n\\t\\t\\t\\t+5.30%\\n\\t\\t\\t\\t\\n\\n\\n\\n3', name='retrieve_blog_posts', id='d539f7e1-a08d-4009-84b3-a8ae219217a7', tool_call_id='call_nuzLavqWWBjs2CovYtu2xXJO')]}\n",
      "'\\n---\\n'\n",
      "---생성---\n",
      "\"노드 'generate'의 출력 결과:\"\n",
      "'---'\n",
      "{'messages': ['57,600원이며 전일대비 2,900원 상승하여 +5.30%입니다.']}\n",
      "'\\n---\\n'\n"
     ]
    }
   ],
   "source": [
    "import pprint\n",
    "\n",
    "inputs = {\n",
    "    \"messages\": [\n",
    "        (\"user\", \"삼성전자 주가?\"),\n",
    "    ]\n",
    "}\n",
    "\n",
    "# inputs = {\n",
    "#     \"messages\": [\n",
    "#         (\"user\", \"agentic rag가 어떤의미야?\"),\n",
    "#     ]\n",
    "# }\n",
    "\n",
    "for output in graph.stream(inputs):\n",
    "    for key, value in output.items():\n",
    "        pprint.pprint(f\"노드 '{key}'의 출력 결과:\")\n",
    "        pprint.pprint(\"---\")\n",
    "        pprint.pprint(value, indent=2, width=80, depth=None)\n",
    "    pprint.pprint(\"\\n---\\n\")"
   ]
  }
 ],
 "metadata": {
  "kernelspec": {
   "display_name": "Python 3 (ipykernel)",
   "language": "python",
   "name": "python3"
  },
  "language_info": {
   "codemirror_mode": {
    "name": "ipython",
    "version": 3
   },
   "file_extension": ".py",
   "mimetype": "text/x-python",
   "name": "python",
   "nbconvert_exporter": "python",
   "pygments_lexer": "ipython3",
   "version": "3.12.9"
  }
 },
 "nbformat": 4,
 "nbformat_minor": 5
}
